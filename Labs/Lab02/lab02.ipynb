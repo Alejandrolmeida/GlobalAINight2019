{
 "cells": [
  {
   "cell_type": "markdown",
   "metadata": {},
   "source": [
    "![](images/logoai.png)\n",
    "![](images/globaai.jpg)"
   ]
  },
  {
   "cell_type": "markdown",
   "metadata": {},
   "source": [
    "### The Origin of MNIST Handwritten Digit Dataset\n",
    "The MNIST Handwritten Digit Dataset is contributed by Yann LeCun, Corinna Cortes and Christopher Burges to train a machine learning model to solve the issue of handwritten digit classification. Each image is a 28 by 28 pixel square (784 pixels total). This dataset contains 60,000 training images and 10,000 testing images in total for 10 different digits (0 to 10)."
   ]
  },
  {
   "cell_type": "markdown",
   "metadata": {},
   "source": [
    "### What is Pytorch?\n",
    "PyTorch is an open-source deep learning library for Python, based on Torch, used for applications such as natural language processing, image recognition, image classification, text processing, etc. It is primarily developed by Facebook’s artificial-intelligence research group. PyTorch provides two high-level features:\n",
    "- Tensor computation (like NumPy) with strong GPU acceleration\n",
    "- Deep neural networks built on a tape-based autodiff system"
   ]
  },
  {
   "cell_type": "markdown",
   "metadata": {},
   "source": [
    "### What is Azure Notebook?\n",
    "Azure Notebooks is a free service for anyone to develop and run code in their browser using Jupyter. Jupyter is an open source project that enables combing markdown prose, executable code, and graphics onto a single canvas. Azure Notebooks currently supports Python 2, Python 3, R, F# and their popular packages. All the developed code and used data will be stored on the cloud."
   ]
  },
  {
   "cell_type": "markdown",
   "metadata": {},
   "source": [
    "#### Step 1: Log in to Microsoft Azure Notebook:\n",
    "Go to https://notebooks.azure.com/, login with your credential. After you successfully login, the screen will be automatically jumped to the figure as shown below.\n",
    "![](images/aznotebooks1.png)"
   ]
  },
  {
   "cell_type": "markdown",
   "metadata": {},
   "source": [
    "Click on “My Projects” on the task-bar. Then, create a new project by pressing the button “New Project”.\n",
    "Fill in the project name. After that, click the button “Create”.\n",
    "A new folder for this project is created.\n",
    "![](images/aznotebooks2.png)"
   ]
  },
  {
   "cell_type": "markdown",
   "metadata": {},
   "source": [
    "![](images/aznotebooks3.png)"
   ]
  },
  {
   "cell_type": "markdown",
   "metadata": {},
   "source": [
    "#### Step 2: Create new notebook named “demo”\n",
    "Click on the button “+”, choose “Notebook”.\n",
    "Fill in the Notebook Name as “Demo”. Choose “Python 3.6” and click button “New”.\n",
    "A new notebook is created now for this project.\n",
    "![](images/aznotebooks4.png)"
   ]
  },
  {
   "cell_type": "markdown",
   "metadata": {},
   "source": [
    "# Digit Recognition Task\n",
    "If this is your first time running a notebook - welcome!! Notebooks are awesome because they let us play around and experiment\n",
    "with code with near-instant feedback. Some pointers:\n",
    "1. To execute a cell, click on it and hit SHIFT-Enter\n",
    "2. Once something is executed, the variables are in memory - inspect them!\n",
    "\n",
    "## Getting Started\n",
    "This first cell imports the necessary libraries so we can get started:\n",
    "1. Numpy — A fundamental package for scientific computing with Python. It contains a powerful N-dimensional array object, sophisticated (broadcasting) functions, tools for integrating C/C++ and Fortran code and useful linear algebra, Fourier transform, and random number capabilities.\n",
    "2. Matplotlib — A Python 2D plotting library which produces publication quality figures in a variety of hard copy formats and interactive environments across platforms.\n",
    "3. Torch — An open-source machine learning library, a scientific computing framework, and a script language based on the Lua programming language.\n",
    "4. Torchvision — A package consists of popular datasets, model architectures, and common image transformations for computer vision.\n",
    "5. Time — A module provides various time-related functions."
   ]
  },
  {
   "cell_type": "code",
   "execution_count": 24,
   "metadata": {},
   "outputs": [],
   "source": [
    "import numpy as np\n",
    "import torch\n",
    "import torchvision\n",
    "import torch.onnx as onnx\n",
    "import torch.nn.functional as F\n",
    "import matplotlib.pyplot as plt\n",
    "\n",
    "from time import time\n",
    "from torch import nn, optim\n",
    "from collections import defaultdict\n",
    "from torch.autograd import Variable\n",
    "from torch.utils.data import DataLoader\n",
    "from torchvision import datasets, transforms"
   ]
  },
  {
   "cell_type": "markdown",
   "metadata": {},
   "source": [
    "Let's also check to make sure torch thinks we can use the GPU."
   ]
  },
  {
   "cell_type": "code",
   "execution_count": 25,
   "metadata": {},
   "outputs": [
    {
     "data": {
      "text/plain": [
       "True"
      ]
     },
     "execution_count": 25,
     "metadata": {},
     "output_type": "execute_result"
    }
   ],
   "source": [
    "torch.cuda.is_available()"
   ]
  },
  {
   "cell_type": "code",
   "execution_count": 70,
   "metadata": {},
   "outputs": [
    {
     "name": "stdout",
     "output_type": "stream",
     "text": [
      "Using cpu device\n"
     ]
    }
   ],
   "source": [
    "no_cuda=True\n",
    "use_cuda = not no_cuda and torch.cuda.is_available()\n",
    "device = torch.device(\"cuda\" if use_cuda else \"cpu\")\n",
    "print('Using {} device'.format(device))"
   ]
  },
  {
   "cell_type": "markdown",
   "metadata": {},
   "source": [
    "This should be True. If you see False here, something is wrong and torch isn't going to be able to run on the GPU.\n",
    "\n",
    "Possible causes to seeing False at this point:\n",
    "\n",
    "You don't have a GPU (see above with regards to the nvidia-smi check)\n",
    "You have a CPU-only version of pytorch installed, in which case you need to install the gpu enabled version\n",
    "You don't have the CUDA library\n",
    "You don't have the CUDA library path included on either the PATH or LD_LIBRARY_PATH variables\n",
    "You have the wrong version of CUDA for the version of pytorch\n",
    "Probably other possiblities"
   ]
  },
  {
   "cell_type": "markdown",
   "metadata": {},
   "source": [
    " ## Data!\n",
    " Without data we really can't do anything with machine learning. At this point we have our sharp question **can we predict a digit given a 28x28 vector of numbers?**\n",
    " \n",
    " Once that is all squared away we need to take a look at our data. The next cell is a helper function that visualizes the the digits (a sanity check).\n"
   ]
  },
  {
   "cell_type": "markdown",
   "metadata": {},
   "source": [
    "### Define the pre-processing methods"
   ]
  },
  {
   "cell_type": "markdown",
   "metadata": {},
   "source": [
    "Image transformations are applied onto the images so they can be fed into the model later for training or testing and improve the model accuracy.\n",
    "\n",
    "- transforms.RandomRotation(10) — Rotate the image in the range of [-10, 10] degrees randomly.\n",
    "- transforms.ToTensor() — Convert theimage to tensor.\n",
    "- transforms.Normalize((0.5,), (0.5,)) — Normalize the tensor image with mean and standard deviation. In this case, mean=0.5 and std=0.5."
   ]
  },
  {
   "cell_type": "code",
   "execution_count": 27,
   "metadata": {},
   "outputs": [],
   "source": [
    "transform = transforms.Compose([transforms.RandomRotation(10), \n",
    "                                transforms.ToTensor(),\n",
    "                                transforms.Normalize((0.5,), (0.5,))\n",
    "                              ])"
   ]
  },
  {
   "cell_type": "markdown",
   "metadata": {},
   "source": [
    "### Preparation of training and testing dataset and dataloader"
   ]
  },
  {
   "cell_type": "markdown",
   "metadata": {},
   "source": [
    "The operations of these codes are:\n",
    "Download the MNIST handwritten digit recognition dataset into the “train” and “test” folders.\n",
    "Generate the train and test datasets by inputting the downloaded images and transforming them based on defined pre-processing methods in the previous step.\n",
    "Define the train and test loaders by setting 64 images will be fed into the model in each epoch randomly for training and non-randomly for testing."
   ]
  },
  {
   "cell_type": "markdown",
   "metadata": {},
   "source": [
    "The next cell downloads the standard digit dataset (called MNIST). The `transform` and `target_transform` parts of this call add some conversion steps to make the data more suitable for the models we will try."
   ]
  },
  {
   "cell_type": "code",
   "execution_count": 28,
   "metadata": {},
   "outputs": [],
   "source": [
    "trainset = datasets.MNIST('train', download=True, train=True, transform=transform)\n",
    "testset = datasets.MNIST('test', download=True, train=False, transform=transform)\n",
    "trainloader = torch.utils.data.DataLoader(trainset, batch_size=64, shuffle=True)\n",
    "testloader = torch.utils.data.DataLoader(testset, batch_size=64, shuffle=False)"
   ]
  },
  {
   "cell_type": "markdown",
   "metadata": {},
   "source": [
    "Here is our sanity check!"
   ]
  },
  {
   "cell_type": "code",
   "execution_count": 29,
   "metadata": {},
   "outputs": [
    {
     "data": {
      "text/plain": [
       "Dataset MNIST\n",
       "    Number of datapoints: 60000\n",
       "    Root location: train\n",
       "    Split: Train\n",
       "    StandardTransform\n",
       "Transform: Compose(\n",
       "               RandomRotation(degrees=(-10, 10), resample=False, expand=False)\n",
       "               ToTensor()\n",
       "               Normalize(mean=(0.5,), std=(0.5,))\n",
       "           )"
      ]
     },
     "execution_count": 29,
     "metadata": {},
     "output_type": "execute_result"
    }
   ],
   "source": [
    "trainset"
   ]
  },
  {
   "cell_type": "markdown",
   "metadata": {},
   "source": [
    "### Data Visualization"
   ]
  },
  {
   "cell_type": "markdown",
   "metadata": {},
   "source": [
    "The images can be reconstructed and plotted by loading one batch of images."
   ]
  },
  {
   "cell_type": "code",
   "execution_count": 30,
   "metadata": {},
   "outputs": [
    {
     "name": "stdout",
     "output_type": "stream",
     "text": [
      "torch.Size([64, 1, 28, 28])\n",
      "torch.Size([64])\n"
     ]
    }
   ],
   "source": [
    "dataiter = iter(trainloader)\n",
    "images, labels = dataiter.next()\n",
    "print(images.shape)\n",
    "print(labels.shape)"
   ]
  },
  {
   "cell_type": "markdown",
   "metadata": {},
   "source": [
    "As you can see, the shape of the image is (64, 1, 28, 28). For each batch except the last batch, there are 64 grey-scale images. Each image contains 1 channel (grey-scale), 28 pixels of width and 28 pixels of height."
   ]
  },
  {
   "cell_type": "markdown",
   "metadata": {},
   "source": [
    "Print the unique elements of our dataset:"
   ]
  },
  {
   "cell_type": "code",
   "execution_count": 31,
   "metadata": {},
   "outputs": [
    {
     "name": "stdout",
     "output_type": "stream",
     "text": [
      "[0 1 2 3 4 5 6 7 8 9]\n"
     ]
    }
   ],
   "source": [
    "y_unq = np.unique(labels)\n",
    "print(np.unique(labels))"
   ]
  },
  {
   "cell_type": "code",
   "execution_count": 32,
   "metadata": {},
   "outputs": [],
   "source": [
    "labellist=[]\n",
    "for images, labels in trainloader:\n",
    "    labellist.append(labels[0].item())"
   ]
  },
  {
   "cell_type": "code",
   "execution_count": 33,
   "metadata": {},
   "outputs": [
    {
     "data": {
      "image/png": "[encoded data removed]",
      "text/plain": [
       "<Figure size 432x288 with 1 Axes>"
      ]
     },
     "metadata": {
      "needs_background": "light"
     },
     "output_type": "display_data"
    }
   ],
   "source": [
    "bin_edges = np.concatenate([y_unq, y_unq[[-1]] + 1])\n",
    "plt.hist(labellist, bins=bin_edges)\n",
    "plt.xlabel('Class label')\n",
    "plt.ylabel('Count')\n",
    "plt.title('Training label distribution')\n",
    "plt.show()"
   ]
  },
  {
   "cell_type": "markdown",
   "metadata": {},
   "source": [
    "Feel free to take a look at the data by printing out `x` and/or `y`. They really are just numbers! A couple of things that might seem strange when you print them out:\n",
    "1. \"I thought you said the images were 784 sized vectors of 0-255???\" - They were! We just normalized the vectors by dividing by 255 so the new range is 0-1 (it makes the numbers more tidy)\n",
    "2. \"I thought the `y` was a numerical answer?? Instead it's a 10 sized vector!\" - Yes - this is called a one-hot encoding of the answer. Now there's a `1` in the index of the right answer. Again, this makes the math work a lot better for the models we will be creating."
   ]
  },
  {
   "cell_type": "code",
   "execution_count": 34,
   "metadata": {},
   "outputs": [
    {
     "name": "stdout",
     "output_type": "stream",
     "text": [
      "tensor([[[-1.0000, -1.0000, -1.0000, -1.0000, -1.0000, -1.0000, -1.0000,\n",
      "          -1.0000, -1.0000, -1.0000, -1.0000, -1.0000, -1.0000, -1.0000,\n",
      "          -1.0000, -1.0000, -1.0000, -1.0000, -1.0000, -1.0000, -1.0000,\n",
      "          -1.0000, -1.0000, -1.0000, -1.0000, -1.0000, -1.0000, -1.0000],\n",
      "         [-1.0000, -1.0000, -1.0000, -1.0000, -1.0000, -1.0000, -1.0000,\n",
      "          -1.0000, -1.0000, -1.0000, -1.0000, -1.0000, -1.0000, -1.0000,\n",
      "          -1.0000, -1.0000, -1.0000, -1.0000, -1.0000, -1.0000, -1.0000,\n",
      "          -1.0000, -1.0000, -1.0000, -1.0000, -1.0000, -1.0000, -1.0000],\n",
      "         [-1.0000, -1.0000, -1.0000, -1.0000, -1.0000, -1.0000, -1.0000,\n",
      "          -1.0000, -1.0000, -1.0000, -1.0000, -1.0000, -1.0000, -1.0000,\n",
      "          -1.0000, -1.0000, -1.0000, -1.0000, -1.0000, -1.0000, -1.0000,\n",
      "          -1.0000, -1.0000, -1.0000, -1.0000, -1.0000, -1.0000, -1.0000],\n",
      "         [-1.0000, -1.0000, -1.0000, -1.0000, -1.0000, -1.0000, -1.0000,\n",
      "          -1.0000, -1.0000, -1.0000, -1.0000, -1.0000, -1.0000, -1.0000,\n",
      "          -1.0000, -1.0000, -1.0000, -1.0000, -1.0000, -1.0000, -1.0000,\n",
      "          -1.0000, -1.0000, -1.0000, -1.0000, -1.0000, -1.0000, -1.0000],\n",
      "         [-1.0000, -1.0000, -1.0000, -1.0000, -1.0000, -1.0000, -1.0000,\n",
      "          -1.0000, -1.0000, -1.0000, -1.0000, -1.0000, -1.0000, -1.0000,\n",
      "          -1.0000, -1.0000, -1.0000, -1.0000, -1.0000, -1.0000, -1.0000,\n",
      "          -1.0000, -1.0000, -1.0000, -1.0000, -1.0000, -1.0000, -1.0000],\n",
      "         [-1.0000, -1.0000, -1.0000, -1.0000, -1.0000, -1.0000, -1.0000,\n",
      "          -1.0000, -1.0000, -0.7647, -0.7176, -1.0000, -1.0000, -0.9765,\n",
      "          -0.8588, -0.8588, -0.8588, -0.0118, -1.0000, -1.0000, -1.0000,\n",
      "          -1.0000, -1.0000, -1.0000, -1.0000, -1.0000, -1.0000, -1.0000],\n",
      "         [-1.0000, -1.0000, -1.0000, -1.0000, -1.0000, -1.0000, -1.0000,\n",
      "          -1.0000, -0.6157,  0.8667,  0.9843, -0.2627,  0.2078,  0.3333,\n",
      "           0.9843,  0.9843,  0.9843,  0.9843,  0.0667,  0.3725, -0.7961,\n",
      "           0.3020,  1.0000,  0.9373, -0.0039, -1.0000, -1.0000, -1.0000],\n",
      "         [-1.0000, -1.0000, -1.0000, -1.0000, -1.0000, -1.0000, -1.0000,\n",
      "          -1.0000, -0.8588,  0.7176,  0.9843,  0.9843,  0.9843,  0.9843,\n",
      "           0.9843,  0.9843,  0.9843,  0.9843,  0.9843,  0.7647,  0.3490,\n",
      "           0.9843,  0.8980,  0.5294, -0.4980, -1.0000, -1.0000, -1.0000],\n",
      "         [-1.0000, -1.0000, -1.0000, -1.0000, -1.0000, -1.0000, -1.0000,\n",
      "          -1.0000, -1.0000, -0.3725,  0.2235,  0.9843,  0.9843,  0.9843,\n",
      "           0.9843,  0.5529,  0.4275,  0.9373,  0.9686, -0.2706, -0.3569,\n",
      "          -0.3569, -0.5608, -0.6941, -1.0000, -1.0000, -1.0000, -1.0000],\n",
      "         [-1.0000, -1.0000, -1.0000, -1.0000, -1.0000, -1.0000, -1.0000,\n",
      "          -1.0000, -1.0000, -1.0000, -0.8902, -0.1608,  0.9843,  0.9843,\n",
      "           0.6078, -0.9137, -1.0000, -0.6627,  0.8902, -1.0000, -1.0000,\n",
      "          -1.0000, -1.0000, -1.0000, -1.0000, -1.0000, -1.0000, -1.0000],\n",
      "         [-1.0000, -1.0000, -1.0000, -1.0000, -1.0000, -1.0000, -1.0000,\n",
      "          -1.0000, -1.0000, -1.0000, -1.0000,  0.2078,  0.9843,  0.9843,\n",
      "          -0.2941, -1.0000, -1.0000, -1.0000,  0.2078, -1.0000, -1.0000,\n",
      "          -1.0000, -1.0000, -1.0000, -1.0000, -1.0000, -1.0000, -1.0000],\n",
      "         [-1.0000, -1.0000, -1.0000, -1.0000, -1.0000, -1.0000, -1.0000,\n",
      "          -1.0000, -1.0000, -1.0000, -1.0000,  0.0902,  0.9843,  0.4902,\n",
      "          -0.9843, -1.0000, -1.0000, -1.0000, -1.0000, -1.0000, -1.0000,\n",
      "          -1.0000, -1.0000, -1.0000, -1.0000, -1.0000, -1.0000, -1.0000],\n",
      "         [-1.0000, -1.0000, -1.0000, -1.0000, -1.0000, -1.0000, -1.0000,\n",
      "          -1.0000, -1.0000, -1.0000, -1.0000, -0.9137,  0.4902,  0.9843,\n",
      "          -0.4510, -1.0000, -1.0000, -1.0000, -1.0000, -1.0000, -1.0000,\n",
      "          -1.0000, -1.0000, -1.0000, -1.0000, -1.0000, -1.0000, -1.0000],\n",
      "         [-1.0000, -1.0000, -1.0000, -1.0000, -1.0000, -1.0000, -1.0000,\n",
      "          -1.0000, -1.0000, -1.0000, -1.0000, -1.0000, -0.7255,  0.8902,\n",
      "           0.7647,  0.2549, -0.1529, -1.0000, -1.0000, -1.0000, -1.0000,\n",
      "          -1.0000, -1.0000, -1.0000, -1.0000, -1.0000, -1.0000, -1.0000],\n",
      "         [-1.0000, -1.0000, -1.0000, -1.0000, -1.0000, -1.0000, -1.0000,\n",
      "          -1.0000, -1.0000, -1.0000, -1.0000, -1.0000, -1.0000, -0.3647,\n",
      "           0.8824,  0.9843,  0.9843, -0.9922, -1.0000, -1.0000, -1.0000,\n",
      "          -1.0000, -1.0000, -1.0000, -1.0000, -1.0000, -1.0000, -1.0000],\n",
      "         [-1.0000, -1.0000, -1.0000, -1.0000, -1.0000, -1.0000, -1.0000,\n",
      "          -1.0000, -1.0000, -1.0000, -1.0000, -1.0000, -1.0000, -1.0000,\n",
      "          -0.6471,  0.4588,  0.9843, -0.0667, -0.8039, -1.0000, -1.0000,\n",
      "          -1.0000, -1.0000, -1.0000, -1.0000, -1.0000, -1.0000, -1.0000],\n",
      "         [-1.0000, -1.0000, -1.0000, -1.0000, -1.0000, -1.0000, -1.0000,\n",
      "          -1.0000, -1.0000, -1.0000, -1.0000, -1.0000, -1.0000, -1.0000,\n",
      "          -1.0000, -0.8745, -0.2706,  0.9843,  0.1765, -0.7882, -1.0000,\n",
      "          -1.0000, -1.0000, -1.0000, -1.0000, -1.0000, -1.0000, -1.0000],\n",
      "         [-1.0000, -1.0000, -1.0000, -1.0000, -1.0000, -1.0000, -1.0000,\n",
      "          -1.0000, -1.0000, -1.0000, -1.0000, -1.0000, -1.0000, -1.0000,\n",
      "          -1.0000, -1.0000, -1.0000,  0.9765,  0.9843,  0.4667, -1.0000,\n",
      "          -1.0000, -1.0000, -1.0000, -1.0000, -1.0000, -1.0000, -1.0000],\n",
      "         [-1.0000, -1.0000, -1.0000, -1.0000, -1.0000, -1.0000, -1.0000,\n",
      "          -1.0000, -1.0000, -1.0000, -1.0000, -1.0000, -1.0000, -0.6392,\n",
      "           0.0196,  0.4353,  0.9843,  0.9843,  0.9529, -0.4980, -1.0000,\n",
      "          -1.0000, -1.0000, -1.0000, -1.0000, -1.0000, -1.0000, -1.0000],\n",
      "         [-1.0000, -1.0000, -1.0000, -1.0000, -1.0000, -1.0000, -1.0000,\n",
      "          -1.0000, -1.0000, -0.8118, -1.0000, -0.6941,  0.1608,  0.7961,\n",
      "           0.9843,  0.9843,  0.9843,  0.9843,  0.6235, -0.9843, -1.0000,\n",
      "          -1.0000, -1.0000, -1.0000, -1.0000, -1.0000, -1.0000, -1.0000],\n",
      "         [-1.0000, -1.0000, -1.0000, -1.0000, -1.0000, -1.0000, -1.0000,\n",
      "          -0.8196, -0.4824,  0.6706, -0.1059,  0.7333,  0.9843,  0.9843,\n",
      "           0.9843,  0.9843,  0.5765,  0.9608,  0.4275, -1.0000, -1.0000,\n",
      "          -1.0000, -1.0000, -1.0000, -1.0000, -1.0000, -1.0000, -1.0000],\n",
      "         [-1.0000, -1.0000, -1.0000, -1.0000, -1.0000, -0.8588,  0.3412,\n",
      "           0.7176,  0.9843,  0.9843,  0.9843,  0.9843,  0.9843,  0.9843,\n",
      "           0.5529, -0.3647, -0.9843, -0.3882, -1.0000, -1.0000, -1.0000,\n",
      "          -1.0000, -1.0000, -1.0000, -1.0000, -1.0000, -1.0000, -1.0000],\n",
      "         [-1.0000, -1.0000, -1.0000, -0.5686,  0.3490,  0.7725,  0.9843,\n",
      "           0.9843,  0.9843,  0.9843,  0.9843,  0.9843,  0.5294, -0.3725,\n",
      "          -0.9294, -1.0000, -1.0000, -1.0000, -1.0000, -1.0000, -1.0000,\n",
      "          -1.0000, -1.0000, -1.0000, -1.0000, -1.0000, -1.0000, -1.0000],\n",
      "         [-1.0000, -1.0000, -1.0000,  0.0667,  0.9843,  0.9843,  0.9843,\n",
      "           0.6627,  0.0588,  0.0353,  0.9137,  0.0431, -0.9137, -1.0000,\n",
      "          -1.0000, -1.0000, -1.0000, -1.0000, -1.0000, -1.0000, -1.0000,\n",
      "          -1.0000, -1.0000, -1.0000, -1.0000, -1.0000, -1.0000, -1.0000],\n",
      "         [-1.0000, -1.0000, -1.0000, -1.0000, -1.0000, -1.0000, -1.0000,\n",
      "          -1.0000, -1.0000, -1.0000, -1.0000, -1.0000, -1.0000, -1.0000,\n",
      "          -1.0000, -1.0000, -1.0000, -1.0000, -1.0000, -1.0000, -1.0000,\n",
      "          -1.0000, -1.0000, -1.0000, -1.0000, -1.0000, -1.0000, -1.0000],\n",
      "         [-1.0000, -1.0000, -1.0000, -1.0000, -1.0000, -1.0000, -1.0000,\n",
      "          -1.0000, -1.0000, -1.0000, -1.0000, -1.0000, -1.0000, -1.0000,\n",
      "          -1.0000, -1.0000, -1.0000, -1.0000, -1.0000, -1.0000, -1.0000,\n",
      "          -1.0000, -1.0000, -1.0000, -1.0000, -1.0000, -1.0000, -1.0000],\n",
      "         [-1.0000, -1.0000, -1.0000, -1.0000, -1.0000, -1.0000, -1.0000,\n",
      "          -1.0000, -1.0000, -1.0000, -1.0000, -1.0000, -1.0000, -1.0000,\n",
      "          -1.0000, -1.0000, -1.0000, -1.0000, -1.0000, -1.0000, -1.0000,\n",
      "          -1.0000, -1.0000, -1.0000, -1.0000, -1.0000, -1.0000, -1.0000],\n",
      "         [-1.0000, -1.0000, -1.0000, -1.0000, -1.0000, -1.0000, -1.0000,\n",
      "          -1.0000, -1.0000, -1.0000, -1.0000, -1.0000, -1.0000, -1.0000,\n",
      "          -1.0000, -1.0000, -1.0000, -1.0000, -1.0000, -1.0000, -1.0000,\n",
      "          -1.0000, -1.0000, -1.0000, -1.0000, -1.0000, -1.0000, -1.0000]]])\n",
      "5\n"
     ]
    }
   ],
   "source": [
    "x, y = trainset[0]\n",
    "print(x)\n",
    "print(y)"
   ]
  },
  {
   "cell_type": "markdown",
   "metadata": {},
   "source": [
    "### Plot the images with Matplotlib library."
   ]
  },
  {
   "cell_type": "code",
   "execution_count": 37,
   "metadata": {},
   "outputs": [
    {
     "data": {
      "image/png": "[encoded data removed]",
      "text/plain": [
       "<Figure size 432x288 with 30 Axes>"
      ]
     },
     "metadata": {
      "needs_background": "light"
     },
     "output_type": "display_data"
    }
   ],
   "source": [
    "figure = plt.figure()\n",
    "num_of_images = 30\n",
    "for index in range(1, num_of_images + 1):\n",
    "    plt.subplot(6, 10, index)\n",
    "    plt.axis('off')\n",
    "    plt.imshow(images[index].numpy().squeeze(), cmap='gray_r')"
   ]
  },
  {
   "cell_type": "markdown",
   "metadata": {},
   "source": [
    "# Choosing Models and define the network architecture\n",
    "![](images/network.png)\n",
    "Now that we have some data it's time to start picking models we think might work. This is where the science part of data-science comes in: we guess and then check if our assumptions were right. Imagine models like water pipes that have to distribute water to 10 different hoses depending on 784 knobs. These 784 knobs represent the individual pixels in the digit and the 10 hoses at the end represent the actual number (or at least the index of the one with the most water coming out of it). Our job now is to pick the plumbing in between.\n",
    "\n",
    "The next three cells represent three different constructions in an increasingly more complex order:\n",
    "\n",
    "1. The first is a simple linear model,\n",
    "2. The second is a 3 layer Neural Network,\n",
    "3. and the last is a full convolutional neural network\n",
    "\n",
    "While it is out of the scope of this tutorial to fully explain how they work, just imagine they are basically plumbing with internal knobs that have to be tuned to produce the right water pressure at the end to push the most water out of the right\n",
    "index. As you go down each cell the plumbing and corresponding internal knobs just get more complicated."
   ]
  },
  {
   "cell_type": "code",
   "execution_count": 38,
   "metadata": {},
   "outputs": [],
   "source": [
    "class SimpleLinear(nn.Module):\n",
    "    def __init__(self):\n",
    "        super(SimpleLinear, self).__init__()\n",
    "        self.layer1 = nn.Linear(28*28, 10)\n",
    "\n",
    "    def forward(self, x):\n",
    "        x = self.layer1(x)\n",
    "        return F.softmax(x, dim=1)"
   ]
  },
  {
   "cell_type": "code",
   "execution_count": 39,
   "metadata": {},
   "outputs": [],
   "source": [
    "class NeuralNework(nn.Module):\n",
    "    def __init__(self):\n",
    "        super(NeuralNework, self).__init__()\n",
    "        self.layer1 = nn.Linear(28*28, 512)\n",
    "        self.layer2 = nn.Linear(512, 512)\n",
    "        self.output = nn.Linear(512, 10)\n",
    "\n",
    "    def forward(self, x):\n",
    "        x = F.relu(self.layer1(x))\n",
    "        x = F.relu(self.layer2(x))\n",
    "        x = self.output(x)\n",
    "        return F.softmax(x, dim=1)"
   ]
  },
  {
   "cell_type": "code",
   "execution_count": 40,
   "metadata": {},
   "outputs": [],
   "source": [
    "class CNN(nn.Module):\n",
    "    def __init__(self):\n",
    "        super(CNN, self).__init__()\n",
    "        self.conv1 = nn.Conv2d(1, 10, kernel_size=5)\n",
    "        self.conv2 = nn.Conv2d(10, 20, kernel_size=5)\n",
    "        self.conv2_drop = nn.Dropout2d()\n",
    "        self.fc1 = nn.Linear(320, 50)\n",
    "        self.fc2 = nn.Linear(50, 10)\n",
    "\n",
    "    def forward(self, x):\n",
    "        x = x.view(-1, 1, 28, 28)\n",
    "        x = F.relu(F.max_pool2d(self.conv1(x), 2))\n",
    "        x = F.relu(F.max_pool2d(self.conv2_drop(self.conv2(x)), 2))\n",
    "        x = x.view(-1, 320)\n",
    "        x = F.relu(self.fc1(x))\n",
    "        x = F.dropout(x, training=self.training)\n",
    "        x = self.fc2(x)\n",
    "        return F.softmax(x, dim=1)"
   ]
  },
  {
   "cell_type": "code",
   "execution_count": 41,
   "metadata": {},
   "outputs": [
    {
     "name": "stdout",
     "output_type": "stream",
     "text": [
      "CNN(\n",
      "  (conv1): Conv2d(1, 10, kernel_size=(5, 5), stride=(1, 1))\n",
      "  (conv2): Conv2d(10, 20, kernel_size=(5, 5), stride=(1, 1))\n",
      "  (conv2_drop): Dropout2d(p=0.5, inplace=False)\n",
      "  (fc1): Linear(in_features=320, out_features=50, bias=True)\n",
      "  (fc2): Linear(in_features=50, out_features=10, bias=True)\n",
      ")\n"
     ]
    }
   ],
   "source": [
    "model = CNN().to(device)\n",
    "print(model)"
   ]
  },
  {
   "cell_type": "markdown",
   "metadata": {},
   "source": [
    "# Optimizing Model Parameters. \n",
    "## Define the criterion or loss function and optimizer\n",
    "Now that we have some models it's time to optimize the internal parameters to see if it can do a good job at recognizing digits! It turns out there are some parameters that we can give the optimization algorithm to tune how it trains - these are called hyper-parameters. That's what the two variables represent below:"
   ]
  },
  {
   "cell_type": "code",
   "execution_count": 42,
   "metadata": {},
   "outputs": [],
   "source": [
    "learning_rate = 1e-3\n",
    "batch_size = 64\n",
    "epochs = 5"
   ]
  },
  {
   "cell_type": "markdown",
   "metadata": {},
   "source": [
    "The `learning_rate` basically specifies how fast the algorithm will learn the model parameters. Right now you're probably thinking \"let's set it to fifty million #amirite?\" The best analogy for why this is a bad idea is golf. I'm a terrible golfist (is that right?) so I don't really know anything - but pretend you are trying to sink a shot (again sorry) but can only hit the ball the same distance every time. Easy right? Hit it the exact length from where you are to the hole! Done! Now pretend you don't know where the hole is but just know the general direction. Now the distance you choose actually matters. If it is too long a distance you'll miss the hole, and then when you hit it back you'll overshoot again. If the distance is too small then it will take forever to get there but for sure you'll eventually get it in. Basically you have to guess what the right distance per shot should be and then try it out. That is basically what the learning rate does for finding the \"hole in one\" for the right parameters (ok, I'm done with the golf stuff).\n",
    "\n",
    "Below there are three things that make this all work:\n",
    "1. **The Model** - this is the function we're making that takes in the digit vector and should return the right number\n",
    "2. **The Cost Function** (sometimes called the loss function). I know I promised I was done with golf but I lied. Remember how I said in our screwy golf game you knew the general direction of the hole? The cost function tells us the distance to the hole - when it's zero we're there! In actual scientific terms, the cost function tells us how bad the model is at getting the right answer. As we take shots you should see the cost function decreasing. If this does not happen then something is wrong. At this point I would change the shot distance (or `learning_rate`) to something smaller and try again. If that doesn't work maybe change the model!\n",
    "3. **The Optimizer** - this part is the bit that actually changes the model parameters. It has a sense for the direction we should be shooting and updates all of the internal numbers inside the model to find the best internal knobs to predict the right digits. In this case I am using the Binary Cross Entropy cost function because, well, I know it works. There are a ton of different cost functions you can choose from that fit a variety of different scenarios."
   ]
  },
  {
   "cell_type": "code",
   "execution_count": 43,
   "metadata": {},
   "outputs": [],
   "source": [
    "# criterion = nn.NLLLoss()\n",
    "# optimizer = optim.SGD(model.parameters(), lr=0.003, momentum=0.5)\n",
    "optimizer = torch.optim.Adam(model.parameters(), lr=learning_rate)"
   ]
  },
  {
   "cell_type": "markdown",
   "metadata": {},
   "source": [
    "I forgot to mention the whole `cuda` thing. GPUs speed this whole process up because this is basically all a big Matrix multiplcation problem in a `for` loop. PyTorch is great because you basically need to tell the model where to run (either on the CPU or using CUDA - which is a platform for moving computations to the GPU).\n",
    "\n",
    "Now for the learning part! The `dataloader`'s job is to iterate through the entire dataset (in this case 60,000 examples of digits and their corresponding label) but to take chunks of size `batch_size` of the data to process. This is another hyperparameter that needs to be chosen. `epochs` is the number of times we want to loop through the dataset in its entirety (again something we choose based upon how our experiment goes).\n",
    "\n",
    "A word on how long this takes - it takes a while."
   ]
  },
  {
   "cell_type": "markdown",
   "metadata": {},
   "source": [
    "# Train the model"
   ]
  },
  {
   "cell_type": "markdown",
   "metadata": {},
   "source": [
    "We'll:\n",
    "1. Record the start time of the training.\n",
    "2. Set the training epoch to 20.\n",
    "3. For each epoch, reset the running loss to 0, train the model then print the running loss after each epoch.\n",
    "4. Record the end time of the training. Display the duration by using the end training time minus start training time."
   ]
  },
  {
   "cell_type": "code",
   "execution_count": 44,
   "metadata": {},
   "outputs": [],
   "source": [
    "log_interval=10\n",
    "train_log = defaultdict(list)\n",
    "val_log = defaultdict(list)"
   ]
  },
  {
   "cell_type": "code",
   "execution_count": 45,
   "metadata": {},
   "outputs": [],
   "source": [
    "def train(model, device, train_loader, optimizer, epoch, log_interval):\n",
    "    model.train()\n",
    "    train_log = defaultdict(list)\n",
    "    t_log = time()\n",
    "    n_samples = 0\n",
    "    for batch_idx, (data, target) in enumerate(train_loader):\n",
    "        t0 = time()\n",
    "        data, target = data.to(device), target.to(device).long()\n",
    "        optimizer.zero_grad()\n",
    "        output = model(data)\n",
    "        loss = F.cross_entropy(output, target)\n",
    "        t1 = time()\n",
    "        loss.backward()\n",
    "        t2 = time()\n",
    "        optimizer.step()\n",
    "        t3 = time()\n",
    "        n_samples += data.shape[0]\n",
    "        if batch_idx % log_interval == 0:\n",
    "            pred = output.max(1, keepdim=True)[1]\n",
    "            correct = pred.eq(target.view_as(pred)).sum().item()\n",
    "\n",
    "            train_log['n_iter'].append(epoch * len(train_loader) + batch_idx + 1)\n",
    "            train_log['n_samples'].append(n_samples + (epoch - 1) * len(train_loader.dataset))\n",
    "            train_log['loss'].append(loss.detach())\n",
    "            train_log['accuracy'].append(100. * correct / data.shape[0])\n",
    "            train_log['time_batch'].append(t3 - t0)\n",
    "            train_log['time_batch_forward'].append(t1 - t0)\n",
    "            train_log['time_batch_backward'].append(t2 - t1)\n",
    "            train_log['time_batch_update'].append(t3 - t2)\n",
    "            t4 = time()\n",
    "            train_log['time_batch_avg'].append((t4 - t_log) / log_interval)\n",
    "            print(\n",
    "                'Train Epochs: {} [{:5d}/{:5d} ({:3.0f}%)]'\n",
    "                '\\tLoss: {:.6f}'\n",
    "                '\\tTime: {:.4f}ms/batch'.format(\n",
    "                    epoch, n_samples, len(train_loader.dataset),\n",
    "                    100. * (batch_idx + 1) / len(train_loader), loss.item(),\n",
    "                    1000 * (t4 - t_log) / log_interval,\n",
    "                )\n",
    "            )\n",
    "            t_log = time()\n",
    "    return train_log"
   ]
  },
  {
   "cell_type": "markdown",
   "metadata": {},
   "source": [
    "# Test the model\n",
    "The operations of these codes are:\n",
    "1. Initialize the variables “correct_count” and “all_count” for accuracy calculation.\n",
    "2. Load the test images, feed the images into the well-trained model and get the outputs.\n",
    "3. Compare the outputs’ label with the original label. It will be counted as a correct prediction if output label is same with original label for each test image.\n",
    "4. Display the accuracy score of the model. The accuracy of this model is 95%."
   ]
  },
  {
   "cell_type": "code",
   "execution_count": 46,
   "metadata": {},
   "outputs": [],
   "source": [
    "def test(model, device, test_loader, log_interval):\n",
    "    model.eval()\n",
    "    test_loss = 0\n",
    "    correct = 0\n",
    "    preds = []\n",
    "    targets = []\n",
    "    num_batches = 0\n",
    "    with torch.no_grad():\n",
    "        for data, target in test_loader:\n",
    "            num_batches += 1\n",
    "            data, target = data.to(device), target.to(device).long()\n",
    "            output = model(data)\n",
    "            test_loss += F.cross_entropy(output, target, reduction='sum').item()\n",
    "            pred = output.max(1, keepdim=True)[1]\n",
    "            correct += pred.eq(target.view_as(pred)).sum().item()\n",
    "            preds.append(pred.cpu().numpy())\n",
    "            targets.append(target.cpu().numpy())\n",
    "    \n",
    "    # Remove list nesting\n",
    "    preds = np.concatenate(preds).squeeze()\n",
    "    targets = np.concatenate(targets).squeeze()\n",
    "\n",
    "    test_loss /= len(test_loader.dataset)\n",
    "    accuracy = 100. * correct / len(test_loader.dataset)\n",
    "    print('\\nTest set: Average loss: {:.4f}, Accuracy: {}/{} ({:.3f}%)\\n'\n",
    "        ''.format(\n",
    "            test_loss,\n",
    "            correct, len(test_loader.dataset), accuracy,\n",
    "            )\n",
    "        )\n",
    "    return test_loss, accuracy"
   ]
  },
  {
   "cell_type": "code",
   "execution_count": 47,
   "metadata": {},
   "outputs": [
    {
     "name": "stdout",
     "output_type": "stream",
     "text": [
      "Train Epochs: 5 [   64/60000 (  0%)]\tLoss: 2.302243\tTime: 533.8186ms/batch\n",
      "Train Epochs: 5 [  704/60000 (  1%)]\tLoss: 2.296829\tTime: 37.0691ms/batch\n",
      "Train Epochs: 5 [ 1344/60000 (  2%)]\tLoss: 2.279196\tTime: 42.0676ms/batch\n",
      "Train Epochs: 5 [ 1984/60000 (  3%)]\tLoss: 2.283670\tTime: 37.4693ms/batch\n",
      "Train Epochs: 5 [ 2624/60000 (  4%)]\tLoss: 2.230797\tTime: 41.1269ms/batch\n",
      "Train Epochs: 5 [ 3264/60000 (  5%)]\tLoss: 2.136690\tTime: 42.7024ms/batch\n",
      "Train Epochs: 5 [ 3904/60000 (  7%)]\tLoss: 2.097810\tTime: 38.4046ms/batch\n",
      "Train Epochs: 5 [ 4544/60000 (  8%)]\tLoss: 2.097883\tTime: 39.1937ms/batch\n",
      "Train Epochs: 5 [ 5184/60000 (  9%)]\tLoss: 1.968742\tTime: 40.1964ms/batch\n",
      "Train Epochs: 5 [ 5824/60000 ( 10%)]\tLoss: 2.069069\tTime: 41.2916ms/batch\n",
      "Train Epochs: 5 [ 6464/60000 ( 11%)]\tLoss: 1.950749\tTime: 43.6210ms/batch\n",
      "Train Epochs: 5 [ 7104/60000 ( 12%)]\tLoss: 1.966760\tTime: 40.3002ms/batch\n",
      "Train Epochs: 5 [ 7744/60000 ( 13%)]\tLoss: 1.879812\tTime: 42.1135ms/batch\n",
      "Train Epochs: 5 [ 8384/60000 ( 14%)]\tLoss: 1.917001\tTime: 38.2336ms/batch\n",
      "Train Epochs: 5 [ 9024/60000 ( 15%)]\tLoss: 1.895514\tTime: 40.7569ms/batch\n",
      "Train Epochs: 5 [ 9664/60000 ( 16%)]\tLoss: 1.856140\tTime: 36.6274ms/batch\n",
      "Train Epochs: 5 [10304/60000 ( 17%)]\tLoss: 1.824285\tTime: 38.7111ms/batch\n",
      "Train Epochs: 5 [10944/60000 ( 18%)]\tLoss: 1.832298\tTime: 40.1070ms/batch\n",
      "Train Epochs: 5 [11584/60000 ( 19%)]\tLoss: 1.800593\tTime: 38.4528ms/batch\n",
      "Train Epochs: 5 [12224/60000 ( 20%)]\tLoss: 1.806082\tTime: 39.6484ms/batch\n",
      "Train Epochs: 5 [12864/60000 ( 21%)]\tLoss: 1.727751\tTime: 39.8510ms/batch\n",
      "Train Epochs: 5 [13504/60000 ( 22%)]\tLoss: 1.775645\tTime: 38.4146ms/batch\n",
      "Train Epochs: 5 [14144/60000 ( 24%)]\tLoss: 1.745665\tTime: 40.9434ms/batch\n",
      "Train Epochs: 5 [14784/60000 ( 25%)]\tLoss: 1.838549\tTime: 40.4648ms/batch\n",
      "Train Epochs: 5 [15424/60000 ( 26%)]\tLoss: 1.768020\tTime: 39.0975ms/batch\n",
      "Train Epochs: 5 [16064/60000 ( 27%)]\tLoss: 1.768778\tTime: 41.3620ms/batch\n",
      "Train Epochs: 5 [16704/60000 ( 28%)]\tLoss: 1.821713\tTime: 41.0764ms/batch\n",
      "Train Epochs: 5 [17344/60000 ( 29%)]\tLoss: 1.755700\tTime: 40.3723ms/batch\n",
      "Train Epochs: 5 [17984/60000 ( 30%)]\tLoss: 1.731085\tTime: 40.7583ms/batch\n",
      "Train Epochs: 5 [18624/60000 ( 31%)]\tLoss: 1.657923\tTime: 40.2293ms/batch\n",
      "Train Epochs: 5 [19264/60000 ( 32%)]\tLoss: 1.721742\tTime: 41.4566ms/batch\n",
      "Train Epochs: 5 [19904/60000 ( 33%)]\tLoss: 1.764717\tTime: 40.3308ms/batch\n",
      "Train Epochs: 5 [20544/60000 ( 34%)]\tLoss: 1.660317\tTime: 39.2637ms/batch\n",
      "Train Epochs: 5 [21184/60000 ( 35%)]\tLoss: 1.688468\tTime: 37.6852ms/batch\n",
      "Train Epochs: 5 [21824/60000 ( 36%)]\tLoss: 1.759276\tTime: 39.1452ms/batch\n",
      "Train Epochs: 5 [22464/60000 ( 37%)]\tLoss: 1.668604\tTime: 40.4103ms/batch\n",
      "Train Epochs: 5 [23104/60000 ( 38%)]\tLoss: 1.680871\tTime: 42.1527ms/batch\n",
      "Train Epochs: 5 [23744/60000 ( 40%)]\tLoss: 1.767726\tTime: 40.2867ms/batch\n",
      "Train Epochs: 5 [24384/60000 ( 41%)]\tLoss: 1.595557\tTime: 40.2107ms/batch\n",
      "Train Epochs: 5 [25024/60000 ( 42%)]\tLoss: 1.685571\tTime: 40.2983ms/batch\n",
      "Train Epochs: 5 [25664/60000 ( 43%)]\tLoss: 1.671929\tTime: 37.1635ms/batch\n",
      "Train Epochs: 5 [26304/60000 ( 44%)]\tLoss: 1.628369\tTime: 38.9950ms/batch\n",
      "Train Epochs: 5 [26944/60000 ( 45%)]\tLoss: 1.611129\tTime: 37.8037ms/batch\n",
      "Train Epochs: 5 [27584/60000 ( 46%)]\tLoss: 1.744477\tTime: 37.5805ms/batch\n",
      "Train Epochs: 5 [28224/60000 ( 47%)]\tLoss: 1.687419\tTime: 37.6561ms/batch\n",
      "Train Epochs: 5 [28864/60000 ( 48%)]\tLoss: 1.696623\tTime: 41.0805ms/batch\n",
      "Train Epochs: 5 [29504/60000 ( 49%)]\tLoss: 1.639161\tTime: 37.8070ms/batch\n",
      "Train Epochs: 5 [30144/60000 ( 50%)]\tLoss: 1.659312\tTime: 41.3443ms/batch\n",
      "Train Epochs: 5 [30784/60000 ( 51%)]\tLoss: 1.650162\tTime: 37.4985ms/batch\n",
      "Train Epochs: 5 [31424/60000 ( 52%)]\tLoss: 1.657170\tTime: 28.8643ms/batch\n",
      "Train Epochs: 5 [32064/60000 ( 53%)]\tLoss: 1.728019\tTime: 39.5723ms/batch\n",
      "Train Epochs: 5 [32704/60000 ( 54%)]\tLoss: 1.712385\tTime: 32.0181ms/batch\n",
      "Train Epochs: 5 [33344/60000 ( 56%)]\tLoss: 1.680775\tTime: 39.4464ms/batch\n",
      "Train Epochs: 5 [33984/60000 ( 57%)]\tLoss: 1.567930\tTime: 40.4267ms/batch\n",
      "Train Epochs: 5 [34624/60000 ( 58%)]\tLoss: 1.689178\tTime: 36.8606ms/batch\n",
      "Train Epochs: 5 [35264/60000 ( 59%)]\tLoss: 1.769646\tTime: 43.2796ms/batch\n",
      "Train Epochs: 5 [35904/60000 ( 60%)]\tLoss: 1.609964\tTime: 39.4079ms/batch\n",
      "Train Epochs: 5 [36544/60000 ( 61%)]\tLoss: 1.688666\tTime: 38.4810ms/batch\n",
      "Train Epochs: 5 [37184/60000 ( 62%)]\tLoss: 1.710401\tTime: 38.0007ms/batch\n",
      "Train Epochs: 5 [37824/60000 ( 63%)]\tLoss: 1.695516\tTime: 39.2065ms/batch\n",
      "Train Epochs: 5 [38464/60000 ( 64%)]\tLoss: 1.610922\tTime: 41.3730ms/batch\n",
      "Train Epochs: 5 [39104/60000 ( 65%)]\tLoss: 1.603238\tTime: 38.8694ms/batch\n",
      "Train Epochs: 5 [39744/60000 ( 66%)]\tLoss: 1.606027\tTime: 35.8046ms/batch\n",
      "Train Epochs: 5 [40384/60000 ( 67%)]\tLoss: 1.534957\tTime: 40.9681ms/batch\n",
      "Train Epochs: 5 [41024/60000 ( 68%)]\tLoss: 1.596925\tTime: 37.6110ms/batch\n",
      "Train Epochs: 5 [41664/60000 ( 69%)]\tLoss: 1.658036\tTime: 37.2164ms/batch\n",
      "Train Epochs: 5 [42304/60000 ( 70%)]\tLoss: 1.654974\tTime: 40.0011ms/batch\n",
      "Train Epochs: 5 [42944/60000 ( 72%)]\tLoss: 1.632509\tTime: 37.0111ms/batch\n",
      "Train Epochs: 5 [43584/60000 ( 73%)]\tLoss: 1.626929\tTime: 40.7925ms/batch\n",
      "Train Epochs: 5 [44224/60000 ( 74%)]\tLoss: 1.579328\tTime: 38.9794ms/batch\n",
      "Train Epochs: 5 [44864/60000 ( 75%)]\tLoss: 1.549574\tTime: 39.1290ms/batch\n",
      "Train Epochs: 5 [45504/60000 ( 76%)]\tLoss: 1.596381\tTime: 39.8578ms/batch\n",
      "Train Epochs: 5 [46144/60000 ( 77%)]\tLoss: 1.594772\tTime: 38.2589ms/batch\n",
      "Train Epochs: 5 [46784/60000 ( 78%)]\tLoss: 1.599423\tTime: 37.7430ms/batch\n",
      "Train Epochs: 5 [47424/60000 ( 79%)]\tLoss: 1.572272\tTime: 37.2528ms/batch\n",
      "Train Epochs: 5 [48064/60000 ( 80%)]\tLoss: 1.575493\tTime: 38.2798ms/batch\n",
      "Train Epochs: 5 [48704/60000 ( 81%)]\tLoss: 1.553257\tTime: 37.6443ms/batch\n",
      "Train Epochs: 5 [49344/60000 ( 82%)]\tLoss: 1.595333\tTime: 40.1676ms/batch\n",
      "Train Epochs: 5 [49984/60000 ( 83%)]\tLoss: 1.617522\tTime: 40.9390ms/batch\n",
      "Train Epochs: 5 [50624/60000 ( 84%)]\tLoss: 1.596340\tTime: 38.9873ms/batch\n",
      "Train Epochs: 5 [51264/60000 ( 85%)]\tLoss: 1.613055\tTime: 40.6954ms/batch\n",
      "Train Epochs: 5 [51904/60000 ( 86%)]\tLoss: 1.637928\tTime: 36.8538ms/batch\n",
      "Train Epochs: 5 [52544/60000 ( 88%)]\tLoss: 1.593749\tTime: 38.6335ms/batch\n",
      "Train Epochs: 5 [53184/60000 ( 89%)]\tLoss: 1.529598\tTime: 36.7079ms/batch\n",
      "Train Epochs: 5 [53824/60000 ( 90%)]\tLoss: 1.594868\tTime: 40.6374ms/batch\n",
      "Train Epochs: 5 [54464/60000 ( 91%)]\tLoss: 1.588471\tTime: 38.7944ms/batch\n",
      "Train Epochs: 5 [55104/60000 ( 92%)]\tLoss: 1.655241\tTime: 36.8664ms/batch\n",
      "Train Epochs: 5 [55744/60000 ( 93%)]\tLoss: 1.625335\tTime: 40.0036ms/batch\n",
      "Train Epochs: 5 [56384/60000 ( 94%)]\tLoss: 1.653950\tTime: 36.5867ms/batch\n",
      "Train Epochs: 5 [57024/60000 ( 95%)]\tLoss: 1.683319\tTime: 37.2233ms/batch\n",
      "Train Epochs: 5 [57664/60000 ( 96%)]\tLoss: 1.639816\tTime: 38.4689ms/batch\n",
      "Train Epochs: 5 [58304/60000 ( 97%)]\tLoss: 1.599193\tTime: 38.6943ms/batch\n",
      "Train Epochs: 5 [58944/60000 ( 98%)]\tLoss: 1.662291\tTime: 38.9440ms/batch\n",
      "Train Epochs: 5 [59584/60000 ( 99%)]\tLoss: 1.558831\tTime: 39.7653ms/batch\n",
      "\n",
      "Test set: Average loss: 1.5193, Accuracy: 9422/10000 (94.220%)\n",
      "\n"
     ]
    }
   ],
   "source": [
    "epoch_log = train(model, device, trainloader, optimizer, epochs, log_interval)\n",
    "for key, value in epoch_log.items():\n",
    "    train_log[key] += value\n",
    "val_loss, val_accuracy = test(model, device, testloader, log_interval)\n",
    "val_log['loss'].append(val_loss)\n",
    "val_log['accuracy'].append(val_accuracy)"
   ]
  },
  {
   "cell_type": "code",
   "execution_count": 48,
   "metadata": {},
   "outputs": [
    {
     "name": "stdout",
     "output_type": "stream",
     "text": [
      "torch.Size([10, 1, 5, 5])\n",
      "Parameter containing:\n",
      "tensor([[[[-0.1675, -0.1532, -0.1937, -0.1861,  0.3139],\n",
      "          [-0.2418, -0.3484, -0.0777, -0.2709,  0.2543],\n",
      "          [-0.2459, -0.3500, -0.1760,  0.0058,  0.3174],\n",
      "          [-0.3161, -0.2588, -0.3048, -0.0443,  0.3666],\n",
      "          [-0.0112, -0.1303, -0.1174,  0.2805,  0.2943]]],\n",
      "\n",
      "\n",
      "        [[[-0.2719, -0.3036, -0.2858, -0.2445, -0.1457],\n",
      "          [-0.1430, -0.4312, -0.1720,  0.0023, -0.0512],\n",
      "          [-0.1889, -0.3040,  0.1154, -0.0220,  0.1630],\n",
      "          [ 0.2401,  0.3352,  0.4510,  0.4505,  0.0639],\n",
      "          [ 0.4333,  0.3742,  0.2878,  0.0887, -0.0723]]],\n",
      "\n",
      "\n",
      "        [[[-0.2660, -0.0574,  0.2728,  0.2032,  0.0459],\n",
      "          [ 0.0325,  0.1052,  0.2080,  0.1229, -0.1684],\n",
      "          [-0.0296,  0.1514,  0.4553, -0.2854, -0.1909],\n",
      "          [ 0.3056,  0.3787,  0.2986, -0.1607, -0.3527],\n",
      "          [ 0.2024,  0.4012, -0.0066, -0.2870, -0.2043]]],\n",
      "\n",
      "\n",
      "        [[[-0.3250, -0.0986,  0.2882,  0.2927,  0.2040],\n",
      "          [-0.2597,  0.0856,  0.2621,  0.4482,  0.2683],\n",
      "          [ 0.0031,  0.1823,  0.0364,  0.1413, -0.0842],\n",
      "          [ 0.0473,  0.0167, -0.1589, -0.0724, -0.2639],\n",
      "          [-0.1059, -0.0633,  0.0940, -0.0597, -0.4303]]],\n",
      "\n",
      "\n",
      "        [[[ 0.3889,  0.3959,  0.0929, -0.0402,  0.3834],\n",
      "          [ 0.2228, -0.1610, -0.1560, -0.1560,  0.0987],\n",
      "          [-0.1260, -0.2833, -0.1171,  0.0961,  0.2739],\n",
      "          [-0.1229, -0.2527, -0.2163,  0.0803,  0.0050],\n",
      "          [-0.2300, -0.2299, -0.1179,  0.0740,  0.3083]]],\n",
      "\n",
      "\n",
      "        [[[-0.0164,  0.3538,  0.2250, -0.1279, -0.2776],\n",
      "          [ 0.1861,  0.3554,  0.3302, -0.2472, -0.2429],\n",
      "          [-0.1090,  0.3243,  0.3381, -0.3213, -0.2897],\n",
      "          [-0.2845,  0.1484,  0.4741,  0.4177,  0.2739],\n",
      "          [-0.0101,  0.2088,  0.2557,  0.4021,  0.2393]]],\n",
      "\n",
      "\n",
      "        [[[-0.2893,  0.0574, -0.2177, -0.2035, -0.1530],\n",
      "          [-0.1207, -0.3056, -0.3513, -0.1953, -0.1071],\n",
      "          [-0.2587, -0.1804, -0.1685, -0.2882, -0.1379],\n",
      "          [-0.0860, -0.2652, -0.1966, -0.2023, -0.1669],\n",
      "          [-0.2386, -0.2437,  0.0196, -0.0213,  0.2005]]],\n",
      "\n",
      "\n",
      "        [[[ 0.2434,  0.2385,  0.0759,  0.4232,  0.4114],\n",
      "          [-0.0898,  0.2819,  0.0447,  0.1796,  0.1853],\n",
      "          [ 0.0400, -0.0935,  0.0765, -0.0445,  0.2642],\n",
      "          [-0.0751, -0.0460, -0.3174,  0.0041, -0.0632],\n",
      "          [-0.4114, -0.3805, -0.4070, -0.1955, -0.2620]]],\n",
      "\n",
      "\n",
      "        [[[ 0.1641,  0.2264,  0.3559, -0.1203, -0.3501],\n",
      "          [ 0.0316,  0.3967,  0.3761,  0.0426, -0.0432],\n",
      "          [-0.0698,  0.2680,  0.3234, -0.2009, -0.4041],\n",
      "          [ 0.0047,  0.1355,  0.2245, -0.1042, -0.2786],\n",
      "          [ 0.1474,  0.3832,  0.0671,  0.1623,  0.1745]]],\n",
      "\n",
      "\n",
      "        [[[-0.3486, -0.1893,  0.1253,  0.2297, -0.1265],\n",
      "          [-0.4004, -0.0758,  0.3484,  0.1513,  0.2664],\n",
      "          [-0.3182,  0.2560,  0.4432,  0.3134,  0.0467],\n",
      "          [-0.1144,  0.3621,  0.2481, -0.2741,  0.0468],\n",
      "          [ 0.1157, -0.0226, -0.1283, -0.1797, -0.3860]]]], device='cuda:0',\n",
      "       requires_grad=True)\n",
      "torch.Size([10])\n",
      "Parameter containing:\n",
      "tensor([-0.0357,  0.3695,  0.2280,  0.4793,  0.1269,  0.1434, -0.0490,  0.1736,\n",
      "         0.2143,  0.3016], device='cuda:0', requires_grad=True)\n",
      "torch.Size([20, 10, 5, 5])\n",
      "Parameter containing:\n",
      "tensor([[[[ 1.7771e-01,  7.1939e-02, -7.4266e-02, -7.5683e-02, -5.1563e-02],\n",
      "          [ 1.4521e-01, -5.7338e-02, -9.5344e-02, -4.9635e-03,  4.0824e-02],\n",
      "          [ 4.4925e-02, -3.0504e-02, -1.2609e-01, -2.2229e-02,  4.7453e-02],\n",
      "          [ 5.5528e-02, -7.5755e-02, -4.8630e-02,  8.1872e-02,  6.7555e-06],\n",
      "          [-3.1609e-02, -5.7903e-02, -9.6227e-02, -2.8998e-02,  6.4404e-02]],\n",
      "\n",
      "         [[-1.0535e-01, -3.4955e-02,  5.1467e-02, -6.0731e-02, -7.7964e-03],\n",
      "          [ 8.6425e-03,  8.0821e-02, -2.6243e-02, -1.3070e-01, -1.1975e-01],\n",
      "          [ 3.1636e-02, -1.4499e-02, -1.6136e-01, -3.7447e-02, -1.1930e-01],\n",
      "          [-1.2658e-01, -2.1441e-01, -8.7660e-02,  7.8597e-02, -2.7273e-02],\n",
      "          [-2.0372e-01, -1.2862e-01,  3.4511e-02,  6.6380e-02,  1.1637e-01]],\n",
      "\n",
      "         [[-1.7322e-02,  1.9304e-01,  1.2420e-01,  3.8890e-02, -6.0419e-02],\n",
      "          [ 4.6121e-02,  1.0622e-01,  1.1975e-01,  1.5267e-02, -1.9704e-01],\n",
      "          [ 1.4452e-01,  1.3870e-01, -1.1733e-02, -1.3936e-01,  2.3995e-02],\n",
      "          [-2.3331e-02,  1.6903e-02, -2.7896e-03, -2.7331e-03, -2.5014e-03],\n",
      "          [-3.9689e-02, -1.6019e-01, -3.9529e-02,  6.6504e-02,  8.5593e-02]],\n",
      "\n",
      "         ...,\n",
      "\n",
      "         [[ 8.7128e-02,  4.6648e-03, -5.1106e-02, -1.6437e-02, -3.4131e-02],\n",
      "          [ 4.4586e-04, -7.7198e-02,  4.1296e-02,  1.1697e-01,  6.5844e-02],\n",
      "          [ 1.9944e-02, -3.9890e-02, -1.0094e-02, -4.5048e-02,  5.4528e-02],\n",
      "          [-2.8441e-02, -4.5784e-02, -5.8475e-02, -1.1298e-01, -5.9363e-02],\n",
      "          [-1.8051e-02,  2.9175e-02, -8.6684e-02, -6.2198e-03, -8.6313e-02]],\n",
      "\n",
      "         [[ 3.3093e-02,  2.0737e-01,  6.0798e-02, -4.7764e-02,  7.6796e-03],\n",
      "          [ 2.4138e-02,  1.5470e-01,  8.8079e-02, -2.4371e-02, -5.8552e-02],\n",
      "          [ 1.0802e-01,  9.8867e-02,  4.1278e-02, -1.5107e-01, -2.9335e-02],\n",
      "          [ 1.2079e-01,  9.5992e-02, -4.9132e-02, -6.4262e-02,  5.0625e-02],\n",
      "          [ 6.9051e-02, -7.6159e-02, -1.9456e-03, -1.3782e-02, -1.8051e-02]],\n",
      "\n",
      "         [[ 2.2763e-02,  1.4491e-01,  1.5616e-01,  7.7926e-02,  2.3483e-02],\n",
      "          [ 1.8497e-02,  1.6037e-01,  7.3114e-02,  1.1524e-01, -3.4399e-03],\n",
      "          [ 6.5562e-02,  1.6198e-01, -2.2160e-02, -1.9802e-01, -7.6645e-02],\n",
      "          [ 9.0114e-03, -1.8685e-02, -1.4498e-01, -7.3774e-02, -1.1528e-02],\n",
      "          [-3.4224e-02, -8.7020e-02, -5.0462e-02, -2.0247e-02,  1.7252e-02]]],\n",
      "\n",
      "\n",
      "        [[[-9.3546e-02,  6.1756e-02,  1.2614e-01,  3.2227e-02, -5.6994e-02],\n",
      "          [ 7.3563e-03,  1.1194e-01,  1.7938e-01, -2.5806e-03, -2.6720e-02],\n",
      "          [ 2.8804e-02,  1.1519e-01,  1.3288e-01, -1.0919e-01, -1.2107e-01],\n",
      "          [ 8.0783e-02,  1.1942e-01,  5.0887e-02, -5.2014e-02, -1.3900e-01],\n",
      "          [-2.6975e-02,  9.1307e-02,  3.6181e-02,  4.3599e-02, -1.0731e-01]],\n",
      "\n",
      "         [[-8.4440e-02, -8.4523e-02,  2.6656e-02,  1.1449e-02, -8.9379e-02],\n",
      "          [-1.2001e-01, -2.2236e-01, -6.9131e-02, -1.1454e-01, -1.2722e-01],\n",
      "          [-1.9081e-01, -1.0118e-01, -2.2582e-02, -1.2404e-01, -1.5125e-01],\n",
      "          [-6.5538e-02, -3.6641e-02, -1.3082e-01, -2.2884e-01, -1.0398e-01],\n",
      "          [-4.9345e-02, -6.0512e-04, -1.8626e-02, -1.0948e-01, -4.7811e-02]],\n",
      "\n",
      "         [[-2.4050e-02, -3.0734e-02,  1.8566e-02,  8.3898e-02,  7.5713e-02],\n",
      "          [ 7.2191e-02, -4.4609e-02,  8.7528e-02,  1.9351e-01,  5.8736e-02],\n",
      "          [-9.5651e-02, -1.5451e-01,  1.4598e-01,  5.6931e-02,  1.9871e-02],\n",
      "          [-1.0023e-02, -7.8929e-02, -1.3156e-03, -8.9970e-02, -1.0429e-01],\n",
      "          [ 6.6684e-02,  8.0977e-02, -1.5928e-02, -1.1169e-01, -1.0719e-01]],\n",
      "\n",
      "         ...,\n",
      "\n",
      "         [[ 2.9334e-03, -4.3359e-02, -1.1942e-01, -1.0591e-01, -1.5161e-01],\n",
      "          [ 4.5579e-02,  1.5294e-03,  3.6618e-02, -2.6620e-01, -7.4014e-02],\n",
      "          [ 1.5183e-02,  1.1568e-03, -4.5393e-02, -1.8207e-01, -1.3922e-01],\n",
      "          [-5.9617e-02, -1.8583e-02,  3.7999e-03, -3.2983e-02, -3.3536e-02],\n",
      "          [-1.0859e-01, -7.3352e-02,  7.2810e-02,  9.1860e-02,  8.2525e-02]],\n",
      "\n",
      "         [[ 1.0509e-01,  4.3974e-02,  1.2522e-01,  9.7533e-02, -1.5278e-02],\n",
      "          [ 4.7737e-02, -3.9824e-02,  1.0404e-01,  1.7291e-01,  1.2813e-01],\n",
      "          [-2.9523e-02, -7.6298e-02,  8.7738e-02,  1.8064e-01,  4.6595e-02],\n",
      "          [-5.4862e-02, -1.0775e-01,  3.3669e-02,  1.2993e-01,  6.7180e-02],\n",
      "          [-7.0672e-02,  2.0178e-02,  2.0524e-02,  4.4588e-02,  6.3511e-02]],\n",
      "\n",
      "         [[ 4.1138e-03, -3.6890e-02,  1.2748e-03,  1.0121e-01,  6.2195e-02],\n",
      "          [-4.4538e-02, -1.2436e-01,  3.9031e-02,  5.8460e-02,  6.0778e-02],\n",
      "          [-1.9872e-01, -1.7087e-01,  9.0154e-02,  4.9188e-02, -7.1375e-02],\n",
      "          [-1.2924e-01, -6.5415e-02,  4.4603e-03,  6.6522e-02, -1.2355e-01],\n",
      "          [-1.2279e-01, -7.7805e-02, -1.6502e-02,  3.6071e-02, -3.4155e-02]]],\n",
      "\n",
      "\n",
      "        [[[ 7.3750e-03, -2.5987e-02, -5.6319e-02,  3.1873e-02,  1.4295e-01],\n",
      "          [-5.1187e-02,  5.7641e-02, -6.4111e-02,  1.3352e-01,  1.5355e-01],\n",
      "          [ 2.4493e-02, -7.0321e-02, -3.5634e-02,  1.1442e-01,  1.0218e-01],\n",
      "          [ 1.9944e-02, -1.9122e-02,  8.6110e-02,  1.9579e-01, -7.4841e-03],\n",
      "          [-3.3873e-03, -1.9914e-02,  1.1747e-01,  1.7606e-01, -7.0574e-02]],\n",
      "\n",
      "         [[ 9.5133e-03, -1.8213e-01, -2.6558e-01, -1.7798e-01, -1.7680e-01],\n",
      "          [-1.6948e-01, -4.5622e-02, -2.2495e-01, -1.9812e-01, -8.8000e-02],\n",
      "          [-5.7113e-02, -7.4600e-02, -1.9516e-01, -1.1738e-01,  6.2834e-02],\n",
      "          [-5.2734e-02, -5.8086e-02, -1.2613e-01, -6.3401e-03, -4.1151e-02],\n",
      "          [ 1.2884e-01, -5.3152e-02, -5.4023e-02, -7.6049e-02, -1.1066e-01]],\n",
      "\n",
      "         [[ 1.0030e-01,  2.7335e-02,  5.3160e-02, -2.9932e-03, -9.9340e-02],\n",
      "          [ 1.3221e-02, -1.2913e-01, -2.1203e-02, -1.2682e-01,  1.2237e-02],\n",
      "          [ 1.5226e-02,  4.0277e-02,  7.9263e-02, -1.7085e-01,  1.1027e-01],\n",
      "          [ 1.1015e-01,  1.6174e-01, -2.3287e-02, -3.8114e-02,  2.1042e-01],\n",
      "          [ 2.1274e-01,  1.0426e-01, -3.4387e-02,  3.6287e-03,  1.7217e-01]],\n",
      "\n",
      "         ...,\n",
      "\n",
      "         [[ 5.2043e-02,  8.0312e-02,  3.6606e-02,  4.7699e-03,  1.3482e-01],\n",
      "          [ 7.8246e-02, -2.6973e-02,  8.1376e-03, -1.0783e-02, -2.5769e-02],\n",
      "          [-2.6347e-02, -1.4180e-01, -4.7149e-02, -3.3727e-02, -1.5007e-01],\n",
      "          [-8.4154e-02, -1.8580e-01, -6.8186e-02, -9.5421e-02, -2.4083e-01],\n",
      "          [-8.0230e-02, -7.2469e-02, -1.0413e-01, -6.3694e-02, -2.0048e-01]],\n",
      "\n",
      "         [[ 2.3673e-02,  1.1934e-01,  1.3008e-01,  6.3458e-03,  2.8146e-02],\n",
      "          [-2.4851e-02, -6.1300e-03,  7.9723e-02, -2.0152e-02, -1.7436e-02],\n",
      "          [ 2.9823e-02, -4.7367e-03,  1.3779e-01, -4.0380e-02,  4.1782e-02],\n",
      "          [ 1.2837e-01,  7.9053e-02,  7.2432e-02, -3.4874e-02,  1.2604e-01],\n",
      "          [ 9.7422e-02,  1.8387e-01,  1.2963e-01,  5.5882e-02,  2.3816e-01]],\n",
      "\n",
      "         [[ 6.8584e-02,  1.1241e-01, -4.3303e-02, -6.7320e-02, -5.7926e-03],\n",
      "          [-6.3141e-02, -1.1745e-01, -5.5852e-02, -1.3350e-01, -1.6111e-02],\n",
      "          [-6.3332e-02, -2.5417e-02, -1.9620e-01, -1.5360e-01,  9.1105e-02],\n",
      "          [ 2.2010e-02, -4.0753e-02, -2.1095e-01, -8.6899e-02,  1.0883e-01],\n",
      "          [ 1.5964e-01,  3.5574e-03, -4.7758e-02,  7.0632e-02,  4.9484e-02]]],\n",
      "\n",
      "\n",
      "        ...,\n",
      "\n",
      "\n",
      "        [[[ 8.6250e-02, -5.3576e-02, -1.3182e-02,  6.0707e-03, -8.2306e-02],\n",
      "          [ 6.5653e-02, -4.3661e-02, -4.8816e-02, -2.3162e-02,  8.2974e-02],\n",
      "          [ 6.6256e-02, -6.0783e-02, -9.6344e-02, -3.2456e-02, -3.2321e-02],\n",
      "          [ 6.7316e-02,  2.5165e-03, -6.1072e-02, -1.4915e-01, -8.1464e-02],\n",
      "          [-6.7148e-02,  6.8824e-02,  7.8999e-02, -1.3249e-02, -1.9334e-01]],\n",
      "\n",
      "         [[ 1.0404e-01,  9.6008e-02, -2.6348e-02, -5.9518e-02, -1.5562e-01],\n",
      "          [ 4.7628e-03,  9.9025e-02,  5.7833e-02,  2.7382e-03,  1.1266e-02],\n",
      "          [ 2.9174e-02,  3.9472e-02,  1.2164e-01,  1.6835e-01,  1.8857e-01],\n",
      "          [-2.8240e-02, -1.1234e-01, -2.4545e-02,  5.9760e-02,  1.6853e-01],\n",
      "          [ 3.6628e-02, -9.1763e-02, -7.3908e-02, -1.1205e-01, -6.1398e-02]],\n",
      "\n",
      "         [[ 1.1357e-01,  1.0023e-01,  7.3715e-02,  5.7713e-02,  1.3380e-02],\n",
      "          [ 4.6932e-03,  1.3169e-02,  1.3358e-01,  5.2283e-02,  1.5680e-03],\n",
      "          [-1.1159e-01, -7.8668e-03, -3.6249e-02,  4.4873e-02,  4.4308e-02],\n",
      "          [-5.4524e-02, -1.4701e-01, -1.2224e-01, -2.6038e-02,  7.3109e-02],\n",
      "          [-2.5111e-02, -1.3758e-01, -7.5985e-02, -6.0927e-02, -8.3377e-02]],\n",
      "\n",
      "         ...,\n",
      "\n",
      "         [[-5.6735e-02, -1.3018e-01, -1.4620e-02, -8.4152e-02, -4.6838e-02],\n",
      "          [-4.4592e-02, -1.4879e-01, -5.1054e-02, -2.3300e-02, -1.3979e-02],\n",
      "          [ 7.8648e-02,  3.1698e-02, -5.7145e-03, -8.4074e-02,  1.6438e-02],\n",
      "          [ 1.3232e-01,  5.4110e-02,  1.3153e-01,  1.0018e-02, -4.3589e-02],\n",
      "          [ 1.0190e-01,  1.1197e-01,  1.7975e-01,  1.8695e-01,  1.6338e-01]],\n",
      "\n",
      "         [[-2.0512e-02, -4.1718e-02, -6.5076e-02, -8.3000e-02, -2.5990e-02],\n",
      "          [ 2.0348e-02,  1.6752e-02,  6.3895e-02,  1.7946e-02,  1.4245e-02],\n",
      "          [-4.6090e-03,  3.2421e-02,  4.1413e-02, -1.6001e-02, -8.8909e-02],\n",
      "          [ 1.0406e-02,  3.5159e-02,  1.4639e-01,  1.0990e-01,  6.2459e-02],\n",
      "          [-1.5436e-01, -1.0461e-01, -7.9757e-02, -7.2434e-02,  7.5976e-02]],\n",
      "\n",
      "         [[-4.3379e-02, -6.7875e-02,  5.5962e-02,  4.7241e-02, -9.4537e-02],\n",
      "          [-5.0273e-02, -1.5601e-03, -3.9247e-02, -6.3149e-02, -7.3982e-02],\n",
      "          [-3.0011e-02,  2.0153e-02, -6.8154e-02,  3.6710e-02, -4.5997e-02],\n",
      "          [ 3.3250e-02,  7.5666e-02, -4.3400e-02,  5.1661e-02, -4.1421e-02],\n",
      "          [-3.9379e-02,  1.9328e-02,  5.3659e-02,  5.0121e-02,  2.5536e-02]]],\n",
      "\n",
      "\n",
      "        [[[-8.4659e-02, -2.5731e-02, -1.0791e-01, -1.5150e-01, -7.9159e-02],\n",
      "          [-4.1474e-02, -2.0124e-02,  2.2585e-02, -6.6907e-02, -1.1797e-01],\n",
      "          [-5.6101e-02,  3.3534e-02,  1.0614e-02,  1.4081e-01, -9.7140e-03],\n",
      "          [ 1.8571e-02,  1.8448e-02,  7.6973e-02,  1.4107e-01,  1.3420e-02],\n",
      "          [ 2.5166e-02, -1.1057e-01,  2.6085e-02,  9.1024e-03, -2.1672e-02]],\n",
      "\n",
      "         [[ 1.0230e-01,  7.2372e-02,  8.7257e-02,  5.1378e-02, -8.9204e-03],\n",
      "          [-7.6797e-02, -7.5276e-02, -1.5777e-01, -2.0460e-01, -1.4312e-01],\n",
      "          [ 3.3611e-02, -3.3638e-02, -8.5736e-02, -1.1908e-01, -3.7034e-02],\n",
      "          [ 1.0754e-01,  8.3550e-02,  1.4333e-02,  2.5896e-02, -1.0205e-01],\n",
      "          [ 2.7137e-02,  8.4047e-03,  2.3459e-02,  5.0005e-02, -7.0095e-02]],\n",
      "\n",
      "         [[-4.8494e-02, -1.1702e-01, -3.4584e-02,  8.8426e-02,  2.0834e-01],\n",
      "          [-2.8990e-02, -2.0935e-02,  3.1463e-03, -1.0714e-02,  2.2770e-02],\n",
      "          [-7.5766e-02,  1.1964e-02, -1.2535e-01, -8.8169e-03,  1.0763e-01],\n",
      "          [-1.4467e-01,  2.4284e-03, -4.1180e-02,  6.0128e-02,  1.5243e-01],\n",
      "          [-7.0367e-02,  6.5295e-03,  7.7827e-02,  8.6265e-02,  1.4750e-01]],\n",
      "\n",
      "         ...,\n",
      "\n",
      "         [[ 7.7523e-02,  1.7656e-01,  9.5735e-02, -1.3380e-01, -1.5161e-01],\n",
      "          [ 2.0179e-01,  2.1097e-01,  2.5896e-01,  5.3279e-02, -1.6169e-02],\n",
      "          [ 5.1845e-02, -2.8345e-02,  4.5060e-02,  7.3060e-02,  7.7021e-02],\n",
      "          [-9.6294e-02, -6.0403e-02, -1.0262e-01, -3.1610e-02,  2.5001e-02],\n",
      "          [ 3.5730e-02,  1.6494e-02, -9.9102e-02, -1.7521e-02, -1.6223e-01]],\n",
      "\n",
      "         [[-3.0061e-02, -5.4845e-02,  7.3850e-02,  1.3401e-01,  7.7877e-02],\n",
      "          [-7.5222e-02, -5.8134e-02,  2.8893e-02,  1.8033e-01,  1.6944e-01],\n",
      "          [-9.5150e-02, -3.0935e-02, -1.2525e-01, -2.1199e-03,  1.6192e-01],\n",
      "          [-1.6854e-01, -8.0792e-02, -1.7595e-01, -6.6613e-02,  1.0317e-01],\n",
      "          [-2.3596e-02,  2.6264e-02, -2.4774e-02, -6.5215e-02,  5.5528e-02]],\n",
      "\n",
      "         [[ 5.7000e-02,  1.5368e-02,  2.9614e-02, -2.1052e-02, -3.4989e-02],\n",
      "          [ 3.5318e-02,  9.6077e-02,  8.3199e-02,  8.5166e-02, -5.9835e-02],\n",
      "          [-1.1952e-01,  2.6706e-02,  1.6411e-02,  8.1381e-02,  7.6329e-02],\n",
      "          [-7.1313e-02, -2.2807e-02, -5.9250e-02,  7.8477e-02,  8.4671e-02],\n",
      "          [ 7.3826e-02,  7.3948e-02, -9.0522e-02,  6.7451e-03,  3.3330e-02]]],\n",
      "\n",
      "\n",
      "        [[[ 6.4104e-02,  1.3359e-01,  1.6128e-01,  1.2645e-01, -1.0161e-01],\n",
      "          [ 1.0055e-01,  1.1928e-01,  1.7368e-01,  3.5591e-02, -1.1670e-01],\n",
      "          [ 5.4588e-02,  1.6211e-01,  1.3614e-01, -3.9902e-02, -1.3445e-01],\n",
      "          [ 9.8741e-02,  1.3009e-01, -2.3696e-02, -5.3035e-02, -1.1615e-01],\n",
      "          [ 2.2246e-02,  6.0886e-02, -4.7233e-02, -9.6911e-02, -1.6487e-01]],\n",
      "\n",
      "         [[-1.4061e-01, -1.6920e-01, -1.1649e-02, -2.6445e-02, -6.2529e-02],\n",
      "          [-1.6873e-01,  3.3947e-02,  1.8331e-02,  4.6717e-02, -9.3032e-02],\n",
      "          [-7.3238e-02, -5.9273e-02,  1.6144e-02, -1.1584e-01, -1.2585e-01],\n",
      "          [-3.5881e-02,  3.8664e-02, -7.4946e-02, -1.5230e-01, -9.0888e-03],\n",
      "          [ 3.5245e-02, -8.2869e-02, -1.1976e-01, -1.6918e-01, -7.1171e-02]],\n",
      "\n",
      "         [[-5.8427e-02, -5.3453e-02,  9.7514e-02,  1.0641e-01,  8.7302e-02],\n",
      "          [-9.0284e-02,  3.8498e-02,  1.7886e-01,  1.3266e-01,  2.8541e-02],\n",
      "          [-7.3964e-02,  8.4704e-02,  8.6618e-02,  2.7597e-02, -1.0996e-01],\n",
      "          [-2.4904e-02,  8.9939e-02,  5.0196e-02, -9.9496e-02, -1.0866e-01],\n",
      "          [ 9.2843e-03,  5.4117e-02, -1.3583e-02, -2.0240e-01, -2.0833e-01]],\n",
      "\n",
      "         ...,\n",
      "\n",
      "         [[-5.8589e-02, -1.1615e-02, -6.7786e-03, -1.0812e-01, -1.7045e-01],\n",
      "          [-1.0286e-01, -4.3031e-02, -6.4278e-02, -2.2874e-01, -1.3028e-01],\n",
      "          [-5.9769e-02, -6.9786e-02, -1.0546e-01, -1.3639e-01, -6.8001e-02],\n",
      "          [-4.8180e-02, -2.4579e-02,  1.5237e-02, -7.6423e-02,  1.2564e-02],\n",
      "          [-3.1900e-02, -3.3398e-02,  5.6596e-02,  9.1742e-02, -5.5844e-03]],\n",
      "\n",
      "         [[ 8.6712e-02, -1.4107e-01,  1.0968e-02,  3.9475e-02,  1.1782e-01],\n",
      "          [-6.6757e-02, -3.2387e-02,  4.2609e-02,  1.5052e-01,  3.6143e-02],\n",
      "          [-3.9112e-03,  4.0583e-02,  6.9038e-02,  2.4276e-02,  6.3098e-02],\n",
      "          [-5.6942e-02,  6.8174e-02,  1.2865e-01, -1.8473e-02, -3.0590e-02],\n",
      "          [-8.7970e-03,  7.4838e-02, -8.7872e-03, -5.4054e-02, -1.4746e-01]],\n",
      "\n",
      "         [[-5.1905e-02, -9.9473e-02,  2.2329e-02,  2.0008e-01,  1.9326e-01],\n",
      "          [-1.6163e-01,  5.6976e-03,  1.3534e-01,  2.1118e-01,  6.9528e-02],\n",
      "          [-1.3061e-01, -2.9439e-02,  3.3981e-02,  1.5854e-01,  1.8807e-02],\n",
      "          [-3.0377e-02,  5.0777e-02,  2.4634e-02,  4.1252e-03, -1.1433e-01],\n",
      "          [-1.0516e-02,  5.9016e-03,  3.6371e-02, -5.0136e-02, -1.8913e-01]]]],\n"
     ]
    },
    {
     "name": "stdout",
     "output_type": "stream",
     "text": [
      "       device='cuda:0', requires_grad=True)\n",
      "torch.Size([20])\n",
      "Parameter containing:\n",
      "tensor([-0.0355, -0.0663, -0.0070,  0.0555,  0.0004,  0.0543, -0.0153, -0.0219,\n",
      "        -0.0088,  0.0536,  0.0360,  0.0346, -0.0018,  0.0554,  0.0305, -0.0523,\n",
      "         0.0389,  0.0413, -0.0291, -0.0500], device='cuda:0',\n",
      "       requires_grad=True)\n",
      "torch.Size([50, 320])\n",
      "Parameter containing:\n",
      "tensor([[-0.0326, -0.0529, -0.0413,  ...,  0.0013,  0.0159, -0.0574],\n",
      "        [ 0.0610, -0.0703, -0.1132,  ...,  0.0300,  0.0688,  0.0229],\n",
      "        [ 0.0905,  0.0156,  0.0179,  ...,  0.0186, -0.0796, -0.0741],\n",
      "        ...,\n",
      "        [ 0.0267,  0.0056, -0.0368,  ..., -0.0086,  0.0100,  0.0502],\n",
      "        [-0.1533, -0.0697, -0.0346,  ...,  0.0567,  0.0662, -0.0328],\n",
      "        [ 0.0157, -0.0596, -0.0044,  ..., -0.0053, -0.1314,  0.0242]],\n",
      "       device='cuda:0', requires_grad=True)\n",
      "torch.Size([50])\n",
      "Parameter containing:\n",
      "tensor([-0.0183,  0.0050,  0.0270,  0.0550,  0.0173,  0.0141, -0.0555,  0.0177,\n",
      "         0.0384,  0.0208, -0.0108, -0.0065, -0.0251, -0.0090,  0.0397,  0.0734,\n",
      "         0.0687,  0.0522,  0.0402,  0.0012,  0.0089,  0.0549,  0.0094,  0.0688,\n",
      "         0.0110,  0.0080,  0.0486,  0.0130, -0.0666, -0.0057,  0.0041,  0.0445,\n",
      "         0.0306,  0.0026, -0.0226, -0.0301,  0.1020, -0.0009,  0.0053,  0.0245,\n",
      "         0.0276, -0.0298,  0.0573,  0.0039, -0.0708,  0.0371,  0.0001,  0.0099,\n",
      "         0.0501, -0.0683], device='cuda:0', requires_grad=True)\n",
      "torch.Size([10, 50])\n",
      "Parameter containing:\n",
      "tensor([[-1.0294e-01,  1.1683e-01, -3.1165e-02,  6.1043e-02, -1.5303e-01,\n",
      "          7.2397e-02,  1.2565e-01,  4.3491e-02,  1.1523e-01, -1.1297e-01,\n",
      "          5.3870e-02, -2.0666e-01,  1.1286e-01,  4.3331e-02,  1.1669e-01,\n",
      "         -1.0909e-01, -2.6423e-01, -2.0610e-01, -1.3291e-01, -1.6631e-01,\n",
      "         -2.5482e-01,  8.0157e-02,  6.0608e-02, -1.8011e-01,  2.4297e-02,\n",
      "          1.2769e-01,  7.3403e-02,  1.5023e-01, -1.9516e-01,  1.6161e-02,\n",
      "          1.5026e-01,  1.3817e-01, -1.9837e-01, -1.9825e-01,  1.7990e-01,\n",
      "         -8.6674e-02, -8.9423e-02, -1.1496e-01, -2.4617e-01,  8.2064e-02,\n",
      "         -1.2908e-02, -1.1126e-01, -2.2825e-04, -6.3057e-02, -1.1083e-01,\n",
      "         -1.5923e-01,  1.0459e-01, -3.5645e-01, -1.4049e-01,  4.6266e-02],\n",
      "        [-9.8045e-02, -1.4447e-01, -8.1185e-02,  1.8358e-01,  5.5427e-02,\n",
      "         -1.4311e-01, -2.8126e-01,  6.9562e-02,  6.7534e-02,  1.2607e-01,\n",
      "          9.9140e-02,  7.9085e-02, -3.0829e-01, -2.3302e-01, -2.7847e-01,\n",
      "          1.0482e-01,  1.2987e-01, -1.9192e-01, -1.5514e-01, -9.7161e-02,\n",
      "          1.3578e-01, -2.7181e-01, -1.8974e-01,  6.5289e-02,  3.7542e-02,\n",
      "         -1.8435e-01,  1.5274e-01, -9.0350e-02,  1.3546e-01, -1.3767e-01,\n",
      "         -2.6778e-01, -2.8204e-01, -1.8405e-01,  7.5140e-02, -9.3926e-02,\n",
      "          7.8878e-02,  2.2197e-01, -1.3815e-01,  4.2807e-02, -1.3719e-03,\n",
      "         -1.7387e-01,  4.2760e-02, -8.3963e-02, -8.7567e-02,  1.8027e-03,\n",
      "          3.7063e-02,  1.3119e-02,  4.7571e-02,  1.9125e-01, -6.0304e-02],\n",
      "        [-1.1214e-01,  1.6007e-01,  1.6396e-01, -1.5559e-02,  4.0031e-02,\n",
      "          1.6281e-01, -7.7597e-02, -2.8516e-01,  1.0879e-01, -1.2268e-01,\n",
      "          4.0621e-02, -1.2224e-01, -9.4577e-02,  1.0397e-02,  1.6735e-01,\n",
      "          6.4667e-02, -1.3928e-01, -1.5247e-01, -1.1260e-01, -2.0130e-01,\n",
      "          1.2953e-01,  6.0515e-03, -4.9029e-02,  9.8794e-02,  1.5416e-01,\n",
      "         -1.0970e-01, -1.1808e-01,  2.8671e-02,  1.3139e-01,  7.6478e-02,\n",
      "          1.2270e-01,  5.6159e-02,  2.9861e-02, -9.3540e-02,  5.2501e-02,\n",
      "          6.2711e-02, -2.2539e-02,  2.4458e-02,  6.4134e-02,  1.3926e-01,\n",
      "         -1.7968e-01,  6.9158e-02, -2.1600e-01, -6.3362e-02, -4.3719e-02,\n",
      "         -5.2715e-02, -1.9173e-01, -4.4579e-02,  4.7055e-02, -1.0896e-02],\n",
      "        [-1.2094e-01,  1.6617e-01, -8.2569e-02, -1.6272e-02, -2.3493e-01,\n",
      "         -1.7601e-01, -7.7365e-02, -9.0366e-02,  5.8735e-02, -3.9770e-02,\n",
      "          9.4013e-02,  1.5329e-03,  1.1216e-01, -9.4632e-02, -1.4037e-01,\n",
      "          1.3746e-01,  1.7470e-01, -2.2848e-01,  1.9963e-01, -6.0139e-02,\n",
      "         -1.1980e-01,  1.5150e-01,  1.3555e-01, -3.8068e-02,  1.1246e-02,\n",
      "         -7.8666e-02, -1.7899e-01,  8.1165e-03,  5.4804e-02, -6.5269e-02,\n",
      "         -2.2358e-02, -2.4537e-02, -1.4068e-01, -1.3944e-01, -1.6539e-01,\n",
      "         -4.8097e-02, -1.0694e-01,  1.0637e-01,  7.1642e-02,  9.7316e-02,\n",
      "         -8.9401e-02, -1.0669e-01, -1.7194e-01, -6.9506e-02,  7.1256e-02,\n",
      "         -2.1108e-01, -1.3323e-01,  1.2486e-01, -7.5758e-02, -8.4037e-02],\n",
      "        [ 1.0982e-01, -1.6886e-01,  7.9708e-02,  1.3744e-01, -3.3782e-02,\n",
      "         -9.1679e-04, -9.1749e-02,  6.4130e-02, -1.3882e-01,  1.1558e-01,\n",
      "         -1.0416e-01,  2.3968e-02, -1.4753e-01,  1.2361e-01, -6.9623e-02,\n",
      "         -1.1297e-01, -1.0060e-01,  1.4554e-01,  1.4626e-03,  1.0299e-01,\n",
      "         -1.3300e-01, -3.9217e-02,  3.4076e-02, -1.3970e-01, -1.2291e-01,\n",
      "         -7.1729e-02, -1.0294e-01, -1.2804e-01,  1.2393e-01,  1.5562e-01,\n",
      "         -1.0580e-01,  8.4700e-02,  7.9909e-02,  1.2750e-01, -1.4537e-01,\n",
      "         -1.6752e-01, -1.3430e-02,  1.2963e-01, -2.1444e-01, -2.4163e-01,\n",
      "          1.4357e-01,  1.0480e-02,  2.7969e-02, -1.9131e-01, -1.5745e-01,\n",
      "          8.2256e-02, -5.1715e-02,  6.8495e-02, -9.3226e-02, -1.4157e-01],\n",
      "        [-1.2897e-01,  5.3826e-02, -2.4651e-01, -1.3283e-01, -2.8601e-02,\n",
      "          3.3092e-02,  7.7076e-02,  4.3430e-02, -2.1607e-01,  7.2216e-02,\n",
      "         -1.3032e-01,  1.6043e-01,  9.9007e-02, -1.0358e-01, -1.7950e-01,\n",
      "          1.2558e-01,  1.2080e-01,  8.7267e-02,  1.2811e-01,  1.2217e-01,\n",
      "         -1.5581e-01,  9.3422e-02,  1.0407e-01, -2.4204e-01,  4.6821e-02,\n",
      "          1.1607e-01,  1.2515e-01,  1.0712e-01, -3.0331e-01, -8.6838e-02,\n",
      "          5.5587e-02,  8.9714e-02, -1.0270e-01, -1.2898e-01,  1.6466e-01,\n",
      "         -8.6381e-02, -1.6654e-03,  1.2723e-02, -1.3422e-01, -1.9193e-01,\n",
      "          1.4520e-01,  1.0943e-01,  6.2619e-02, -2.4504e-01, -9.6276e-02,\n",
      "         -2.7535e-01, -1.1198e-01, -1.5008e-02, -1.2663e-01, -7.5577e-02],\n",
      "        [-1.2580e-01, -5.0411e-02,  1.4370e-01, -1.6474e-01,  1.4254e-01,\n",
      "          1.5392e-01,  1.4394e-01, -1.4522e-01, -1.4102e-01,  1.4374e-01,\n",
      "         -3.0547e-02,  1.2652e-01, -1.4999e-01,  4.9045e-02, -1.4045e-01,\n",
      "         -1.0446e-01,  4.9529e-02,  1.0597e-01, -2.4037e-01, -6.3403e-02,\n",
      "         -1.3429e-01, -2.0450e-01, -2.5793e-01, -3.2276e-02, -1.6437e-01,\n",
      "          1.1686e-01, -1.8712e-01, -2.9799e-02, -3.1433e-02,  7.0620e-02,\n",
      "          1.4336e-01,  1.2464e-01, -5.1383e-02, -1.1740e-01,  1.5552e-01,\n",
      "         -2.8271e-01,  1.0437e-01, -8.8226e-03,  1.3845e-02, -1.4507e-01,\n",
      "          1.5055e-01, -1.3637e-01,  4.8105e-03, -9.6733e-02, -8.3753e-02,\n",
      "          8.5452e-02,  4.9577e-02, -1.9921e-01,  2.2546e-02, -7.8371e-02],\n",
      "        [-1.3102e-01,  1.6380e-01, -2.0146e-01, -9.2473e-02, -2.6369e-01,\n",
      "         -2.7030e-01, -2.1338e-01,  1.0749e-01,  1.5659e-02, -1.6694e-01,\n",
      "          4.7352e-02, -9.6320e-02,  1.3036e-01,  1.1486e-01,  9.0298e-03,\n",
      "         -1.5459e-01, -1.3218e-01, -4.8965e-02, -1.9561e-01, -9.6990e-02,\n",
      "          6.8273e-02,  1.3243e-01,  1.1297e-01, -2.1036e-02, -1.3721e-01,\n",
      "         -1.8852e-01,  5.3103e-02, -2.1057e-01, -6.3330e-02,  6.4745e-02,\n",
      "          5.3513e-02, -1.8166e-01, -9.8307e-02,  1.4545e-01, -1.1211e-01,\n",
      "          1.3859e-01, -1.2628e-01, -2.3640e-01, -1.4708e-01, -9.2347e-02,\n",
      "         -1.0778e-01, -1.3368e-01, -1.7687e-01,  2.1976e-01, -8.3737e-02,\n",
      "          8.3118e-02,  1.7180e-01, -1.9582e-01,  1.6543e-01, -5.5661e-02],\n",
      "        [-5.2501e-02, -1.1614e-01, -8.8075e-02, -5.2292e-02,  4.7923e-02,\n",
      "          5.2888e-03, -1.4667e-02, -6.4742e-02, -1.7861e-01, -1.3996e-01,\n",
      "         -1.1875e-01,  8.5356e-02,  2.3529e-02, -9.8129e-02, -1.0670e-01,\n",
      "         -1.4470e-01,  1.5139e-02, -1.0128e-01,  9.2030e-02,  7.5434e-02,\n",
      "          9.5649e-02,  5.1867e-02, -1.8136e-01,  1.0893e-01,  2.0928e-01,\n",
      "          9.7441e-02,  4.5507e-02,  1.4442e-01,  1.3588e-01, -2.1991e-01,\n",
      "         -1.1497e-01, -1.1169e-01, -1.8913e-01,  3.4540e-02,  1.5702e-01,\n",
      "          1.3015e-01, -2.1610e-02,  1.0385e-01,  1.3980e-02,  2.8582e-02,\n",
      "          1.4489e-01, -1.0677e-01,  1.0593e-01,  4.3225e-03,  9.1156e-02,\n",
      "          4.4551e-02, -4.7466e-02,  2.2408e-02,  3.4818e-02,  1.8134e-01],\n",
      "        [ 3.8657e-02,  4.0854e-03, -6.1256e-02, -1.5587e-01, -3.3139e-01,\n",
      "         -1.2430e-02, -2.4123e-01,  1.0865e-01, -2.1883e-01, -1.6152e-01,\n",
      "         -1.6140e-01,  1.3748e-01,  1.3267e-01,  9.3179e-02,  7.7964e-02,\n",
      "         -9.6273e-02,  7.7878e-03,  1.1206e-01,  5.9061e-02,  1.3253e-01,\n",
      "         -1.7842e-01,  4.5554e-02,  5.7190e-02,  2.4846e-02, -2.5996e-01,\n",
      "          3.6301e-02, -8.2598e-02, -8.0823e-02, -9.2441e-02,  2.7256e-02,\n",
      "         -3.7533e-02, -4.0422e-02,  7.0612e-02,  1.2059e-01, -8.7749e-02,\n",
      "          1.1625e-01, -5.6063e-02,  1.5245e-01, -2.8019e-01, -1.1673e-03,\n",
      "          8.8928e-02,  5.2096e-02,  8.6355e-02,  2.8780e-02,  3.9476e-02,\n",
      "          3.9951e-02,  1.7537e-01, -1.8005e-03, -8.6640e-02, -9.5619e-02]],\n"
     ]
    },
    {
     "name": "stdout",
     "output_type": "stream",
     "text": [
      "       device='cuda:0', requires_grad=True)\n",
      "torch.Size([10])\n",
      "Parameter containing:\n",
      "tensor([ 0.0257,  0.2220, -0.1858, -0.0058,  0.0298,  0.1546, -0.1204,  0.0471,\n",
      "        -0.1822,  0.0105], device='cuda:0', requires_grad=True)\n"
     ]
    }
   ],
   "source": [
    "for p in model.parameters():\n",
    "    print(p.shape)\n",
    "    print(p)"
   ]
  },
  {
   "cell_type": "markdown",
   "metadata": {},
   "source": [
    "# Is it working???\n",
    "The best way to figure out if it is working is to test the model on data the learning process hasn't used. Luckily we have such a dataset (it is basically a held out section of the data we already have used). I'm loading it all up the same way as before and printing them out to show you that they're different."
   ]
  },
  {
   "cell_type": "code",
   "execution_count": 68,
   "metadata": {},
   "outputs": [],
   "source": [
    "def collapse_nested_list(l):\n",
    "    return [a for b in l for a in b]\n",
    "\n",
    "def plot_training_log(train_log, val_log):\n",
    "    xx_train = np.array(train_log['n_samples']) / 1000\n",
    "    n_epoch = len(val_log['loss'])\n",
    "    xx_val = np.arange(1, n_epoch + 1) * xx_train[-1] / n_epoch\n",
    "    \n",
    "    plt.plot(xx_train, train_log['loss'], 'b')\n",
    "    # We prepend the first train loss score so there are enough datapoints to plot\n",
    "    # a line, even with a single epoch.\n",
    "    plt.plot(np.concatenate([[0], xx_val]), [train_log['loss'][0]] + val_log['loss'], 'ro-')\n",
    "    plt.title('Loss (lower is better)')\n",
    "    plt.xlabel('Number of samples presented (1000s)')\n",
    "    plt.ylabel('Cross-Entropy Loss')\n",
    "    plt.show()\n",
    "    \n",
    "    plt.plot(xx_train, train_log['accuracy'], 'b')\n",
    "    plt.plot(np.concatenate([[0], xx_val]), [train_log['accuracy'][0]] + val_log['accuracy'], 'ro-')\n",
    "    plt.title('Accuracy (higher is better)')\n",
    "    plt.xlabel('Number of samples presented (1000s)')\n",
    "    plt.ylabel('Accuracy (%)')\n",
    "    plt.show()\n",
    "    \n",
    "    if n_epoch > 1:\n",
    "        plt.plot(xx_train, train_log['accuracy'], 'b')\n",
    "        plt.plot(np.concatenate([[0], xx_val]), [10] + val_log['accuracy'], 'ro-')\n",
    "        plt.ylim([90, 100])\n",
    "        plt.title('Accuracy, zoomed in')\n",
    "        plt.xlabel('Number of samples presented (1000s)')\n",
    "        plt.ylabel('Accuracy (%)')\n",
    "        plt.show()\n",
    "    \n",
    "    plt.plot(xx_train, 1000 * np.array(train_log['time_batch_avg']), 'b')\n",
    "    plt.title('Training speed (lower is better)')\n",
    "    plt.xlabel('Number of samples presented (1000s)')\n",
    "    plt.ylabel('Duration per batch (ms)')\n",
    "    plt.show()"
   ]
  },
  {
   "cell_type": "code",
   "execution_count": 69,
   "metadata": {},
   "outputs": [
    {
     "data": {
      "image/png": "[encoded data removed]",
      "text/plain": [
       "<Figure size 432x288 with 1 Axes>"
      ]
     },
     "metadata": {
      "needs_background": "light"
     },
     "output_type": "display_data"
    },
    {
     "data": {
      "image/png": "[encoded data removed]",
      "text/plain": [
       "<Figure size 432x288 with 1 Axes>"
      ]
     },
     "metadata": {
      "needs_background": "light"
     },
     "output_type": "display_data"
    },
    {
     "data": {
      "image/png": "[encoded data removed]",
      "text/plain": [
       "<Figure size 432x288 with 1 Axes>"
      ]
     },
     "metadata": {
      "needs_background": "light"
     },
     "output_type": "display_data"
    }
   ],
   "source": [
    "plot_training_log(train_log, val_log)"
   ]
  },
  {
   "cell_type": "markdown",
   "metadata": {},
   "source": [
    "# Output Visualization"
   ]
  },
  {
   "cell_type": "markdown",
   "metadata": {},
   "source": [
    "Let's see how well we do over *all* of the test data!"
   ]
  },
  {
   "cell_type": "code",
   "execution_count": 52,
   "metadata": {},
   "outputs": [
    {
     "data": {
      "image/png": "[encoded data removed]",
      "text/plain": [
       "<Figure size 720x1440 with 10 Axes>"
      ]
     },
     "metadata": {
      "needs_background": "light"
     },
     "output_type": "display_data"
    }
   ],
   "source": [
    "images, labels = next(iter(testloader))\n",
    "if not no_cuda:\n",
    "    images = images.to(device)\n",
    "fig=plt.figure(figsize=(10, 20))\n",
    "for i in range (0, 10, 2):\n",
    "    img1 = images[i].view(1, 784)\n",
    "    img2 = images[i+1].view(1, 784)\n",
    "    with torch.no_grad():\n",
    "        if not no_cuda:\n",
    "            input = Variable(img1)\n",
    "            input = input.to(device)\n",
    "            output = model(input)\n",
    "            index = output.data.cpu().numpy().argmax()\n",
    "            fig.add_subplot(5, 2, i+1)\n",
    "            plt.imshow(img1.resize_(1, 28, 28).data.cpu().numpy().squeeze())\n",
    "            plt.title(\"Predicted Digit = {}\".format(index))\n",
    "            input = Variable(img2)\n",
    "            input = input.to(device)\n",
    "            output = model(input)\n",
    "            index = output.data.cpu().numpy().argmax()\n",
    "            fig.add_subplot(5, 2, i+2)\n",
    "            plt.imshow(img2.resize_(1, 28, 28).data.cpu().numpy().squeeze())\n",
    "            plt.title(\"Predicted Digit = {}\".format(index))\n",
    "        else:\n",
    "            logps = model(img1)\n",
    "            ps = torch.exp(logps)\n",
    "            probab = list(ps.numpy()[0])\n",
    "            fig.add_subplot(5, 2, i+1)\n",
    "            plt.imshow(img1.resize_(1, 28, 28).numpy().squeeze())\n",
    "            plt.title(\"Predicted Digit = {}\".format(probab.index(max(probab))))\n",
    "            logps = model(img2)\n",
    "            ps = torch.exp(logps)\n",
    "            probab = list(ps.numpy()[0])\n",
    "            fig.add_subplot(5, 2, i+2)\n",
    "            plt.imshow(img2.resize_(1, 28, 28).numpy().squeeze())\n",
    "            plt.title(\"Predicted Digit = {}\".format(probab.index(max(probab))))"
   ]
  },
  {
   "cell_type": "markdown",
   "metadata": {},
   "source": [
    "# Saving the Model\n",
    "Every framework is different - in this case PyTorch let's us save the model (which you remember is just a big matrix `W` and a vector `b`) to an internal format as well as to the ONNX format. These can then be loaded up as an asset to a program that is executed every time you need to recognize a digit!"
   ]
  },
  {
   "cell_type": "code",
   "execution_count": 53,
   "metadata": {},
   "outputs": [
    {
     "name": "stdout",
     "output_type": "stream",
     "text": [
      "Saved onnx model to model.onnx\n",
      "Saved PyTorch Model to model.pth\n"
     ]
    }
   ],
   "source": [
    "if not no_cuda:\n",
    "    x = torch.randint(255, (1, 28*28), dtype=torch.float).to(device) / 255\n",
    "else:\n",
    "    x = torch.randint(255, (1, 28*28), dtype=torch.float) / 255\n",
    "onnx.export(model, x, 'model.onnx')\n",
    "print('Saved onnx model to model.onnx')\n",
    "\n",
    "torch.save(model.state_dict(), 'model.pth')\n",
    "print('Saved PyTorch Model to model.pth')"
   ]
  },
  {
   "cell_type": "markdown",
   "metadata": {},
   "source": [
    "# Play!\n",
    "Now that you've gone through the whole process, please go back up to play around! Try changing:\n",
    "1. The actual model! The other models are almost identical with the exception that they learn additional Matrices (W's and b's) that the images pass through to get the final answer.\n",
    "2. The hyperparameters like `learning_rate`, `batch_size`, and `epoch`. Does it make things better or worse? 92% is ok, does any other combination of model's and hyperparamters fare better?\n",
    "\n",
    "## Final Thoughts\n",
    "Would love your feedback! Was this helpful? Any parts confusing? Drop me a line!"
   ]
  },
  {
   "cell_type": "code",
   "execution_count": null,
   "metadata": {},
   "outputs": [],
   "source": []
  }
 ],
 "metadata": {
  "kernelspec": {
   "display_name": "Lab02",
   "language": "python",
   "name": "lab02"
  },
  "language_info": {
   "codemirror_mode": {
    "name": "ipython",
    "version": 3
   },
   "file_extension": ".py",
   "mimetype": "text/x-python",
   "name": "python",
   "nbconvert_exporter": "python",
   "pygments_lexer": "ipython3",
   "version": "3.5.6"
  }
 },
 "nbformat": 4,
 "nbformat_minor": 2
}
