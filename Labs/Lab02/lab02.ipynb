{
 "cells": [
  {
   "cell_type": "markdown",
   "metadata": {},
   "source": [
    "![](images/logoai.png)\n",
    "![](images/globaai.jpg)"
   ]
  },
  {
   "cell_type": "markdown",
   "metadata": {},
   "source": [
    "### The Origin of MNIST Handwritten Digit Dataset\n",
    "The MNIST Handwritten Digit Dataset is contributed by Yann LeCun, Corinna Cortes and Christopher Burges to train a machine learning model to solve the issue of handwritten digit classification. Each image is a 28 by 28 pixel square (784 pixels total). This dataset contains 60,000 training images and 10,000 testing images in total for 10 different digits (0 to 10)."
   ]
  },
  {
   "cell_type": "markdown",
   "metadata": {},
   "source": [
    "### What is Pytorch?\n",
    "PyTorch is an open-source deep learning library for Python, based on Torch, used for applications such as natural language processing, image recognition, image classification, text processing, etc. It is primarily developed by Facebook’s artificial-intelligence research group. PyTorch provides two high-level features:\n",
    "- Tensor computation (like NumPy) with strong GPU acceleration\n",
    "- Deep neural networks built on a tape-based autodiff system"
   ]
  },
  {
   "cell_type": "markdown",
   "metadata": {},
   "source": [
    "### What is Azure Notebook?\n",
    "Azure Notebooks is a free service for anyone to develop and run code in their browser using Jupyter. Jupyter is an open source project that enables combing markdown prose, executable code, and graphics onto a single canvas. Azure Notebooks currently supports Python 2, Python 3, R, F# and their popular packages. All the developed code and used data will be stored on the cloud."
   ]
  },
  {
   "cell_type": "markdown",
   "metadata": {},
   "source": [
    "#### Step 1: Log in to Microsoft Azure Notebook:\n",
    "Go to https://notebooks.azure.com/, login with your credential. After you successfully login, the screen will be automatically jumped to the figure as shown below.\n",
    "![](images/aznotebooks1.png)"
   ]
  },
  {
   "cell_type": "markdown",
   "metadata": {},
   "source": [
    "Click on “My Projects” on the task-bar. Then, create a new project by pressing the button “New Project”.\n",
    "Fill in the project name. After that, click the button “Create”.\n",
    "A new folder for this project is created.\n",
    "![](images/aznotebooks2.png)"
   ]
  },
  {
   "cell_type": "markdown",
   "metadata": {},
   "source": [
    "![](images/aznotebooks3.png)"
   ]
  },
  {
   "cell_type": "markdown",
   "metadata": {},
   "source": [
    "#### Step 2: Create new notebook named “demo”\n",
    "Click on the button “+”, choose “Notebook”.\n",
    "Fill in the Notebook Name as “Demo”. Choose “Python 3.6” and click button “New”.\n",
    "A new notebook is created now for this project.\n",
    "![](images/aznotebooks4.png)"
   ]
  },
  {
   "cell_type": "markdown",
   "metadata": {},
   "source": [
    "# Digit Recognition Task\n",
    "If this is your first time running a notebook - welcome!! Notebooks are awesome because they let us play around and experiment\n",
    "with code with near-instant feedback. Some pointers:\n",
    "1. To execute a cell, click on it and hit SHIFT-Enter\n",
    "2. Once something is executed, the variables are in memory - inspect them!\n",
    "\n",
    "## Getting Started\n",
    "This first cell imports the necessary libraries so we can get started:\n",
    "1. Numpy — A fundamental package for scientific computing with Python. It contains a powerful N-dimensional array object, sophisticated (broadcasting) functions, tools for integrating C/C++ and Fortran code and useful linear algebra, Fourier transform, and random number capabilities.\n",
    "2. Matplotlib — A Python 2D plotting library which produces publication quality figures in a variety of hard copy formats and interactive environments across platforms.\n",
    "3. Torch — An open-source machine learning library, a scientific computing framework, and a script language based on the Lua programming language.\n",
    "4. Torchvision — A package consists of popular datasets, model architectures, and common image transformations for computer vision.\n",
    "5. Time — A module provides various time-related functions."
   ]
  },
  {
   "cell_type": "code",
   "execution_count": 54,
   "metadata": {},
   "outputs": [],
   "source": [
    "import numpy as np\n",
    "import torch\n",
    "import torchvision\n",
    "import torch.onnx as onnx\n",
    "import torch.nn.functional as F\n",
    "import matplotlib.pyplot as plt\n",
    "\n",
    "from time import time\n",
    "from torch import nn, optim\n",
    "from collections import defaultdict\n",
    "from torch.autograd import Variable\n",
    "from torch.utils.data import DataLoader\n",
    "from torchvision import datasets, transforms"
   ]
  },
  {
   "cell_type": "markdown",
   "metadata": {},
   "source": [
    "Let's also check to make sure torch thinks we can use the GPU."
   ]
  },
  {
   "cell_type": "code",
   "execution_count": 55,
   "metadata": {},
   "outputs": [
    {
     "data": {
      "text/plain": [
       "True"
      ]
     },
     "execution_count": 55,
     "metadata": {},
     "output_type": "execute_result"
    }
   ],
   "source": [
    "torch.cuda.is_available()"
   ]
  },
  {
   "cell_type": "code",
   "execution_count": 56,
   "metadata": {},
   "outputs": [
    {
     "name": "stdout",
     "output_type": "stream",
     "text": [
      "Using cpu device\n"
     ]
    }
   ],
   "source": [
    "no_cuda=True\n",
    "use_cuda = not no_cuda and torch.cuda.is_available()\n",
    "device = torch.device(\"cuda\" if use_cuda else \"cpu\")\n",
    "print('Using {} device'.format(device))"
   ]
  },
  {
   "cell_type": "markdown",
   "metadata": {},
   "source": [
    "This should be True. If you see False here, something is wrong and torch isn't going to be able to run on the GPU.\n",
    "\n",
    "Possible causes to seeing False at this point:\n",
    "\n",
    "You don't have a GPU (see above with regards to the nvidia-smi check)\n",
    "You have a CPU-only version of pytorch installed, in which case you need to install the gpu enabled version\n",
    "You don't have the CUDA library\n",
    "You don't have the CUDA library path included on either the PATH or LD_LIBRARY_PATH variables\n",
    "You have the wrong version of CUDA for the version of pytorch\n",
    "Probably other possiblities"
   ]
  },
  {
   "cell_type": "markdown",
   "metadata": {},
   "source": [
    " ## Data!\n",
    " Without data we really can't do anything with machine learning. At this point we have our sharp question **can we predict a digit given a 28x28 vector of numbers?**\n",
    " \n",
    " Once that is all squared away we need to take a look at our data. The next cell is a helper function that visualizes the the digits (a sanity check).\n"
   ]
  },
  {
   "cell_type": "markdown",
   "metadata": {},
   "source": [
    "### But what are tensors? And how do they relate to machine learning?"
   ]
  },
  {
   "cell_type": "markdown",
   "metadata": {},
   "source": [
    "It is nothing more than a simple mathematical concept. Tensors are mathematical objects that generalize scalars, vectors and matrices to higher dimensions. If you are familiar with basic linear algebra, you should have no trouble understanding what tensors are. In short, a single-dimensional tensor can be represented as a vector. A two-dimensional tensor, as you may have guessed, can be represented as a matrix.\n",
    "\n",
    "Even though it’s easy to generalize tensors as multi-dimensional matrices ranging from zero to N dimensions, it is important to remember that tensors are dynamic. That is, tensors will transform when interacting with other mathematical entities. Matrices, on the other hand, don’t always have this property."
   ]
  },
  {
   "cell_type": "markdown",
   "metadata": {},
   "source": [
    "![](images/tensor.jpeg)"
   ]
  },
  {
   "cell_type": "markdown",
   "metadata": {},
   "source": [
    "Tensor operations are simple. Consider the following tensors:"
   ]
  },
  {
   "cell_type": "code",
   "execution_count": 57,
   "metadata": {},
   "outputs": [
    {
     "data": {
      "text/plain": [
       "3"
      ]
     },
     "execution_count": 57,
     "metadata": {},
     "output_type": "execute_result"
    }
   ],
   "source": [
    "a = np.array([[[4,1,2],\n",
    "               [3,5,2],\n",
    "               [1,6,7]],\n",
    "               [[2,1,0],\n",
    "               [5,4,3],\n",
    "               [6,8,9]],\n",
    "               [[1,2,3],\n",
    "               [2,3,4],\n",
    "               [5,5,5]]])\n",
    "\n",
    "b = np.array([[[1,1,1],\n",
    "               [2,2,2],\n",
    "               [3,3,3]],\n",
    "               [[4,4,4],\n",
    "               [5,5,5],\n",
    "               [6,6,6]],\n",
    "               [[7,7,7],\n",
    "               [8,8,8],\n",
    "               [9,9,9]]])\n",
    "a.ndim"
   ]
  },
  {
   "cell_type": "code",
   "execution_count": 58,
   "metadata": {},
   "outputs": [
    {
     "name": "stdout",
     "output_type": "stream",
     "text": [
      "[[[ 5  2  3]\n",
      "  [ 5  7  4]\n",
      "  [ 4  9 10]]\n",
      "\n",
      " [[ 6  5  4]\n",
      "  [10  9  8]\n",
      "  [12 14 15]]\n",
      "\n",
      " [[ 8  9 10]\n",
      "  [10 11 12]\n",
      "  [14 14 14]]]\n"
     ]
    }
   ],
   "source": [
    "print(a+b)"
   ]
  },
  {
   "cell_type": "markdown",
   "metadata": {},
   "source": [
    "### Where will we use Tensor in this LAB?"
   ]
  },
  {
   "cell_type": "markdown",
   "metadata": {},
   "source": [
    "Remember, most machines cannot learn without having any data. And modern data is often multi-dimensional. Tensors can play an important role in ML by encoding multi-dimensional data. \n",
    "\n",
    "For example in our case, a picture is generally represented by three fields: width, height and depth (color).\n",
    "\n",
    "It makes total sense to encode it as a 3D tensor. However, more than often we are dealing with tens of thousands of pictures. Hence this is where the forth field, sample size comes into play. A series of images, such as the famous MNIST dataset, can be easily stored in a 4D tensor in Tensorflow. This representation allows problems involving big data to be solved easily."
   ]
  },
  {
   "cell_type": "markdown",
   "metadata": {},
   "source": [
    "### Define the pre-processing methods"
   ]
  },
  {
   "cell_type": "markdown",
   "metadata": {},
   "source": [
    "Image transformations are applied onto the images so they can be fed into the model later for training or testing and improve the model accuracy.\n",
    "\n",
    "- transforms.RandomRotation(10) — Rotate the image in the range of [-10, 10] degrees randomly.\n",
    "- transforms.ToTensor() — Convert theimage to tensor.\n",
    "- transforms.Normalize((0.5,), (0.5,)) — Normalize the tensor image with mean and standard deviation. In this case, mean=0.5 and std=0.5 This will normalize the image in the range [-1,1]. For example, the minimum value 0 will be converted to (0-0.5)/0.5=-1, the maximum value of 1 will be converted to (1-0.5)/0.5=1."
   ]
  },
  {
   "cell_type": "code",
   "execution_count": 59,
   "metadata": {},
   "outputs": [],
   "source": [
    "transform = transforms.Compose([transforms.RandomRotation(10), \n",
    "                                transforms.ToTensor(),\n",
    "                                transforms.Normalize((0.5,), (0.5,))\n",
    "                              ])"
   ]
  },
  {
   "cell_type": "markdown",
   "metadata": {},
   "source": [
    "### Preparation of training and testing dataset and dataloader"
   ]
  },
  {
   "cell_type": "markdown",
   "metadata": {},
   "source": [
    "The operations of these codes are:\n",
    "Download the MNIST handwritten digit recognition dataset into the “train” and “test” folders.\n",
    "Generate the train and test datasets by inputting the downloaded images and transforming them based on defined pre-processing methods in the previous step.\n",
    "Define the train and test loaders by setting 64 images will be fed into the model in each epoch randomly for training and non-randomly for testing."
   ]
  },
  {
   "cell_type": "markdown",
   "metadata": {},
   "source": [
    "The next cell downloads the standard digit dataset (called MNIST). The `transform` and `target_transform` parts of this call add some conversion steps to make the data more suitable for the models we will try."
   ]
  },
  {
   "cell_type": "code",
   "execution_count": 60,
   "metadata": {},
   "outputs": [],
   "source": [
    "trainset = datasets.MNIST('train', download=True, train=True, transform=transform)\n",
    "testset = datasets.MNIST('test', download=True, train=False, transform=transform)\n",
    "trainloader = torch.utils.data.DataLoader(trainset, batch_size=64, shuffle=True)\n",
    "testloader = torch.utils.data.DataLoader(testset, batch_size=64, shuffle=False)"
   ]
  },
  {
   "cell_type": "markdown",
   "metadata": {},
   "source": [
    "Here is our sanity check!"
   ]
  },
  {
   "cell_type": "code",
   "execution_count": 61,
   "metadata": {},
   "outputs": [
    {
     "data": {
      "text/plain": [
       "Dataset MNIST\n",
       "    Number of datapoints: 60000\n",
       "    Root location: train\n",
       "    Split: Train\n",
       "    StandardTransform\n",
       "Transform: Compose(\n",
       "               RandomRotation(degrees=(-10, 10), resample=False, expand=False)\n",
       "               ToTensor()\n",
       "               Normalize(mean=(0.5,), std=(0.5,))\n",
       "           )"
      ]
     },
     "execution_count": 61,
     "metadata": {},
     "output_type": "execute_result"
    }
   ],
   "source": [
    "trainset"
   ]
  },
  {
   "cell_type": "markdown",
   "metadata": {},
   "source": [
    "### Data Visualization"
   ]
  },
  {
   "cell_type": "markdown",
   "metadata": {},
   "source": [
    "The images can be reconstructed and plotted by loading one batch of images."
   ]
  },
  {
   "cell_type": "code",
   "execution_count": 62,
   "metadata": {},
   "outputs": [
    {
     "name": "stdout",
     "output_type": "stream",
     "text": [
      "torch.Size([64, 1, 28, 28])\n",
      "torch.Size([64])\n"
     ]
    }
   ],
   "source": [
    "dataiter = iter(trainloader)\n",
    "images, labels = dataiter.next()\n",
    "print(images.shape)\n",
    "print(labels.shape)"
   ]
  },
  {
   "cell_type": "markdown",
   "metadata": {},
   "source": [
    "As you can see, the shape of the image is (64, 1, 28, 28). For each batch except the last batch, there are 64 grey-scale images. Each image contains 1 channel (grey-scale), 28 pixels of width and 28 pixels of height."
   ]
  },
  {
   "cell_type": "markdown",
   "metadata": {},
   "source": [
    "Print the unique elements of our dataset:"
   ]
  },
  {
   "cell_type": "code",
   "execution_count": 63,
   "metadata": {},
   "outputs": [
    {
     "name": "stdout",
     "output_type": "stream",
     "text": [
      "[0 1 2 3 4 5 6 7 8 9]\n"
     ]
    }
   ],
   "source": [
    "y_unq = np.unique(labels)\n",
    "print(np.unique(labels))"
   ]
  },
  {
   "cell_type": "code",
   "execution_count": 64,
   "metadata": {},
   "outputs": [],
   "source": [
    "labellist=[]\n",
    "for images, labels in trainloader:\n",
    "    labellist.append(labels[0].item())"
   ]
  },
  {
   "cell_type": "code",
   "execution_count": 65,
   "metadata": {},
   "outputs": [
    {
     "data": {
      "image/png": "[encoded data removed]",
      "text/plain": [
       "<Figure size 432x288 with 1 Axes>"
      ]
     },
     "metadata": {
      "needs_background": "light"
     },
     "output_type": "display_data"
    }
   ],
   "source": [
    "bin_edges = np.concatenate([y_unq, y_unq[[-1]] + 1])\n",
    "plt.hist(labellist, bins=bin_edges)\n",
    "plt.xlabel('Class label')\n",
    "plt.ylabel('Count')\n",
    "plt.title('Training label distribution')\n",
    "plt.show()"
   ]
  },
  {
   "cell_type": "markdown",
   "metadata": {},
   "source": [
    "### Plot the images with Matplotlib library."
   ]
  },
  {
   "cell_type": "code",
   "execution_count": 66,
   "metadata": {},
   "outputs": [
    {
     "data": {
      "image/png": "[encoded data removed]",
      "text/plain": [
       "<Figure size 432x288 with 30 Axes>"
      ]
     },
     "metadata": {
      "needs_background": "light"
     },
     "output_type": "display_data"
    }
   ],
   "source": [
    "figure = plt.figure()\n",
    "num_of_images = 30\n",
    "for index in range(1, num_of_images + 1):\n",
    "    plt.subplot(6, 10, index)\n",
    "    plt.axis('off')\n",
    "    plt.imshow(images[index].numpy().squeeze(), cmap='gray_r')"
   ]
  },
  {
   "cell_type": "markdown",
   "metadata": {},
   "source": [
    "# Choosing Models and define the network architecture\n",
    "![](images/network.png)\n",
    "Now that we have some data it's time to start picking models we think might work. This is where the science part of data-science comes in: we guess and then check if our assumptions were right. Imagine models like water pipes that have to distribute water to 10 different hoses depending on 784 knobs. These 784 knobs represent the individual pixels in the digit and the 10 hoses at the end represent the actual number (or at least the index of the one with the most water coming out of it). Our job now is to pick the plumbing in between.\n",
    "\n",
    "The next three cells represent three different constructions in an increasingly more complex order:\n",
    "\n",
    "1. The first is a simple linear model,\n",
    "2. The second is a 3 layer Neural Network,\n",
    "3. and the last is a full convolutional neural network\n",
    "\n",
    "While it is out of the scope of this tutorial to fully explain how they work, just imagine they are basically plumbing with internal knobs that have to be tuned to produce the right water pressure at the end to push the most water out of the right\n",
    "index. As you go down each cell the plumbing and corresponding internal knobs just get more complicated."
   ]
  },
  {
   "cell_type": "code",
   "execution_count": 67,
   "metadata": {},
   "outputs": [],
   "source": [
    "class SimpleLinear(nn.Module):\n",
    "    def __init__(self):\n",
    "        super(SimpleLinear, self).__init__()\n",
    "        self.layer1 = nn.Linear(28*28, 10)\n",
    "\n",
    "    def forward(self, x):\n",
    "        x = self.layer1(x)\n",
    "        return F.softmax(x, dim=1)"
   ]
  },
  {
   "cell_type": "code",
   "execution_count": 68,
   "metadata": {},
   "outputs": [],
   "source": [
    "class NeuralNework(nn.Module):\n",
    "    def __init__(self):\n",
    "        super(NeuralNework, self).__init__()\n",
    "        self.layer1 = nn.Linear(28*28, 512)\n",
    "        self.layer2 = nn.Linear(512, 512)\n",
    "        self.output = nn.Linear(512, 10)\n",
    "\n",
    "    def forward(self, x):\n",
    "        x = F.relu(self.layer1(x))\n",
    "        x = F.relu(self.layer2(x))\n",
    "        x = self.output(x)\n",
    "        return F.softmax(x, dim=1)"
   ]
  },
  {
   "cell_type": "code",
   "execution_count": 69,
   "metadata": {},
   "outputs": [],
   "source": [
    "class CNN(nn.Module):\n",
    "    def __init__(self):\n",
    "        super(CNN, self).__init__()\n",
    "        self.conv1 = nn.Conv2d(1, 10, kernel_size=5)\n",
    "        self.conv2 = nn.Conv2d(10, 20, kernel_size=5)\n",
    "        self.conv2_drop = nn.Dropout2d()\n",
    "        self.fc1 = nn.Linear(320, 50)\n",
    "        self.fc2 = nn.Linear(50, 10)\n",
    "\n",
    "    def forward(self, x):\n",
    "        x = x.view(-1, 1, 28, 28)\n",
    "        x = F.relu(F.max_pool2d(self.conv1(x), 2))\n",
    "        x = F.relu(F.max_pool2d(self.conv2_drop(self.conv2(x)), 2))\n",
    "        x = x.view(-1, 320)\n",
    "        x = F.relu(self.fc1(x))\n",
    "        x = F.dropout(x, training=self.training)\n",
    "        x = self.fc2(x)\n",
    "        return F.softmax(x, dim=1)"
   ]
  },
  {
   "cell_type": "code",
   "execution_count": 70,
   "metadata": {},
   "outputs": [
    {
     "name": "stdout",
     "output_type": "stream",
     "text": [
      "CNN(\n",
      "  (conv1): Conv2d(1, 10, kernel_size=(5, 5), stride=(1, 1))\n",
      "  (conv2): Conv2d(10, 20, kernel_size=(5, 5), stride=(1, 1))\n",
      "  (conv2_drop): Dropout2d(p=0.5, inplace=False)\n",
      "  (fc1): Linear(in_features=320, out_features=50, bias=True)\n",
      "  (fc2): Linear(in_features=50, out_features=10, bias=True)\n",
      ")\n"
     ]
    }
   ],
   "source": [
    "model = CNN().to(device)\n",
    "print(model)"
   ]
  },
  {
   "cell_type": "markdown",
   "metadata": {},
   "source": [
    "# Optimizing Model Parameters. \n",
    "## Define the criterion or loss function and optimizer\n",
    "Now that we have some models it's time to optimize the internal parameters to see if it can do a good job at recognizing digits! It turns out there are some parameters that we can give the optimization algorithm to tune how it trains - these are called hyper-parameters. That's what the two variables represent below:"
   ]
  },
  {
   "cell_type": "code",
   "execution_count": 71,
   "metadata": {},
   "outputs": [],
   "source": [
    "learning_rate = 1e-3\n",
    "batch_size = 64\n",
    "epochs = 5"
   ]
  },
  {
   "cell_type": "markdown",
   "metadata": {},
   "source": [
    "The `learning_rate` basically specifies how fast the algorithm will learn the model parameters. Right now you're probably thinking \"let's set it to fifty million #amirite?\" The best analogy for why this is a bad idea is golf. I'm a terrible golfist (is that right?) so I don't really know anything - but pretend you are trying to sink a shot (again sorry) but can only hit the ball the same distance every time. Easy right? Hit it the exact length from where you are to the hole! Done! Now pretend you don't know where the hole is but just know the general direction. Now the distance you choose actually matters. If it is too long a distance you'll miss the hole, and then when you hit it back you'll overshoot again. If the distance is too small then it will take forever to get there but for sure you'll eventually get it in. Basically you have to guess what the right distance per shot should be and then try it out. That is basically what the learning rate does for finding the \"hole in one\" for the right parameters (ok, I'm done with the golf stuff).\n",
    "\n",
    "Below there are three things that make this all work:\n",
    "1. **The Model** - this is the function we're making that takes in the digit vector and should return the right number\n",
    "2. **The Cost Function** (sometimes called the loss function). I know I promised I was done with golf but I lied. Remember how I said in our screwy golf game you knew the general direction of the hole? The cost function tells us the distance to the hole - when it's zero we're there! In actual scientific terms, the cost function tells us how bad the model is at getting the right answer. As we take shots you should see the cost function decreasing. If this does not happen then something is wrong. At this point I would change the shot distance (or `learning_rate`) to something smaller and try again. If that doesn't work maybe change the model!\n",
    "3. **The Optimizer** - this part is the bit that actually changes the model parameters. It has a sense for the direction we should be shooting and updates all of the internal numbers inside the model to find the best internal knobs to predict the right digits. In this case I am using the Binary Cross Entropy cost function because, well, I know it works. There are a ton of different cost functions you can choose from that fit a variety of different scenarios."
   ]
  },
  {
   "cell_type": "code",
   "execution_count": 72,
   "metadata": {},
   "outputs": [],
   "source": [
    "# criterion = nn.NLLLoss()\n",
    "# optimizer = optim.SGD(model.parameters(), lr=0.003, momentum=0.5)\n",
    "optimizer = torch.optim.Adam(model.parameters(), lr=learning_rate)"
   ]
  },
  {
   "cell_type": "markdown",
   "metadata": {},
   "source": [
    "I forgot to mention the whole `cuda` thing. GPUs speed this whole process up because this is basically all a big Matrix multiplcation problem in a `for` loop. PyTorch is great because you basically need to tell the model where to run (either on the CPU or using CUDA - which is a platform for moving computations to the GPU).\n",
    "\n",
    "Now for the learning part! The `dataloader`'s job is to iterate through the entire dataset (in this case 60,000 examples of digits and their corresponding label) but to take chunks of size `batch_size` of the data to process. This is another hyperparameter that needs to be chosen. `epochs` is the number of times we want to loop through the dataset in its entirety (again something we choose based upon how our experiment goes).\n",
    "\n",
    "A word on how long this takes - it takes a while."
   ]
  },
  {
   "cell_type": "markdown",
   "metadata": {},
   "source": [
    "# Train the model"
   ]
  },
  {
   "cell_type": "markdown",
   "metadata": {},
   "source": [
    "We'll:\n",
    "1. Record the start time of the training.\n",
    "2. Set the training epoch to 20.\n",
    "3. For each epoch, reset the running loss to 0, train the model then print the running loss after each epoch.\n",
    "4. Record the end time of the training. Display the duration by using the end training time minus start training time."
   ]
  },
  {
   "cell_type": "code",
   "execution_count": 73,
   "metadata": {},
   "outputs": [],
   "source": [
    "log_interval=10\n",
    "train_log = defaultdict(list)\n",
    "val_log = defaultdict(list)"
   ]
  },
  {
   "cell_type": "code",
   "execution_count": 74,
   "metadata": {},
   "outputs": [],
   "source": [
    "def train(model, device, train_loader, optimizer, epoch, log_interval):\n",
    "    model.train()\n",
    "    train_log = defaultdict(list)\n",
    "    t_log = time()\n",
    "    n_samples = 0\n",
    "    for batch_idx, (data, target) in enumerate(train_loader):\n",
    "        t0 = time()\n",
    "        data, target = data.to(device), target.to(device).long()\n",
    "        optimizer.zero_grad()\n",
    "        output = model(data)\n",
    "        loss = F.cross_entropy(output, target)\n",
    "        t1 = time()\n",
    "        loss.backward()\n",
    "        t2 = time()\n",
    "        optimizer.step()\n",
    "        t3 = time()\n",
    "        n_samples += data.shape[0]\n",
    "        if batch_idx % log_interval == 0:\n",
    "            pred = output.max(1, keepdim=True)[1]\n",
    "            correct = pred.eq(target.view_as(pred)).sum().item()\n",
    "\n",
    "            train_log['n_iter'].append(epoch * len(train_loader) + batch_idx + 1)\n",
    "            train_log['n_samples'].append(n_samples + (epoch - 1) * len(train_loader.dataset))\n",
    "            train_log['loss'].append(loss.detach())\n",
    "            train_log['accuracy'].append(100. * correct / data.shape[0])\n",
    "            train_log['time_batch'].append(t3 - t0)\n",
    "            train_log['time_batch_forward'].append(t1 - t0)\n",
    "            train_log['time_batch_backward'].append(t2 - t1)\n",
    "            train_log['time_batch_update'].append(t3 - t2)\n",
    "            t4 = time()\n",
    "            train_log['time_batch_avg'].append((t4 - t_log) / log_interval)\n",
    "            print(\n",
    "                'Train Epochs: {} [{:5d}/{:5d} ({:3.0f}%)]'\n",
    "                '\\tLoss: {:.6f}'\n",
    "                '\\tTime: {:.4f}ms/batch'.format(\n",
    "                    epoch, n_samples, len(train_loader.dataset),\n",
    "                    100. * (batch_idx + 1) / len(train_loader), loss.item(),\n",
    "                    1000 * (t4 - t_log) / log_interval,\n",
    "                )\n",
    "            )\n",
    "            t_log = time()\n",
    "    return train_log"
   ]
  },
  {
   "cell_type": "markdown",
   "metadata": {},
   "source": [
    "# Test the model\n",
    "The operations of these codes are:\n",
    "1. Initialize the variables “correct_count” and “all_count” for accuracy calculation.\n",
    "2. Load the test images, feed the images into the well-trained model and get the outputs.\n",
    "3. Compare the outputs’ label with the original label. It will be counted as a correct prediction if output label is same with original label for each test image.\n",
    "4. Display the accuracy score of the model. The accuracy of this model is 95%."
   ]
  },
  {
   "cell_type": "code",
   "execution_count": 75,
   "metadata": {},
   "outputs": [],
   "source": [
    "def test(model, device, test_loader, log_interval):\n",
    "    model.eval()\n",
    "    test_loss = 0\n",
    "    correct = 0\n",
    "    preds = []\n",
    "    targets = []\n",
    "    num_batches = 0\n",
    "    with torch.no_grad():\n",
    "        for data, target in test_loader:\n",
    "            num_batches += 1\n",
    "            data, target = data.to(device), target.to(device).long()\n",
    "            output = model(data)\n",
    "            test_loss += F.cross_entropy(output, target, reduction='sum').item()\n",
    "            pred = output.max(1, keepdim=True)[1]\n",
    "            correct += pred.eq(target.view_as(pred)).sum().item()\n",
    "            preds.append(pred.cpu().numpy())\n",
    "            targets.append(target.cpu().numpy())\n",
    "    \n",
    "    # Remove list nesting\n",
    "    preds = np.concatenate(preds).squeeze()\n",
    "    targets = np.concatenate(targets).squeeze()\n",
    "\n",
    "    test_loss /= len(test_loader.dataset)\n",
    "    accuracy = 100. * correct / len(test_loader.dataset)\n",
    "    print('\\nTest set: Average loss: {:.4f}, Accuracy: {}/{} ({:.3f}%)\\n'\n",
    "        ''.format(\n",
    "            test_loss,\n",
    "            correct, len(test_loader.dataset), accuracy,\n",
    "            )\n",
    "        )\n",
    "    return test_loss, accuracy"
   ]
  },
  {
   "cell_type": "code",
   "execution_count": 76,
   "metadata": {},
   "outputs": [
    {
     "name": "stdout",
     "output_type": "stream",
     "text": [
      "Train Epochs: 5 [   64/60000 (  0%)]\tLoss: 2.301015\tTime: 71.1086ms/batch\n",
      "Train Epochs: 5 [  704/60000 (  1%)]\tLoss: 2.298033\tTime: 46.0001ms/batch\n",
      "Train Epochs: 5 [ 1344/60000 (  2%)]\tLoss: 2.295942\tTime: 44.5000ms/batch\n",
      "Train Epochs: 5 [ 1984/60000 (  3%)]\tLoss: 2.262556\tTime: 43.6997ms/batch\n",
      "Train Epochs: 5 [ 2624/60000 (  4%)]\tLoss: 2.181574\tTime: 47.0001ms/batch\n",
      "Train Epochs: 5 [ 3264/60000 (  5%)]\tLoss: 2.078135\tTime: 43.9999ms/batch\n",
      "Train Epochs: 5 [ 3904/60000 (  7%)]\tLoss: 2.002756\tTime: 49.4648ms/batch\n",
      "Train Epochs: 5 [ 4544/60000 (  8%)]\tLoss: 1.915813\tTime: 45.7681ms/batch\n",
      "Train Epochs: 5 [ 5184/60000 (  9%)]\tLoss: 2.000251\tTime: 46.4004ms/batch\n",
      "Train Epochs: 5 [ 5824/60000 ( 10%)]\tLoss: 1.994583\tTime: 53.1296ms/batch\n",
      "Train Epochs: 5 [ 6464/60000 ( 11%)]\tLoss: 1.771763\tTime: 51.5002ms/batch\n",
      "Train Epochs: 5 [ 7104/60000 ( 12%)]\tLoss: 1.891720\tTime: 48.5989ms/batch\n",
      "Train Epochs: 5 [ 7744/60000 ( 13%)]\tLoss: 1.820213\tTime: 46.7138ms/batch\n",
      "Train Epochs: 5 [ 8384/60000 ( 14%)]\tLoss: 1.935352\tTime: 51.5639ms/batch\n",
      "Train Epochs: 5 [ 9024/60000 ( 15%)]\tLoss: 1.738895\tTime: 45.2000ms/batch\n",
      "Train Epochs: 5 [ 9664/60000 ( 16%)]\tLoss: 1.844175\tTime: 45.8601ms/batch\n",
      "Train Epochs: 5 [10304/60000 ( 17%)]\tLoss: 1.809353\tTime: 47.8124ms/batch\n",
      "Train Epochs: 5 [10944/60000 ( 18%)]\tLoss: 1.742404\tTime: 51.8007ms/batch\n",
      "Train Epochs: 5 [11584/60000 ( 19%)]\tLoss: 1.723287\tTime: 59.5651ms/batch\n",
      "Train Epochs: 5 [12224/60000 ( 20%)]\tLoss: 1.665241\tTime: 46.1003ms/batch\n",
      "Train Epochs: 5 [12864/60000 ( 21%)]\tLoss: 1.683441\tTime: 52.6000ms/batch\n",
      "Train Epochs: 5 [13504/60000 ( 22%)]\tLoss: 1.809190\tTime: 44.2626ms/batch\n",
      "Train Epochs: 5 [14144/60000 ( 24%)]\tLoss: 1.700215\tTime: 50.5000ms/batch\n",
      "Train Epochs: 5 [14784/60000 ( 25%)]\tLoss: 1.708495\tTime: 61.5999ms/batch\n",
      "Train Epochs: 5 [15424/60000 ( 26%)]\tLoss: 1.735244\tTime: 53.8671ms/batch\n",
      "Train Epochs: 5 [16064/60000 ( 27%)]\tLoss: 1.711396\tTime: 49.8002ms/batch\n",
      "Train Epochs: 5 [16704/60000 ( 28%)]\tLoss: 1.793271\tTime: 45.4623ms/batch\n",
      "Train Epochs: 5 [17344/60000 ( 29%)]\tLoss: 1.698225\tTime: 46.0002ms/batch\n",
      "Train Epochs: 5 [17984/60000 ( 30%)]\tLoss: 1.748433\tTime: 47.2079ms/batch\n",
      "Train Epochs: 5 [18624/60000 ( 31%)]\tLoss: 1.659714\tTime: 49.8121ms/batch\n",
      "Train Epochs: 5 [19264/60000 ( 32%)]\tLoss: 1.752721\tTime: 48.9001ms/batch\n",
      "Train Epochs: 5 [19904/60000 ( 33%)]\tLoss: 1.644714\tTime: 47.4711ms/batch\n",
      "Train Epochs: 5 [20544/60000 ( 34%)]\tLoss: 1.661532\tTime: 50.4213ms/batch\n",
      "Train Epochs: 5 [21184/60000 ( 35%)]\tLoss: 1.771055\tTime: 48.8001ms/batch\n",
      "Train Epochs: 5 [21824/60000 ( 36%)]\tLoss: 1.769148\tTime: 44.0002ms/batch\n",
      "Train Epochs: 5 [22464/60000 ( 37%)]\tLoss: 1.617352\tTime: 43.6999ms/batch\n",
      "Train Epochs: 5 [23104/60000 ( 38%)]\tLoss: 1.622350\tTime: 43.4998ms/batch\n",
      "Train Epochs: 5 [23744/60000 ( 40%)]\tLoss: 1.727405\tTime: 43.0999ms/batch\n",
      "Train Epochs: 5 [24384/60000 ( 41%)]\tLoss: 1.764197\tTime: 43.9998ms/batch\n",
      "Train Epochs: 5 [25024/60000 ( 42%)]\tLoss: 1.733378\tTime: 43.0998ms/batch\n",
      "Train Epochs: 5 [25664/60000 ( 43%)]\tLoss: 1.708460\tTime: 42.2998ms/batch\n",
      "Train Epochs: 5 [26304/60000 ( 44%)]\tLoss: 1.678142\tTime: 43.0998ms/batch\n",
      "Train Epochs: 5 [26944/60000 ( 45%)]\tLoss: 1.699439\tTime: 51.9660ms/batch\n",
      "Train Epochs: 5 [27584/60000 ( 46%)]\tLoss: 1.729283\tTime: 45.2998ms/batch\n",
      "Train Epochs: 5 [28224/60000 ( 47%)]\tLoss: 1.714567\tTime: 48.4000ms/batch\n",
      "Train Epochs: 5 [28864/60000 ( 48%)]\tLoss: 1.651775\tTime: 44.9616ms/batch\n",
      "Train Epochs: 5 [29504/60000 ( 49%)]\tLoss: 1.698089\tTime: 44.0000ms/batch\n",
      "Train Epochs: 5 [30144/60000 ( 50%)]\tLoss: 1.755458\tTime: 47.2001ms/batch\n",
      "Train Epochs: 5 [30784/60000 ( 51%)]\tLoss: 1.673583\tTime: 53.5998ms/batch\n",
      "Train Epochs: 5 [31424/60000 ( 52%)]\tLoss: 1.687591\tTime: 49.5000ms/batch\n",
      "Train Epochs: 5 [32064/60000 ( 53%)]\tLoss: 1.699083\tTime: 53.7727ms/batch\n",
      "Train Epochs: 5 [32704/60000 ( 54%)]\tLoss: 1.700485\tTime: 49.0999ms/batch\n",
      "Train Epochs: 5 [33344/60000 ( 56%)]\tLoss: 1.647882\tTime: 44.6599ms/batch\n",
      "Train Epochs: 5 [33984/60000 ( 57%)]\tLoss: 1.694647\tTime: 51.9115ms/batch\n",
      "Train Epochs: 5 [34624/60000 ( 58%)]\tLoss: 1.714524\tTime: 50.2001ms/batch\n",
      "Train Epochs: 5 [35264/60000 ( 59%)]\tLoss: 1.678753\tTime: 48.6998ms/batch\n",
      "Train Epochs: 5 [35904/60000 ( 60%)]\tLoss: 1.762860\tTime: 49.9999ms/batch\n",
      "Train Epochs: 5 [36544/60000 ( 61%)]\tLoss: 1.729826\tTime: 45.0998ms/batch\n",
      "Train Epochs: 5 [37184/60000 ( 62%)]\tLoss: 1.606276\tTime: 44.2000ms/batch\n",
      "Train Epochs: 5 [37824/60000 ( 63%)]\tLoss: 1.684229\tTime: 45.3001ms/batch\n",
      "Train Epochs: 5 [38464/60000 ( 64%)]\tLoss: 1.707518\tTime: 46.9000ms/batch\n",
      "Train Epochs: 5 [39104/60000 ( 65%)]\tLoss: 1.650811\tTime: 43.7000ms/batch\n",
      "Train Epochs: 5 [39744/60000 ( 66%)]\tLoss: 1.647176\tTime: 44.2002ms/batch\n",
      "Train Epochs: 5 [40384/60000 ( 67%)]\tLoss: 1.680960\tTime: 46.0627ms/batch\n",
      "Train Epochs: 5 [41024/60000 ( 68%)]\tLoss: 1.698527\tTime: 44.9001ms/batch\n",
      "Train Epochs: 5 [41664/60000 ( 69%)]\tLoss: 1.610159\tTime: 45.2002ms/batch\n",
      "Train Epochs: 5 [42304/60000 ( 70%)]\tLoss: 1.600357\tTime: 42.6999ms/batch\n",
      "Train Epochs: 5 [42944/60000 ( 72%)]\tLoss: 1.591097\tTime: 47.3005ms/batch\n",
      "Train Epochs: 5 [43584/60000 ( 73%)]\tLoss: 1.628944\tTime: 44.3000ms/batch\n",
      "Train Epochs: 5 [44224/60000 ( 74%)]\tLoss: 1.565851\tTime: 43.8998ms/batch\n",
      "Train Epochs: 5 [44864/60000 ( 75%)]\tLoss: 1.640734\tTime: 45.7996ms/batch\n",
      "Train Epochs: 5 [45504/60000 ( 76%)]\tLoss: 1.578896\tTime: 47.8648ms/batch\n",
      "Train Epochs: 5 [46144/60000 ( 77%)]\tLoss: 1.619667\tTime: 45.8998ms/batch\n",
      "Train Epochs: 5 [46784/60000 ( 78%)]\tLoss: 1.571363\tTime: 45.7003ms/batch\n",
      "Train Epochs: 5 [47424/60000 ( 79%)]\tLoss: 1.557190\tTime: 44.7161ms/batch\n",
      "Train Epochs: 5 [48064/60000 ( 80%)]\tLoss: 1.584586\tTime: 46.0001ms/batch\n",
      "Train Epochs: 5 [48704/60000 ( 81%)]\tLoss: 1.619663\tTime: 47.5002ms/batch\n",
      "Train Epochs: 5 [49344/60000 ( 82%)]\tLoss: 1.641258\tTime: 44.2002ms/batch\n",
      "Train Epochs: 5 [49984/60000 ( 83%)]\tLoss: 1.610329\tTime: 45.0000ms/batch\n",
      "Train Epochs: 5 [50624/60000 ( 84%)]\tLoss: 1.693700\tTime: 41.8998ms/batch\n",
      "Train Epochs: 5 [51264/60000 ( 85%)]\tLoss: 1.565860\tTime: 45.0001ms/batch\n",
      "Train Epochs: 5 [51904/60000 ( 86%)]\tLoss: 1.598974\tTime: 45.0001ms/batch\n",
      "Train Epochs: 5 [52544/60000 ( 88%)]\tLoss: 1.664300\tTime: 42.8000ms/batch\n",
      "Train Epochs: 5 [53184/60000 ( 89%)]\tLoss: 1.640280\tTime: 45.3997ms/batch\n",
      "Train Epochs: 5 [53824/60000 ( 90%)]\tLoss: 1.565970\tTime: 43.2999ms/batch\n",
      "Train Epochs: 5 [54464/60000 ( 91%)]\tLoss: 1.616929\tTime: 46.6605ms/batch\n",
      "Train Epochs: 5 [55104/60000 ( 92%)]\tLoss: 1.581384\tTime: 44.9631ms/batch\n",
      "Train Epochs: 5 [55744/60000 ( 93%)]\tLoss: 1.574554\tTime: 45.9001ms/batch\n",
      "Train Epochs: 5 [56384/60000 ( 94%)]\tLoss: 1.549661\tTime: 42.3602ms/batch\n",
      "Train Epochs: 5 [57024/60000 ( 95%)]\tLoss: 1.621362\tTime: 44.9001ms/batch\n",
      "Train Epochs: 5 [57664/60000 ( 96%)]\tLoss: 1.534523\tTime: 45.4999ms/batch\n",
      "Train Epochs: 5 [58304/60000 ( 97%)]\tLoss: 1.669554\tTime: 43.4169ms/batch\n",
      "Train Epochs: 5 [58944/60000 ( 98%)]\tLoss: 1.585164\tTime: 44.7019ms/batch\n",
      "Train Epochs: 5 [59584/60000 ( 99%)]\tLoss: 1.596036\tTime: 43.7000ms/batch\n",
      "\n",
      "Test set: Average loss: 1.5249, Accuracy: 9365/10000 (93.650%)\n",
      "\n"
     ]
    }
   ],
   "source": [
    "epoch_log = train(model, device, trainloader, optimizer, epochs, log_interval)\n",
    "for key, value in epoch_log.items():\n",
    "    train_log[key] += value\n",
    "val_loss, val_accuracy = test(model, device, testloader, log_interval)\n",
    "val_log['loss'].append(val_loss)\n",
    "val_log['accuracy'].append(val_accuracy)"
   ]
  },
  {
   "cell_type": "code",
   "execution_count": 77,
   "metadata": {},
   "outputs": [
    {
     "name": "stdout",
     "output_type": "stream",
     "text": [
      "torch.Size([10, 1, 5, 5])\n",
      "Parameter containing:\n",
      "tensor([[[[ 2.2074e-01,  2.0578e-01,  1.6322e-01,  2.1723e-01,  3.0272e-01],\n",
      "          [ 2.5488e-01, -8.4131e-02, -1.9849e-01, -7.8274e-02,  4.9785e-02],\n",
      "          [-1.0414e-01, -1.3694e-01, -3.0042e-01, -1.3523e-01, -2.5750e-01],\n",
      "          [-1.8836e-01,  1.1695e-04, -2.9899e-01, -1.2311e-01, -1.9712e-01],\n",
      "          [ 6.5718e-02,  2.2553e-02, -2.1019e-01, -1.3402e-01, -3.3100e-01]]],\n",
      "\n",
      "\n",
      "        [[[-9.4847e-02, -5.3109e-02, -3.1367e-01, -3.9694e-01, -3.5343e-01],\n",
      "          [-1.9011e-01, -1.0286e-01, -9.6404e-02, -2.9327e-01, -3.1201e-01],\n",
      "          [ 2.2961e-01, -1.9372e-01, -1.1373e-01, -5.3126e-02,  3.0653e-01],\n",
      "          [ 1.7150e-01,  3.9911e-01,  3.4411e-01,  4.7913e-01,  2.9815e-01],\n",
      "          [ 1.0967e-01,  4.4695e-02,  5.2903e-02,  2.3858e-01,  2.0836e-02]]],\n",
      "\n",
      "\n",
      "        [[[-6.6349e-02,  1.2851e-01,  1.0383e-01,  1.3482e-01,  2.6842e-02],\n",
      "          [ 2.0742e-01,  1.3696e-01,  2.4051e-01,  1.8393e-01,  7.3725e-02],\n",
      "          [ 2.4427e-01,  2.2344e-01,  1.4289e-01,  1.1619e-01,  2.4704e-01],\n",
      "          [-6.0866e-02, -2.5224e-01, -3.5071e-01,  5.6906e-02, -4.8495e-02],\n",
      "          [-3.3009e-01, -1.4284e-01, -2.6150e-01, -3.3480e-01, -2.4938e-01]]],\n",
      "\n",
      "\n",
      "        [[[ 1.3438e-01, -1.9276e-01, -6.0349e-02, -5.9345e-02, -1.9016e-01],\n",
      "          [-3.1807e-02, -7.6691e-02, -2.6131e-01, -1.4025e-01, -2.7284e-01],\n",
      "          [-3.0092e-01,  1.7774e-02, -3.0691e-01, -2.5453e-01, -2.2871e-01],\n",
      "          [ 2.5505e-02, -2.9231e-01, -1.8114e-01, -1.5340e-01, -2.9608e-02],\n",
      "          [-1.8819e-01, -2.2560e-01, -1.8165e-01, -1.0805e-01, -6.5304e-02]]],\n",
      "\n",
      "\n",
      "        [[[-1.4767e-01, -2.9387e-01, -1.5923e-01,  2.2038e-01,  1.7167e-01],\n",
      "          [-3.2779e-01, -3.0769e-01, -4.0210e-02,  1.7988e-01,  2.9671e-01],\n",
      "          [-2.8570e-02, -3.2998e-01, -2.2591e-01,  1.6667e-01,  2.3339e-01],\n",
      "          [-3.2074e-01, -4.0567e-02,  8.6226e-02,  3.4068e-01,  4.1463e-01],\n",
      "          [-8.7337e-02, -3.0724e-02, -8.1973e-02,  3.4909e-01,  4.6109e-01]]],\n",
      "\n",
      "\n",
      "        [[[ 3.0585e-01,  2.8767e-02,  2.5254e-01, -4.0518e-02,  1.4651e-01],\n",
      "          [ 2.6456e-01,  1.9428e-01,  4.6334e-02,  3.5481e-01,  2.8342e-01],\n",
      "          [-2.1801e-01, -6.4692e-02,  1.3118e-01,  1.8563e-01,  4.5737e-03],\n",
      "          [-4.0375e-01, -2.3714e-01, -3.2256e-02, -2.8658e-01, -1.2998e-01],\n",
      "          [-3.1520e-01, -6.8020e-02, -2.3438e-01, -2.0184e-01, -5.8701e-02]]],\n",
      "\n",
      "\n",
      "        [[[ 3.8342e-01,  1.0168e-01,  1.4158e-01, -6.2345e-02, -2.1747e-01],\n",
      "          [ 2.8520e-01,  6.4047e-02,  1.2771e-01, -3.3669e-01, -2.3825e-01],\n",
      "          [ 4.6371e-01,  3.2207e-01, -1.1723e-01, -2.5536e-01, -1.9431e-01],\n",
      "          [ 3.8771e-01,  7.7353e-02, -1.7428e-01, -2.3118e-01, -3.4073e-02],\n",
      "          [ 2.7423e-01,  9.3155e-02,  4.9401e-02, -1.8014e-01, -2.9091e-01]]],\n",
      "\n",
      "\n",
      "        [[[ 7.4885e-02,  1.8358e-01,  3.8763e-01,  2.8529e-01,  2.7011e-02],\n",
      "          [-3.2343e-03,  1.0310e-01,  3.2765e-01,  3.3834e-01,  3.2271e-01],\n",
      "          [-2.9956e-01, -3.0589e-01,  7.8917e-02,  5.9109e-02,  3.9780e-01],\n",
      "          [-3.1749e-01, -3.7584e-01, -2.8150e-01, -1.3878e-01,  2.8413e-01],\n",
      "          [-2.5760e-01, -3.7903e-01, -2.0650e-02, -1.7713e-01, -2.7864e-02]]],\n",
      "\n",
      "\n",
      "        [[[ 3.4710e-01,  3.5795e-01,  2.3370e-01,  1.3967e-02,  1.4423e-01],\n",
      "          [ 3.7651e-02, -1.2135e-01, -1.0050e-01,  1.8873e-01, -8.7492e-02],\n",
      "          [-2.6185e-01, -6.2746e-02, -1.2184e-01,  6.0954e-02,  9.2825e-02],\n",
      "          [-7.3528e-02, -1.0523e-01, -1.1244e-01, -1.8245e-01, -2.3850e-01],\n",
      "          [-3.2143e-01, -3.4064e-01, -2.4242e-01, -1.4281e-01, -2.6815e-01]]],\n",
      "\n",
      "\n",
      "        [[[-1.2852e-01, -2.7670e-02, -1.3883e-01, -3.7292e-01, -9.4852e-02],\n",
      "          [ 3.1297e-01, -2.1426e-02, -3.1619e-01, -1.8465e-01, -4.5422e-01],\n",
      "          [ 2.9167e-01,  7.9475e-02, -4.1126e-02, -3.6077e-01, -1.7906e-01],\n",
      "          [ 7.2815e-02,  4.7417e-01,  4.2437e-01,  2.6003e-01,  1.4904e-01],\n",
      "          [ 5.5482e-02, -3.4146e-03,  2.4306e-01,  7.2425e-02,  1.0647e-01]]]],\n",
      "       requires_grad=True)\n",
      "torch.Size([10])\n",
      "Parameter containing:\n",
      "tensor([ 0.1315,  0.2457,  0.3708,  0.0477,  0.1014,  0.0142,  0.1173,  0.2906,\n",
      "        -0.1155,  0.0654], requires_grad=True)\n",
      "torch.Size([20, 10, 5, 5])\n",
      "Parameter containing:\n",
      "tensor([[[[-4.9904e-02, -5.2361e-02, -6.3366e-02, -5.2211e-02, -8.1190e-02],\n",
      "          [-1.1534e-01, -1.0374e-01,  6.1407e-02, -1.0196e-02,  3.6835e-03],\n",
      "          [-1.7896e-03, -1.0067e-01,  2.5819e-02,  3.9375e-02,  5.9779e-02],\n",
      "          [ 2.6257e-02, -1.0094e-01,  1.2820e-02,  4.2148e-02,  5.6758e-02],\n",
      "          [-1.5732e-02, -1.3467e-01, -1.0593e-01, -1.1147e-01,  5.4231e-02]],\n",
      "\n",
      "         [[ 4.5488e-02, -1.2351e-02,  8.6674e-02,  6.2917e-02,  1.4556e-01],\n",
      "          [ 2.5226e-02,  1.0550e-01,  7.5962e-02,  3.2350e-02,  1.4424e-01],\n",
      "          [-7.5807e-02, -1.3339e-02, -8.5888e-02, -2.8907e-02,  2.8283e-02],\n",
      "          [-1.6920e-01, -1.1331e-01,  6.5004e-02,  5.8072e-02,  5.9725e-03],\n",
      "          [-1.4660e-01, -8.5911e-02,  1.6379e-01,  9.1024e-02,  6.8354e-02]],\n",
      "\n",
      "         [[-8.9023e-02, -1.9037e-02,  2.3648e-02, -9.5281e-02, -3.7440e-02],\n",
      "          [ 1.3634e-02, -5.1245e-02, -3.3188e-02,  5.8072e-02,  8.8952e-02],\n",
      "          [ 6.9833e-02,  3.1223e-02, -1.7304e-02, -1.0268e-02, -2.6537e-02],\n",
      "          [-1.0294e-01, -9.3965e-02, -1.1611e-01, -9.9580e-02,  5.9421e-02],\n",
      "          [ 6.0526e-02,  1.4936e-01,  1.3781e-01,  1.5325e-01,  1.4188e-01]],\n",
      "\n",
      "         ...,\n",
      "\n",
      "         [[-1.2193e-01, -8.8067e-04, -1.2248e-01, -9.1480e-02, -1.1189e-01],\n",
      "          [-4.1882e-02, -8.6582e-02, -9.0277e-02,  2.9718e-02,  1.6866e-01],\n",
      "          [ 1.2881e-01,  6.0515e-02, -5.4720e-02,  5.6154e-02,  8.2039e-02],\n",
      "          [ 1.8968e-01,  1.3891e-02, -2.4548e-02, -7.2637e-02, -8.9824e-02],\n",
      "          [ 2.1164e-01,  1.1253e-01,  6.1592e-02, -6.0309e-02, -6.8728e-03]],\n",
      "\n",
      "         [[-1.0827e-01, -6.6661e-02, -7.9529e-02, -8.7041e-02, -9.5020e-02],\n",
      "          [-7.4438e-02, -1.7016e-01, -1.0411e-01, -4.4300e-02, -5.4640e-02],\n",
      "          [-9.2225e-02, -8.7658e-02, -1.5092e-02, -1.1437e-02,  5.8669e-02],\n",
      "          [ 8.4410e-03, -1.5459e-01, -1.0016e-01, -1.0294e-01, -8.9262e-02],\n",
      "          [ 2.6159e-02, -1.0552e-02,  6.3136e-02, -3.7624e-02,  3.7665e-02]],\n",
      "\n",
      "         [[ 8.3680e-02, -1.0219e-02, -5.7259e-02,  6.8383e-02,  1.5942e-01],\n",
      "          [ 1.4760e-01,  1.1185e-01,  3.9606e-02, -3.2013e-02,  3.7674e-02],\n",
      "          [-1.2868e-01,  1.0352e-01,  5.9255e-02,  4.1170e-02, -9.5597e-02],\n",
      "          [-1.1290e-01,  6.2747e-02,  2.1639e-01,  1.1409e-01, -1.0833e-01],\n",
      "          [-1.5494e-01,  2.9380e-02,  1.8587e-01,  1.7565e-01,  8.5309e-02]]],\n",
      "\n",
      "\n",
      "        [[[ 2.8295e-02,  8.6012e-02, -1.8168e-03,  3.4848e-02,  2.2498e-02],\n",
      "          [ 4.7489e-03,  6.5900e-02,  7.9829e-03,  6.1507e-02, -8.8180e-02],\n",
      "          [ 3.0282e-02,  7.6035e-02, -3.4063e-02, -1.6780e-02, -1.2569e-01],\n",
      "          [-2.0858e-02, -7.1536e-02, -1.3584e-01, -9.9929e-02, -1.8155e-02],\n",
      "          [-1.6310e-02, -4.0561e-02, -1.2176e-01, -3.3516e-02,  4.9303e-02]],\n",
      "\n",
      "         [[-1.3680e-01, -9.0978e-02, -3.7972e-02, -1.1334e-01, -7.1267e-02],\n",
      "          [-5.4048e-02,  2.0880e-03, -1.5993e-02, -3.3159e-02,  3.5042e-02],\n",
      "          [-2.3169e-02,  2.5114e-02, -7.1245e-03,  1.1610e-01,  1.0502e-01],\n",
      "          [ 5.1236e-02,  8.0229e-02,  1.3005e-01,  1.7284e-01, -2.3598e-02],\n",
      "          [ 6.8548e-02, -1.9288e-02,  3.1736e-02, -3.3234e-02, -4.6605e-02]],\n",
      "\n",
      "         [[ 9.0235e-02,  4.4153e-02, -2.1417e-02, -4.6887e-02, -7.8973e-02],\n",
      "          [ 8.7423e-02, -1.9208e-02, -1.1463e-01, -9.0851e-02, -1.6069e-01],\n",
      "          [-5.9214e-02, -4.1191e-02, -1.4384e-01, -1.6648e-01, -9.4478e-02],\n",
      "          [-4.7157e-03, -9.5042e-02, -1.4701e-01, -4.7856e-02, -2.8332e-02],\n",
      "          [ 1.3804e-01,  1.1850e-01,  5.9278e-02,  7.5006e-02,  9.3873e-02]],\n",
      "\n",
      "         ...,\n",
      "\n",
      "         [[-4.5082e-02, -1.3298e-01, -1.6601e-01, -1.6735e-01,  7.8126e-02],\n",
      "          [-1.4613e-02, -5.0873e-02, -1.3991e-01, -1.5764e-01, -4.2329e-02],\n",
      "          [-1.3855e-01, -1.8148e-01, -2.0925e-01, -1.1394e-01,  5.6537e-03],\n",
      "          [-1.0445e-01, -1.7477e-01, -1.2058e-01, -5.9734e-02,  1.7405e-02],\n",
      "          [ 7.5232e-02,  1.0026e-01,  2.3180e-02,  7.6197e-02, -3.1280e-02]],\n",
      "\n",
      "         [[ 2.4555e-02,  1.8310e-02,  5.6963e-02,  5.3594e-02, -5.8793e-02],\n",
      "          [-2.6576e-02,  9.7096e-02,  1.1665e-01, -1.2829e-02, -8.9995e-02],\n",
      "          [-1.8213e-03,  5.9568e-02,  2.3551e-02, -4.8231e-02, -1.8323e-01],\n",
      "          [-1.4950e-02, -9.3627e-02, -1.6545e-01, -1.6841e-01, -1.3622e-01],\n",
      "          [ 5.7813e-02, -1.9670e-02,  9.5947e-03, -9.6652e-02, -8.5237e-02]],\n",
      "\n",
      "         [[-1.1172e-01,  2.7229e-02,  1.7643e-02, -7.5836e-02, -1.7575e-01],\n",
      "          [-4.4135e-02, -3.2242e-02, -5.8810e-02, -6.9252e-02, -1.1643e-01],\n",
      "          [ 7.5395e-02,  4.0241e-02, -2.3521e-02,  7.8825e-02, -8.5817e-04],\n",
      "          [ 8.6639e-02,  1.2115e-01,  1.5141e-01,  2.7858e-02,  5.1671e-02],\n",
      "          [-1.0629e-02,  2.0541e-02, -5.1124e-03,  1.0499e-01,  1.4562e-01]]],\n",
      "\n",
      "\n",
      "        [[[ 1.9957e-03,  3.7211e-02, -3.0850e-02,  2.2304e-02, -5.2159e-05],\n",
      "          [-7.5334e-02,  3.9383e-02,  1.4788e-01,  3.1393e-02, -4.3216e-04],\n",
      "          [-1.6007e-01, -8.7262e-02,  4.1811e-02,  6.3661e-02,  7.0646e-02],\n",
      "          [ 1.3595e-02, -3.5318e-02, -3.4607e-02, -1.9800e-02, -8.4543e-02],\n",
      "          [ 2.7856e-02,  1.2048e-02, -3.8298e-02,  2.9369e-02,  4.1620e-02]],\n",
      "\n",
      "         [[-1.2078e-01, -9.6504e-02,  3.0663e-02,  8.0713e-02,  1.0490e-01],\n",
      "          [-5.4144e-03, -2.6188e-04, -5.4720e-02, -1.0670e-02, -3.4927e-02],\n",
      "          [ 7.2201e-02,  6.4343e-02,  4.5240e-02,  6.2027e-02,  3.0841e-02],\n",
      "          [-6.9724e-02,  8.0360e-02,  1.8538e-01,  2.0176e-01,  1.2394e-01],\n",
      "          [-1.5439e-01, -8.0265e-02,  1.0283e-01,  1.0211e-01,  2.8728e-02]],\n",
      "\n",
      "         [[-4.1397e-02, -1.4943e-02, -5.6267e-03,  2.1557e-02,  9.0030e-02],\n",
      "          [-1.0003e-01,  6.1060e-02,  4.4465e-02,  4.8994e-02, -2.5457e-02],\n",
      "          [ 8.8520e-02,  4.4521e-02, -2.5364e-03, -3.2149e-02, -5.7876e-02],\n",
      "          [ 1.6478e-01,  9.7605e-02, -4.2691e-02, -3.3531e-02,  4.3172e-02],\n",
      "          [ 8.1617e-03,  3.2264e-02,  8.6495e-02,  5.8188e-02,  1.6827e-01]],\n",
      "\n",
      "         ...,\n",
      "\n",
      "         [[-7.4626e-02, -7.7656e-02, -6.6102e-02,  1.0100e-01,  9.4314e-02],\n",
      "          [-1.3651e-01, -1.5284e-01, -1.1816e-01,  5.5428e-02,  6.0021e-02],\n",
      "          [ 5.9933e-03, -1.0697e-01, -1.4235e-01, -9.7111e-02,  6.6365e-02],\n",
      "          [ 2.1837e-01,  1.5300e-01,  6.5254e-02,  4.7819e-02, -6.2344e-02],\n",
      "          [ 1.2310e-01,  1.8100e-01,  1.5529e-01,  1.3938e-01,  1.4076e-01]],\n",
      "\n",
      "         [[-3.9255e-02,  5.2764e-02,  8.5771e-02,  3.7814e-02, -1.6320e-02],\n",
      "          [-1.1470e-01, -2.6363e-04, -7.8652e-03,  2.3659e-02,  1.0913e-01],\n",
      "          [-1.1575e-01, -4.9929e-02, -6.4828e-02,  1.9793e-02,  3.3247e-02],\n",
      "          [ 9.2229e-02,  3.0439e-02, -8.5090e-02, -9.3765e-02,  1.3583e-02],\n",
      "          [ 3.9152e-02,  8.6648e-02, -5.5325e-02,  2.8358e-02,  2.6742e-02]],\n",
      "\n",
      "         [[-1.3327e-02,  2.0781e-02, -5.0640e-02,  4.9179e-02,  1.5837e-01],\n",
      "          [ 9.0474e-02,  4.3865e-03, -5.6542e-02, -1.5039e-01, -6.4876e-03],\n",
      "          [ 1.1357e-01,  2.1576e-01,  1.7454e-01,  1.5992e-03,  1.6942e-02],\n",
      "          [-9.9867e-02,  1.3448e-01,  2.0476e-01,  2.3071e-01,  8.3129e-02],\n",
      "          [-1.8612e-01, -6.8322e-02,  1.1321e-01,  1.5355e-01,  7.8799e-02]]],\n",
      "\n",
      "\n",
      "        ...,\n",
      "\n",
      "\n",
      "        [[[ 2.4012e-02,  7.6933e-03, -3.7476e-02, -5.3256e-02, -7.2223e-02],\n",
      "          [ 9.2023e-03, -2.7868e-02,  1.9182e-02, -2.5534e-02,  2.3421e-02],\n",
      "          [ 3.8256e-02, -1.4765e-02, -5.5898e-02, -1.6483e-02, -4.1744e-02],\n",
      "          [-1.7919e-02, -3.4279e-02,  1.0023e-02, -3.1295e-02, -4.0295e-02],\n",
      "          [-2.0590e-02,  3.3670e-02, -6.6503e-02, -7.1084e-02, -4.7150e-02]],\n",
      "\n",
      "         [[-2.5740e-02, -7.4433e-03, -6.0405e-03, -1.2799e-02,  1.7537e-02],\n",
      "          [-4.3699e-02,  4.2991e-02,  1.5707e-02, -5.8933e-02, -5.4064e-02],\n",
      "          [-2.2132e-03,  1.6284e-02, -2.0707e-02, -5.9410e-02,  3.9310e-02],\n",
      "          [-1.4016e-02,  4.7806e-02, -1.6878e-02, -6.0093e-02, -4.3794e-03],\n",
      "          [ 4.0159e-02, -5.0742e-02,  6.1108e-02,  5.8411e-02,  3.6375e-02]],\n",
      "\n",
      "         [[ 4.9114e-02, -2.2937e-02, -5.5065e-02, -5.6307e-02, -3.8512e-02],\n",
      "          [-6.4733e-02, -3.2410e-02, -3.5536e-02,  3.3619e-02,  3.9558e-02],\n",
      "          [-2.4471e-02,  3.1162e-02,  1.6432e-02,  2.5645e-02, -6.2865e-02],\n",
      "          [ 4.3533e-02,  7.8598e-03,  2.8108e-02, -1.2839e-02,  3.8993e-02],\n",
      "          [-2.2304e-02, -4.6740e-02, -2.9395e-02,  1.4068e-02, -5.4755e-02]],\n",
      "\n",
      "         ...,\n",
      "\n",
      "         [[ 4.4749e-02,  5.6360e-02, -5.8870e-03, -4.4653e-02,  5.1347e-02],\n",
      "          [-3.0458e-02, -8.4256e-03,  1.6971e-02,  2.8259e-02, -5.3445e-03],\n",
      "          [ 2.4094e-02,  1.2106e-02, -3.3774e-02, -5.9713e-02,  5.0065e-02],\n",
      "          [ 1.6665e-02,  1.8536e-03, -6.9729e-02, -3.6662e-02,  4.8452e-02],\n",
      "          [-1.7562e-02, -2.0051e-02,  3.3842e-02, -3.6022e-02,  1.9243e-03]],\n",
      "\n",
      "         [[-1.1699e-02, -9.1711e-03, -9.9436e-03,  6.3661e-03,  1.3100e-02],\n",
      "          [-3.1903e-02,  1.1203e-02, -4.7551e-02, -2.6763e-02,  1.3946e-02],\n",
      "          [-2.7860e-02, -4.5934e-02, -4.0282e-02,  1.4998e-02, -6.6297e-02],\n",
      "          [ 2.8402e-02, -2.2761e-02, -2.4313e-03, -2.7420e-02, -2.0892e-02],\n",
      "          [ 1.2161e-02, -2.2463e-02,  5.8940e-02, -4.8907e-02,  3.1574e-02]],\n",
      "\n",
      "         [[-4.7667e-03, -1.0031e-02, -3.7946e-02, -1.9172e-02,  2.7774e-02],\n",
      "          [ 1.6026e-02, -1.1220e-02, -7.6709e-03,  1.9869e-02,  5.3758e-03],\n",
      "          [-2.5287e-02, -1.8590e-02,  5.9971e-03,  5.6530e-03, -6.5974e-02],\n",
      "          [ 4.8507e-02, -4.9597e-02, -2.6245e-02, -5.9027e-02, -1.0373e-02],\n",
      "          [ 4.3724e-02, -5.5782e-02,  1.0156e-02,  1.0038e-03,  3.2338e-02]]],\n",
      "\n",
      "\n",
      "        [[[ 8.5959e-03,  1.6838e-02, -2.7469e-03, -1.2911e-01, -3.2725e-02],\n",
      "          [-2.2366e-02,  3.8557e-02,  2.2724e-02, -1.4552e-01, -1.6030e-01],\n",
      "          [-3.5613e-02, -1.1393e-01, -1.7653e-01, -8.4160e-02, -1.8461e-02],\n",
      "          [ 5.3846e-02, -7.4023e-02, -5.2764e-03, -4.5731e-02,  1.2353e-02],\n",
      "          [ 1.2051e-01, -1.3692e-02,  4.1812e-02,  5.9260e-02, -5.5605e-02]],\n",
      "\n",
      "         [[-4.9921e-02, -4.7281e-02, -1.1075e-01, -7.7278e-02,  1.1064e-01],\n",
      "          [ 2.6630e-02,  4.3022e-02,  6.6766e-02,  5.6372e-02,  5.5712e-02],\n",
      "          [ 1.7148e-01,  1.6103e-01,  8.7214e-02, -5.5856e-02, -6.7444e-02],\n",
      "          [ 9.0275e-02,  2.8987e-02, -1.8857e-01, -1.1045e-01, -1.3246e-02],\n",
      "          [-4.6418e-02, -1.3040e-01, -1.2792e-01,  8.6962e-02,  1.2675e-01]],\n",
      "\n",
      "         [[-3.8532e-02, -3.1150e-02, -8.3352e-02, -1.2794e-01, -1.0256e-01],\n",
      "          [ 1.8783e-03, -9.0273e-02, -1.5157e-01, -1.4413e-01,  1.0646e-01],\n",
      "          [ 4.2618e-02, -2.2947e-02, -1.1307e-01, -4.0534e-02,  8.0690e-02],\n",
      "          [ 1.6693e-01,  7.3140e-03, -2.9296e-02,  9.6293e-02,  1.8862e-02],\n",
      "          [ 9.1513e-02, -2.6021e-02,  6.7381e-02,  5.3772e-02, -6.7901e-02]],\n",
      "\n",
      "         ...,\n",
      "\n",
      "         [[-1.9742e-02,  3.1652e-02,  1.8440e-01,  1.6746e-01, -7.2710e-02],\n",
      "          [-9.1200e-02, -4.8823e-02,  4.6115e-02,  9.8209e-02, -5.6943e-02],\n",
      "          [-1.3842e-01, -1.3733e-01, -5.0946e-02, -3.2496e-02,  1.5616e-02],\n",
      "          [ 1.1441e-01,  7.3318e-02,  4.1217e-02, -5.0561e-02, -1.8921e-02],\n",
      "          [ 3.9979e-02,  7.9056e-02,  1.0593e-01,  6.9690e-02,  1.9002e-02]],\n",
      "\n",
      "         [[-4.6466e-02,  6.5240e-02, -3.7900e-02, -9.4306e-02, -1.5026e-01],\n",
      "          [ 2.2280e-02,  2.6098e-02, -6.9973e-02, -2.2351e-01, -1.4149e-01],\n",
      "          [ 4.3527e-02, -8.9159e-03, -1.1247e-01, -1.6178e-01,  7.5631e-02],\n",
      "          [ 5.3017e-02, -6.2819e-02, -9.9505e-02, -4.3817e-02,  4.7224e-02],\n",
      "          [ 1.5434e-01, -4.1274e-02, -3.7492e-03, -3.5487e-02,  1.9736e-03]],\n",
      "\n",
      "         [[-5.5727e-02, -1.9990e-02, -1.2004e-01,  8.7356e-02,  1.0862e-01],\n",
      "          [ 3.0278e-02,  8.9416e-02, -8.9112e-02, -1.0990e-01, -2.0530e-02],\n",
      "          [ 1.2327e-01,  1.4261e-01, -1.1626e-02, -9.3110e-02, -5.5591e-02],\n",
      "          [-1.5497e-02, -4.4660e-02, -7.6813e-02, -1.0882e-03,  8.4213e-02],\n",
      "          [-1.5960e-01, -1.4037e-01,  6.0175e-02,  5.1881e-02,  1.7993e-01]]],\n",
      "\n",
      "\n",
      "        [[[ 7.2929e-06, -3.2787e-02, -3.8668e-02, -6.2019e-02,  1.8614e-02],\n",
      "          [ 2.6550e-02,  9.8200e-03,  5.5176e-02, -5.1086e-02, -4.2235e-02],\n",
      "          [ 1.4155e-02, -4.1613e-03,  3.1134e-03,  5.9364e-02, -5.1579e-02],\n",
      "          [ 4.4721e-02,  2.2608e-02,  3.3291e-02,  1.9620e-03,  8.8717e-03],\n",
      "          [-5.6842e-02, -2.8235e-02, -1.4706e-02,  8.3938e-04, -1.9662e-02]],\n",
      "\n",
      "         [[-5.4717e-02,  1.9203e-02,  3.8893e-02,  1.8262e-02, -1.7878e-02],\n",
      "          [ 1.7975e-02, -1.5927e-03,  1.0483e-02, -3.0869e-02, -4.9225e-02],\n",
      "          [ 2.4517e-02, -6.6092e-02, -7.5676e-03,  8.2732e-03,  4.5298e-02],\n",
      "          [-5.5464e-02, -7.9849e-03, -8.9610e-03,  4.5268e-03, -3.2603e-02],\n",
      "          [ 4.2552e-02,  2.8466e-02,  2.3518e-02, -2.1886e-02, -5.1701e-02]],\n",
      "\n",
      "         [[ 5.7557e-02, -6.1486e-02, -3.0834e-02, -2.6994e-02, -1.3297e-02],\n",
      "          [ 5.1613e-02, -3.9197e-02, -4.2313e-02, -6.1371e-03, -3.1519e-02],\n",
      "          [ 2.7625e-02,  2.0023e-02,  1.4311e-02, -5.3890e-02, -3.0237e-02],\n",
      "          [ 3.0618e-02,  4.6212e-02, -6.2799e-02, -2.8360e-02, -1.1169e-02],\n",
      "          [-4.9662e-02, -6.1517e-02,  1.3082e-02, -4.7599e-02,  6.9031e-03]],\n",
      "\n",
      "         ...,\n",
      "\n",
      "         [[-1.2917e-02,  4.2227e-02,  2.3767e-02,  4.5942e-02,  4.7119e-02],\n",
      "          [-4.1093e-02, -5.2140e-03,  2.4483e-02, -2.5889e-02, -6.4777e-03],\n",
      "          [-3.7678e-02, -5.3234e-03,  5.2819e-02, -5.5788e-02, -7.1545e-03],\n",
      "          [ 3.8885e-02, -6.1671e-02,  1.9075e-02, -5.9466e-02,  4.7436e-02],\n",
      "          [ 4.8551e-02, -1.1503e-02,  4.9226e-02, -3.8509e-04, -4.1030e-02]],\n",
      "\n",
      "         [[-4.2757e-02, -4.0296e-02,  4.2486e-02,  5.1273e-02,  3.0479e-02],\n",
      "          [-1.1379e-02, -1.3637e-02, -3.5064e-02, -3.1209e-03,  2.5241e-02],\n",
      "          [-1.9957e-02,  2.6830e-02, -3.0689e-02,  2.5762e-02,  3.7388e-02],\n",
      "          [-3.6547e-02,  5.9842e-02,  5.5702e-02, -3.7912e-04,  3.7169e-03],\n",
      "          [ 4.8300e-02,  2.2229e-02, -1.8885e-02, -6.7724e-02,  4.0345e-02]],\n",
      "\n",
      "         [[-5.6733e-02,  4.8989e-02,  2.6068e-03,  3.5676e-02,  1.8353e-02],\n",
      "          [-2.2505e-02, -2.6526e-02,  6.3958e-03, -3.9932e-02, -1.5192e-02],\n",
      "          [ 4.0220e-02, -2.3870e-02, -2.9840e-02, -4.7039e-03, -5.6343e-02],\n",
      "          [-8.8983e-05, -3.3993e-02, -1.2761e-02, -5.5558e-02,  1.1747e-04],\n",
      "          [-6.4431e-02, -5.6694e-02,  2.7091e-02, -2.1092e-03,  4.4192e-02]]]],\n"
     ]
    },
    {
     "name": "stdout",
     "output_type": "stream",
     "text": [
      "       requires_grad=True)\n",
      "torch.Size([20])\n",
      "Parameter containing:\n",
      "tensor([-0.0345,  0.0614, -0.0323,  0.0249, -0.0607, -0.0156, -0.0418, -0.0274,\n",
      "         0.0524, -0.0199,  0.0678,  0.0325, -0.0527,  0.0067, -0.0443,  0.0506,\n",
      "        -0.0301, -0.0343,  0.0629, -0.0171], requires_grad=True)\n",
      "torch.Size([50, 320])\n",
      "Parameter containing:\n",
      "tensor([[-0.0037, -0.0051, -0.0016,  ...,  0.0030, -0.0312, -0.0321],\n",
      "        [-0.0009, -0.0347,  0.0200,  ...,  0.0016,  0.0257, -0.0002],\n",
      "        [ 0.0424,  0.0012,  0.0281,  ...,  0.0576,  0.0596, -0.0061],\n",
      "        ...,\n",
      "        [ 0.0211, -0.0789,  0.0187,  ..., -0.0176,  0.0334, -0.0059],\n",
      "        [-0.0416,  0.0424,  0.0465,  ...,  0.0264,  0.0182, -0.0072],\n",
      "        [-0.0264,  0.0016, -0.0667,  ...,  0.0260,  0.0371,  0.0101]],\n",
      "       requires_grad=True)\n",
      "torch.Size([50])\n",
      "Parameter containing:\n",
      "tensor([ 0.0878,  0.0311,  0.0396,  0.0988, -0.0561, -0.0712,  0.0431,  0.0152,\n",
      "         0.0314, -0.0561, -0.0640, -0.0507,  0.0276,  0.0851,  0.0174, -0.0412,\n",
      "         0.0949, -0.0390,  0.0709,  0.0164,  0.0027, -0.0477,  0.0530, -0.0340,\n",
      "        -0.0032, -0.0648, -0.0336,  0.0727,  0.0084, -0.0137,  0.0641, -0.0133,\n",
      "         0.0672,  0.0607,  0.0459,  0.0097,  0.0458,  0.0356, -0.0508, -0.0604,\n",
      "         0.0212, -0.0869,  0.0523,  0.0354,  0.0306,  0.0723,  0.0819,  0.0181,\n",
      "         0.0917,  0.0258], requires_grad=True)\n",
      "torch.Size([10, 50])\n",
      "Parameter containing:\n",
      "tensor([[-1.1268e-01, -1.5223e-01,  1.0643e-01, -2.6973e-01,  1.9849e-03,\n",
      "         -1.9340e-02, -2.4348e-01,  9.8425e-02,  1.1475e-01, -1.3015e-01,\n",
      "         -9.6918e-02, -1.3782e-01, -8.0022e-02, -1.1798e-01,  3.8435e-02,\n",
      "          1.0996e-01, -1.6600e-01,  8.9168e-02, -1.2503e-01,  1.0124e-01,\n",
      "          2.4237e-01,  1.0412e-01, -1.9813e-01, -8.2309e-02,  1.1213e-01,\n",
      "         -6.1575e-02,  1.0280e-01, -2.1020e-01, -9.9112e-02, -1.9428e-01,\n",
      "         -8.6272e-02, -7.3003e-03, -2.0299e-01,  9.3090e-02, -6.7149e-02,\n",
      "          1.7093e-01, -1.3451e-01, -1.7110e-02,  1.2106e-01,  1.1858e-01,\n",
      "         -6.7222e-02, -3.3563e-02,  1.1151e-01, -2.0931e-01, -2.5270e-01,\n",
      "          1.3669e-01, -1.3231e-01,  1.2581e-01, -1.8732e-01,  1.9667e-01],\n",
      "        [ 1.4245e-01,  1.4873e-01,  9.3772e-02,  5.7325e-02, -2.0581e-01,\n",
      "         -1.5695e-01,  8.0690e-02,  7.0045e-02, -1.7136e-02,  5.3116e-02,\n",
      "         -1.1168e-01, -2.1239e-01, -4.3559e-02,  6.3739e-02,  1.1662e-01,\n",
      "         -2.5120e-01,  9.6298e-02, -2.7472e-01,  9.8627e-02, -8.1623e-02,\n",
      "         -6.3562e-02, -2.8512e-01,  2.7660e-02,  1.0641e-01,  9.5108e-02,\n",
      "         -1.5477e-01, -2.9786e-01,  7.5792e-02,  1.2433e-02, -1.7039e-01,\n",
      "          1.0488e-01, -1.1959e-01,  1.2545e-01,  8.1229e-02,  2.0243e-01,\n",
      "         -1.7492e-01,  3.2347e-02,  1.5266e-01, -1.7101e-01, -1.3207e-01,\n",
      "         -3.0707e-02, -2.0051e-01,  1.0588e-01, -1.9868e-02, -2.3490e-02,\n",
      "         -1.5946e-01,  1.1594e-01, -1.2208e-01,  8.2350e-02, -7.1694e-02],\n",
      "        [ 1.3708e-01,  2.9811e-02,  6.0603e-02, -1.5558e-01,  8.7380e-02,\n",
      "          1.8946e-01, -1.7645e-01,  7.3616e-02,  1.7591e-02,  1.6653e-01,\n",
      "          1.2171e-02,  3.4809e-02, -3.8478e-02, -1.7723e-01, -5.2234e-02,\n",
      "          1.7728e-02,  7.6211e-02, -2.0317e-01, -1.7444e-01,  9.7727e-02,\n",
      "         -9.9234e-02, -3.0583e-02, -1.7637e-01,  4.2361e-02,  1.5119e-01,\n",
      "         -1.1416e-01, -1.1189e-01, -1.7961e-01,  1.6794e-01,  1.4370e-01,\n",
      "         -1.0628e-01, -1.3134e-01, -4.5598e-03, -1.5285e-01, -1.3820e-01,\n",
      "          2.2994e-03, -2.2362e-01,  1.4789e-01,  1.0566e-01,  1.1044e-01,\n",
      "         -9.3669e-02,  4.2428e-02,  1.1957e-01,  7.0654e-02,  1.6766e-02,\n",
      "         -1.7316e-01,  1.2663e-01,  1.1713e-01, -1.7360e-01, -1.1070e-01],\n",
      "        [-7.5892e-02,  1.7891e-01,  2.3430e-02, -2.5846e-04, -2.0906e-01,\n",
      "         -5.1252e-02, -2.1105e-01, -1.0652e-01,  1.2133e-01,  1.6144e-01,\n",
      "          6.5393e-02,  4.8638e-02, -1.1756e-01,  9.5226e-02,  1.2627e-01,\n",
      "          4.1174e-02, -1.8850e-01, -1.1809e-01, -1.6712e-01, -6.4673e-02,\n",
      "         -3.4883e-02, -7.2317e-02,  1.1480e-01, -1.5479e-01, -6.2738e-02,\n",
      "          1.8978e-02, -1.2233e-02,  1.7843e-02,  1.0268e-01,  1.7870e-01,\n",
      "         -1.3635e-01, -2.2036e-01, -1.4635e-01, -2.9285e-01, -1.2733e-01,\n",
      "          9.6424e-02,  8.5823e-02, -1.0546e-01,  7.2949e-02,  1.1186e-01,\n",
      "         -8.7868e-02,  6.0045e-02,  1.2291e-01, -1.0912e-02,  1.2880e-01,\n",
      "         -1.6936e-01, -2.4540e-01,  1.1187e-01, -3.2377e-02, -1.5169e-01],\n",
      "        [ 3.5109e-02, -1.9500e-01, -3.4666e-01, -1.2893e-01,  1.1460e-01,\n",
      "          1.3090e-01,  1.1132e-01, -4.5077e-02, -3.0592e-01, -3.7805e-02,\n",
      "         -1.7378e-01,  1.3927e-01,  1.4410e-01,  5.1450e-02,  5.2136e-02,\n",
      "         -1.8532e-01,  1.0302e-01, -6.1343e-02,  8.0874e-02, -1.8572e-01,\n",
      "         -2.0944e-03, -2.1531e-01,  8.7935e-02,  5.9595e-03, -7.3918e-02,\n",
      "          5.1189e-02,  1.2792e-01,  1.0331e-01, -1.6533e-02, -1.8281e-02,\n",
      "         -2.1128e-01,  1.2913e-01,  1.1303e-01,  3.9791e-02, -2.0493e-01,\n",
      "          1.1437e-01,  1.2207e-01, -7.1940e-02, -3.9293e-02, -2.2454e-01,\n",
      "         -1.5027e-01,  8.6665e-02, -2.6757e-01,  1.5357e-01,  9.1232e-02,\n",
      "         -6.5982e-02,  3.9325e-02,  5.7320e-02, -2.4912e-02,  1.6926e-03],\n",
      "        [-2.9577e-01,  1.4468e-01,  5.3163e-02, -3.8417e-02, -4.0835e-02,\n",
      "         -3.3208e-02, -5.0907e-02,  1.6257e-01,  1.3853e-01, -6.0740e-02,\n",
      "          4.4864e-02,  5.0996e-02, -6.3488e-02,  5.8472e-02,  3.6348e-02,\n",
      "          5.7250e-02, -2.3583e-01,  1.8679e-01, -1.1631e-01, -1.6617e-01,\n",
      "          1.1745e-01, -6.4529e-02,  1.1675e-01, -1.5037e-01, -2.0588e-01,\n",
      "          1.6388e-01,  8.6115e-02, -1.2974e-01, -2.5039e-01, -2.4026e-02,\n",
      "         -1.1531e-01,  8.3579e-03, -8.1380e-02,  1.4461e-01, -1.3185e-01,\n",
      "          1.3623e-01,  2.5125e-02, -2.2851e-01, -1.1937e-01, -6.9431e-02,\n",
      "         -2.7183e-02,  9.8094e-02,  6.9281e-02, -1.1584e-02,  8.8782e-02,\n",
      "          6.8138e-02, -2.1729e-01,  1.0516e-01,  1.0571e-01, -8.2237e-02],\n",
      "        [ 1.3427e-01, -5.3305e-02, -2.1894e-02, -2.7350e-01,  8.1697e-02,\n",
      "         -2.8335e-02,  7.8119e-02,  1.2225e-01, -2.3639e-02, -2.4308e-01,\n",
      "          4.5028e-02, -9.9999e-02,  8.5219e-03, -2.1762e-01,  8.5821e-02,\n",
      "          5.2324e-02,  1.3048e-01, -8.2495e-02,  6.8637e-02,  1.3511e-01,\n",
      "          7.0287e-02, -6.1061e-03, -2.2001e-01, -1.7663e-01, -1.2754e-01,\n",
      "          7.6700e-02,  1.1363e-01, -1.5621e-01,  9.5008e-02, -2.1038e-01,\n",
      "         -2.2594e-01,  9.4119e-02, -1.7300e-01,  1.3592e-01, -4.6751e-02,\n",
      "          1.9635e-01, -1.0278e-01, -9.0611e-02, -1.9061e-01, -1.0842e-01,\n",
      "         -2.6686e-01,  5.1719e-03,  2.3443e-02,  1.7516e-01, -1.6293e-01,\n",
      "         -2.5231e-01,  7.4112e-02,  1.2808e-01,  9.7706e-02, -1.5611e-01],\n",
      "        [ 2.6635e-02,  4.2217e-02,  1.5913e-02,  1.3187e-01, -1.0789e-01,\n",
      "         -2.0367e-01, -2.5985e-01, -2.5434e-01,  9.6743e-02,  1.4080e-01,\n",
      "         -2.2671e-01,  1.2347e-01,  4.5748e-02, -2.1053e-01, -2.4651e-01,\n",
      "          5.8706e-02, -6.7509e-02,  1.5090e-01, -1.1253e-01, -2.8619e-01,\n",
      "         -5.7734e-02,  1.2477e-01,  6.0270e-02, -1.3199e-02,  3.0294e-02,\n",
      "         -1.7468e-01,  2.7294e-02, -3.9650e-02, -2.4775e-02,  1.5050e-01,\n",
      "          8.3548e-02, -6.0107e-02,  1.2940e-01, -1.6319e-01,  8.8400e-02,\n",
      "          2.5271e-02,  1.3249e-01,  2.4467e-02,  7.9985e-02,  8.5041e-02,\n",
      "          9.0258e-02, -2.6619e-01,  7.6964e-02, -1.5817e-01, -1.4702e-01,\n",
      "          1.3335e-01,  9.2636e-02, -2.7531e-01, -1.4569e-01,  1.9189e-01],\n",
      "        [ 1.1958e-01,  1.0538e-01,  4.1080e-02, -7.3246e-02, -2.8265e-02,\n",
      "         -1.0614e-01, -6.6924e-03,  9.0478e-02, -1.4262e-02,  1.2333e-01,\n",
      "          8.2258e-02,  1.4219e-01,  2.6625e-02, -1.2870e-01, -1.2844e-01,\n",
      "          6.8052e-02, -1.8567e-01, -5.9404e-02, -1.8328e-01, -5.8113e-02,\n",
      "         -2.4161e-02,  1.5675e-01,  7.5434e-02,  1.5896e-01, -1.8822e-01,\n",
      "          1.7443e-02,  5.5781e-02, -1.7817e-01, -1.0839e-01, -5.2278e-02,\n",
      "          1.0119e-01, -2.2330e-01, -1.3660e-01,  1.4202e-01, -2.8352e-02,\n",
      "         -9.4056e-03, -5.2227e-02,  1.2688e-01, -3.4815e-02,  3.1827e-03,\n",
      "          1.2335e-01,  1.2451e-01,  2.6324e-02, -4.8475e-03,  1.0193e-01,\n",
      "         -6.9549e-02, -1.3762e-01, -2.2494e-02,  9.1339e-02, -1.3112e-01],\n",
      "        [-1.0895e-02, -6.1630e-02, -2.4232e-01,  1.0449e-01,  1.1507e-01,\n",
      "          4.2692e-02,  4.5956e-03, -2.9115e-02, -7.0030e-02, -9.0070e-03,\n",
      "         -1.1231e-01,  1.3445e-01, -1.5129e-02,  4.3880e-02, -9.3573e-02,\n",
      "          1.0925e-02, -6.4505e-02,  1.5506e-01, -1.6010e-01, -1.9019e-01,\n",
      "         -5.3342e-02, -3.4476e-02,  9.8543e-02, -5.9918e-02, -4.2519e-02,\n",
      "         -1.1597e-01,  1.3365e-01,  8.2010e-02, -5.1989e-02,  8.6115e-03,\n",
      "          9.5589e-02,  8.7572e-02,  1.0504e-01, -1.4013e-01, -1.9718e-01,\n",
      "         -1.8947e-01,  1.2272e-01, -1.7631e-01,  7.2036e-02, -4.8370e-03,\n",
      "          9.7800e-02,  1.1561e-01, -2.0296e-01, -1.4802e-01,  1.0856e-01,\n",
      "          1.4613e-01, -4.7218e-02,  3.2867e-02,  1.0454e-02, -1.1809e-01]],\n"
     ]
    },
    {
     "name": "stdout",
     "output_type": "stream",
     "text": [
      "       requires_grad=True)\n",
      "torch.Size([10])\n",
      "Parameter containing:\n",
      "tensor([ 0.0171,  0.1294,  0.0287, -0.0041,  0.0648, -0.0051,  0.0586, -0.1724,\n",
      "        -0.0087,  0.1229], requires_grad=True)\n"
     ]
    }
   ],
   "source": [
    "for p in model.parameters():\n",
    "    print(p.shape)\n",
    "    print(p)"
   ]
  },
  {
   "cell_type": "markdown",
   "metadata": {},
   "source": [
    "# Is it working???\n",
    "The best way to figure out if it is working is to test the model on data the learning process hasn't used. Luckily we have such a dataset (it is basically a held out section of the data we already have used). I'm loading it all up the same way as before and printing them out to show you that they're different."
   ]
  },
  {
   "cell_type": "code",
   "execution_count": 78,
   "metadata": {},
   "outputs": [],
   "source": [
    "def collapse_nested_list(l):\n",
    "    return [a for b in l for a in b]\n",
    "\n",
    "def plot_training_log(train_log, val_log):\n",
    "    xx_train = np.array(train_log['n_samples'])\n",
    "    n_epoch = len(val_log['loss'])\n",
    "    xx_val = np.arange(1, n_epoch + 1) * xx_train[-1] / n_epoch\n",
    "    \n",
    "    plt.plot(xx_train, train_log['loss'], 'b')\n",
    "    # We prepend the first train loss score so there are enough datapoints to plot\n",
    "    # a line, even with a single epoch.\n",
    "    plt.plot(np.concatenate([[0], xx_val]), [train_log['loss'][0]] + val_log['loss'], 'ro-')\n",
    "    plt.title('Loss (lower is better)')\n",
    "    plt.xlabel('Number of samples presented (1000s)')\n",
    "    plt.ylabel('Cross-Entropy Loss')\n",
    "    plt.show()\n",
    "    \n",
    "    plt.plot(xx_train, train_log['accuracy'], 'b')\n",
    "    plt.plot(np.concatenate([[0], xx_val]), [train_log['accuracy'][0]] + val_log['accuracy'], 'ro-')\n",
    "    plt.title('Accuracy (higher is better)')\n",
    "    plt.xlabel('Number of samples presented (1000s)')\n",
    "    plt.ylabel('Accuracy (%)')\n",
    "    plt.show()\n",
    "    \n",
    "    if n_epoch > 1:\n",
    "        plt.plot(xx_train, train_log['accuracy'], 'b')\n",
    "        plt.plot(np.concatenate([[0], xx_val]), [10] + val_log['accuracy'], 'ro-')\n",
    "        plt.ylim([90, 100])\n",
    "        plt.title('Accuracy, zoomed in')\n",
    "        plt.xlabel('Number of samples presented (1000s)')\n",
    "        plt.ylabel('Accuracy (%)')\n",
    "        plt.show()\n",
    "    \n",
    "    plt.plot(xx_train, 1000 * np.array(train_log['time_batch_avg']), 'b')\n",
    "    plt.title('Training speed (lower is better)')\n",
    "    plt.xlabel('Number of samples presented (1000s)')\n",
    "    plt.ylabel('Duration per batch (ms)')\n",
    "    plt.show()"
   ]
  },
  {
   "cell_type": "code",
   "execution_count": 79,
   "metadata": {},
   "outputs": [
    {
     "data": {
      "image/png": "[encoded data removed]",
      "text/plain": [
       "<Figure size 432x288 with 1 Axes>"
      ]
     },
     "metadata": {
      "needs_background": "light"
     },
     "output_type": "display_data"
    },
    {
     "data": {
      "image/png": "[encoded data removed]",
      "text/plain": [
       "<Figure size 432x288 with 1 Axes>"
      ]
     },
     "metadata": {
      "needs_background": "light"
     },
     "output_type": "display_data"
    },
    {
     "data": {
      "image/png": "[encoded data removed]",
      "text/plain": [
       "<Figure size 432x288 with 1 Axes>"
      ]
     },
     "metadata": {
      "needs_background": "light"
     },
     "output_type": "display_data"
    }
   ],
   "source": [
    "plot_training_log(train_log, val_log)"
   ]
  },
  {
   "cell_type": "markdown",
   "metadata": {},
   "source": [
    "# Output Visualization"
   ]
  },
  {
   "cell_type": "markdown",
   "metadata": {},
   "source": [
    "Let's see how well we do over *all* of the test data!"
   ]
  },
  {
   "cell_type": "code",
   "execution_count": 80,
   "metadata": {},
   "outputs": [
    {
     "data": {
      "image/png": "[encoded data removed]",
      "text/plain": [
       "<Figure size 720x1440 with 10 Axes>"
      ]
     },
     "metadata": {
      "needs_background": "light"
     },
     "output_type": "display_data"
    }
   ],
   "source": [
    "images, labels = next(iter(testloader))\n",
    "if not no_cuda:\n",
    "    images = images.to(device)\n",
    "fig=plt.figure(figsize=(10, 20))\n",
    "for i in range (0, 10, 2):\n",
    "    img1 = images[i].view(1, 784)\n",
    "    img2 = images[i+1].view(1, 784)\n",
    "    with torch.no_grad():\n",
    "        if not no_cuda:\n",
    "            input = Variable(img1)\n",
    "            input = input.to(device)\n",
    "            output = model(input)\n",
    "            index = output.data.cpu().numpy().argmax()\n",
    "            fig.add_subplot(5, 2, i+1)\n",
    "            plt.imshow(img1.resize_(1, 28, 28).data.cpu().numpy().squeeze())\n",
    "            plt.title(\"Predicted Digit = {}\".format(index))\n",
    "            input = Variable(img2)\n",
    "            input = input.to(device)\n",
    "            output = model(input)\n",
    "            index = output.data.cpu().numpy().argmax()\n",
    "            fig.add_subplot(5, 2, i+2)\n",
    "            plt.imshow(img2.resize_(1, 28, 28).data.cpu().numpy().squeeze())\n",
    "            plt.title(\"Predicted Digit = {}\".format(index))\n",
    "        else:\n",
    "            logps = model(img1)\n",
    "            ps = torch.exp(logps)\n",
    "            probab = list(ps.numpy()[0])\n",
    "            fig.add_subplot(5, 2, i+1)\n",
    "            plt.imshow(img1.resize_(1, 28, 28).numpy().squeeze())\n",
    "            plt.title(\"Predicted Digit = {}\".format(probab.index(max(probab))))\n",
    "            logps = model(img2)\n",
    "            ps = torch.exp(logps)\n",
    "            probab = list(ps.numpy()[0])\n",
    "            fig.add_subplot(5, 2, i+2)\n",
    "            plt.imshow(img2.resize_(1, 28, 28).numpy().squeeze())\n",
    "            plt.title(\"Predicted Digit = {}\".format(probab.index(max(probab))))"
   ]
  },
  {
   "cell_type": "markdown",
   "metadata": {},
   "source": [
    "# Saving the Model\n",
    "Every framework is different - in this case PyTorch let's us save the model (which you remember is just a big matrix `W` and a vector `b`) to an internal format as well as to the ONNX format. These can then be loaded up as an asset to a program that is executed every time you need to recognize a digit!"
   ]
  },
  {
   "cell_type": "code",
   "execution_count": 81,
   "metadata": {},
   "outputs": [
    {
     "name": "stdout",
     "output_type": "stream",
     "text": [
      "Saved onnx model to model.onnx\n",
      "Saved PyTorch Model to model.pth\n"
     ]
    }
   ],
   "source": [
    "if not no_cuda:\n",
    "    x = torch.randint(255, (1, 28*28), dtype=torch.float).to(device) / 255\n",
    "else:\n",
    "    x = torch.randint(255, (1, 28*28), dtype=torch.float) / 255\n",
    "onnx.export(model, x, 'model.onnx')\n",
    "print('Saved onnx model to model.onnx')\n",
    "\n",
    "torch.save(model.state_dict(), 'model.pth')\n",
    "print('Saved PyTorch Model to model.pth')"
   ]
  },
  {
   "cell_type": "markdown",
   "metadata": {},
   "source": [
    "### What is ONNX?\n",
    "ONNX is an open format to represent deep learning models. With ONNX, AI developers can more easily move models between state-of-the-art tools and choose the combination that is best for them. ONNX is developed and supported by a community of partners.\n",
    "https://onnx.ai/"
   ]
  },
  {
   "cell_type": "markdown",
   "metadata": {},
   "source": [
    "# Play!\n",
    "Now that you've gone through the whole process, please go back up to play around! Try changing:\n",
    "1. The actual model! The other models are almost identical with the exception that they learn additional Matrices (W's and b's) that the images pass through to get the final answer.\n",
    "2. The hyperparameters like `learning_rate`, `batch_size`, and `epoch`. Does it make things better or worse? 92% is ok, does any other combination of model's and hyperparamters fare better?\n",
    "\n",
    "## Final Thoughts\n",
    "Would love your feedback! Was this helpful? Any parts confusing? Drop me a line!"
   ]
  },
  {
   "cell_type": "code",
   "execution_count": null,
   "metadata": {},
   "outputs": [],
   "source": []
  }
 ],
 "metadata": {
  "kernelspec": {
   "display_name": "Lab02",
   "language": "python",
   "name": "lab02"
  },
  "language_info": {
   "codemirror_mode": {
    "name": "ipython",
    "version": 3
   },
   "file_extension": ".py",
   "mimetype": "text/x-python",
   "name": "python",
   "nbconvert_exporter": "python",
   "pygments_lexer": "ipython3",
   "version": "3.5.6"
  }
 },
 "nbformat": 4,
 "nbformat_minor": 2
}
